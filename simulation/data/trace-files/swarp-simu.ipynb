{
 "cells": [
  {
   "cell_type": "code",
   "execution_count": 1,
   "metadata": {},
   "outputs": [
    {
     "name": "stdout",
     "output_type": "stream",
     "text": [
      "/usr/local/opt/python/bin/python3.7\n"
     ]
    },
    {
     "data": {
      "text/html": [
       "<style>.container { width:100% !important; }</style>"
      ],
      "text/plain": [
       "<IPython.core.display.HTML object>"
      ]
     },
     "metadata": {},
     "output_type": "display_data"
    }
   ],
   "source": [
    "import sys\n",
    "import os\n",
    "import numpy\n",
    "print(sys.executable)\n",
    "\n",
    "from IPython.core.display import display, HTML\n",
    "display(HTML(\"<style>.container { width:100% !important; }</style>\"))\n",
    "\n",
    "import importlib\n",
    "seaborn_found = importlib.util.find_spec('seaborn')\n",
    "if seaborn_found is None:\n",
    "    sys.write.stderr(\"[error] Seaborn package not found. exit\")\n",
    "    exit(-1)\n",
    "\n",
    "import seaborn as sns\n",
    "import pandas as pd\n",
    "\n",
    "import matplotlib as mpl\n",
    "\n",
    "mpl.use(\"pgf\")\n",
    "\n",
    "import matplotlib.pyplot as plt\n",
    "\n",
    "plt.rcParams.update({\n",
    "    \"font.family\": \"serif\",  # use serif/main font for text elements\n",
    "    \"text.usetex\": False,     # use inline math for ticks\n",
    "    \"pgf.rcfonts\": False,    # don't setup fonts from rc parameters\n",
    "    \"pgf.preamble\": [\n",
    "         \"\\\\usepackage{units}\",          # load additional packages\n",
    "         \"\\\\usepackage{metalogo}\",\n",
    "         \"\\\\usepackage{unicode-math}\",   # unicode math setup\n",
    "         r\"\\setmathfont{xits-math.otf}\",\n",
    "         ]\n",
    "})\n",
    "\n",
    "# plt.rc('text', usetex=False)\n",
    "\n",
    "plt.rcParams.update({\n",
    "    \"font.family\": \"serif\",\n",
    "    \"font.serif\": [],                    # use latex default serif font\n",
    "    \"font.size\": \"18\",\n",
    "})\n",
    "\n",
    "plt.rcParams.update({\n",
    "    \"pgf.texsystem\": \"pdflatex\",\n",
    "    \"pgf.preamble\": [\n",
    "         r\"\\usepackage[utf8x]{inputenc}\",\n",
    "         r\"\\usepackage[T1]{fontenc}\",\n",
    "         r\"\\usepackage{cmbright}\",\n",
    "         ]\n",
    "})\n",
    "\n",
    "\n",
    "sns.set(style=\"ticks\", color_codes=True)\n",
    "sns.set_context(\"paper\")\n",
    "sns.set_style(\"darkgrid\", {\"axes.facecolor\": \".9\", 'xtick.bottom': True, 'xtick.top': False, 'ytick.left': True, 'ytick.right': False})\n",
    "\n",
    "mpl.pyplot.close(\"all\")\n",
    "\n"
   ]
  },
  {
   "cell_type": "code",
   "execution_count": 2,
   "metadata": {},
   "outputs": [],
   "source": [
    "DIR=\"/Users/lpottier/research/usc-isi/projects/workflow-io-bb/simulation/output/\"\n",
    "# csv_file = DIR+\"/simu-bb-runs2020-1c.csv\"\n",
    "# csv_file = DIR+\"/simu-bb_runs2020-Xc.csv\"\n",
    "csv_file = DIR+\"/simu-bb_runs2020-multipipeline-1C.csv\"\n",
    "\n",
    "CORE=\"1\"\n",
    "PLOT_DIR=\"/Users/lpottier/research/usc-isi/projects/paper-workflow-bb/figures/plots/simu-swarp\"\n",
    "OUTPUT = PLOT_DIR+\"/\"+\"bb_runs2020-multipipeline-1C/\""
   ]
  },
  {
   "cell_type": "code",
   "execution_count": 3,
   "metadata": {},
   "outputs": [
    {
     "name": "stdout",
     "output_type": "stream",
     "text": [
      "Directory  /Users/lpottier/research/usc-isi/projects/paper-workflow-bb/figures/plots/simu-swarp/bb_runs2020-multipipeline-1C/  already exists\n"
     ]
    }
   ],
   "source": [
    "\n",
    "try:\n",
    "    # Create target Directory\n",
    "    os.mkdir(OUTPUT)\n",
    "    print(\"Directory \" , OUTPUT ,  \" Created \") \n",
    "except FileExistsError:\n",
    "    print(\"Directory \" , OUTPUT ,  \" already exists\")\n"
   ]
  },
  {
   "cell_type": "code",
   "execution_count": 4,
   "metadata": {},
   "outputs": [
    {
     "name": "stdout",
     "output_type": "stream",
     "text": [
      "         ID  AVG FITS  BB_TYPE      WORKFLOW  PLATFORM  NB_PIPELINE  PIPELINE  \\\n",
      "0  28171221    1    Y  PRIVATE   swarp-0.dax  cori.xml           16         1   \n",
      "1  28171221    1    Y  PRIVATE   swarp-1.dax  cori.xml           16         1   \n",
      "2  28171221    1    Y  PRIVATE  swarp-10.dax  cori.xml           16        10   \n",
      "3  28171221    1    Y  PRIVATE  swarp-11.dax  cori.xml           16        11   \n",
      "4  28171221    1    Y  PRIVATE  swarp-12.dax  cori.xml           16        12   \n",
      "\n",
      "   NB_CORES  BB_NB_FILES  DATA_MB   LATENCY  BANDWITH  SIMULATION_S  \\\n",
      "0         1           32  768.516  0.117647   2.32143       148.323   \n",
      "1         1           32  768.516  0.117647   2.32143       146.984   \n",
      "2         1           32  768.516  0.117647   2.32143       147.638   \n",
      "3         1           32  768.516  0.117647   2.32143       146.437   \n",
      "4         1           32  768.516  0.117647   2.32143       147.972   \n",
      "\n",
      "   MEASURED_MKSP_S  ERR_MKSP  MEASURED_WALLTIME_S  ERR_WALLTIME  \n",
      "0          160.569  0.076270              203.988      0.272885  \n",
      "1          158.846  0.074676              203.988      0.279446  \n",
      "2          159.875  0.076545              203.988      0.276243  \n",
      "3          157.955  0.072925              203.988      0.282132  \n",
      "4          160.452  0.077780              203.988      0.274603  \n"
     ]
    }
   ],
   "source": [
    "df = pd.read_csv(csv_file, sep=' ')\n",
    "print(df.head())\n",
    "# df.rename(columns={\"FILES\": \"BB_NB_FILES\", \"CORES\": \"NB_CORES\"})\n",
    "\n",
    "\n",
    "df.agg = df.groupby(['ID', 'NB_PIPELINE','FITS', 'BB_TYPE', 'BB_NB_FILES','AVG', 'NB_CORES'], as_index=False).agg({'MEASURED_MKSP_S': 'max', 'ERR_MKSP': 'max', 'SIMULATION_S': 'max', 'MEASURED_WALLTIME_S': 'max', 'ERR_WALLTIME': 'max'})"
   ]
  },
  {
   "cell_type": "code",
   "execution_count": 5,
   "metadata": {},
   "outputs": [
    {
     "data": {
      "text/html": [
       "<div>\n",
       "<style scoped>\n",
       "    .dataframe tbody tr th:only-of-type {\n",
       "        vertical-align: middle;\n",
       "    }\n",
       "\n",
       "    .dataframe tbody tr th {\n",
       "        vertical-align: top;\n",
       "    }\n",
       "\n",
       "    .dataframe thead th {\n",
       "        text-align: right;\n",
       "    }\n",
       "</style>\n",
       "<table border=\"1\" class=\"dataframe\">\n",
       "  <thead>\n",
       "    <tr style=\"text-align: right;\">\n",
       "      <th></th>\n",
       "      <th>ID</th>\n",
       "      <th>NB_PIPELINE</th>\n",
       "      <th>FITS</th>\n",
       "      <th>BB_TYPE</th>\n",
       "      <th>BB_NB_FILES</th>\n",
       "      <th>AVG</th>\n",
       "      <th>NB_CORES</th>\n",
       "      <th>MEASURED_MKSP_S</th>\n",
       "      <th>ERR_MKSP</th>\n",
       "      <th>SIMULATION_S</th>\n",
       "      <th>MEASURED_WALLTIME_S</th>\n",
       "      <th>ERR_WALLTIME</th>\n",
       "    </tr>\n",
       "  </thead>\n",
       "  <tbody>\n",
       "    <tr>\n",
       "      <th>0</th>\n",
       "      <td>28171216</td>\n",
       "      <td>1</td>\n",
       "      <td>Y</td>\n",
       "      <td>PRIVATE</td>\n",
       "      <td>32</td>\n",
       "      <td>1</td>\n",
       "      <td>1</td>\n",
       "      <td>117.903</td>\n",
       "      <td>0.034509</td>\n",
       "      <td>113.834</td>\n",
       "      <td>124.981</td>\n",
       "      <td>0.089188</td>\n",
       "    </tr>\n",
       "    <tr>\n",
       "      <th>1</th>\n",
       "      <td>28171216</td>\n",
       "      <td>1</td>\n",
       "      <td>Y</td>\n",
       "      <td>PRIVATE</td>\n",
       "      <td>32</td>\n",
       "      <td>2</td>\n",
       "      <td>1</td>\n",
       "      <td>115.369</td>\n",
       "      <td>0.019691</td>\n",
       "      <td>113.098</td>\n",
       "      <td>124.746</td>\n",
       "      <td>0.093378</td>\n",
       "    </tr>\n",
       "    <tr>\n",
       "      <th>2</th>\n",
       "      <td>28171216</td>\n",
       "      <td>1</td>\n",
       "      <td>Y</td>\n",
       "      <td>PRIVATE</td>\n",
       "      <td>32</td>\n",
       "      <td>3</td>\n",
       "      <td>1</td>\n",
       "      <td>116.286</td>\n",
       "      <td>0.025760</td>\n",
       "      <td>113.291</td>\n",
       "      <td>124.924</td>\n",
       "      <td>0.093125</td>\n",
       "    </tr>\n",
       "    <tr>\n",
       "      <th>3</th>\n",
       "      <td>28171216</td>\n",
       "      <td>1</td>\n",
       "      <td>Y</td>\n",
       "      <td>PRIVATE</td>\n",
       "      <td>32</td>\n",
       "      <td>4</td>\n",
       "      <td>1</td>\n",
       "      <td>116.588</td>\n",
       "      <td>0.026946</td>\n",
       "      <td>113.446</td>\n",
       "      <td>126.448</td>\n",
       "      <td>0.102821</td>\n",
       "    </tr>\n",
       "    <tr>\n",
       "      <th>4</th>\n",
       "      <td>28171216</td>\n",
       "      <td>1</td>\n",
       "      <td>Y</td>\n",
       "      <td>PRIVATE</td>\n",
       "      <td>32</td>\n",
       "      <td>5</td>\n",
       "      <td>1</td>\n",
       "      <td>115.949</td>\n",
       "      <td>0.022220</td>\n",
       "      <td>113.373</td>\n",
       "      <td>138.705</td>\n",
       "      <td>0.182632</td>\n",
       "    </tr>\n",
       "  </tbody>\n",
       "</table>\n",
       "</div>"
      ],
      "text/plain": [
       "         ID  NB_PIPELINE FITS  BB_TYPE  BB_NB_FILES  AVG  NB_CORES  \\\n",
       "0  28171216            1    Y  PRIVATE           32    1         1   \n",
       "1  28171216            1    Y  PRIVATE           32    2         1   \n",
       "2  28171216            1    Y  PRIVATE           32    3         1   \n",
       "3  28171216            1    Y  PRIVATE           32    4         1   \n",
       "4  28171216            1    Y  PRIVATE           32    5         1   \n",
       "\n",
       "   MEASURED_MKSP_S  ERR_MKSP  SIMULATION_S  MEASURED_WALLTIME_S  ERR_WALLTIME  \n",
       "0          117.903  0.034509       113.834              124.981      0.089188  \n",
       "1          115.369  0.019691       113.098              124.746      0.093378  \n",
       "2          116.286  0.025760       113.291              124.924      0.093125  \n",
       "3          116.588  0.026946       113.446              126.448      0.102821  \n",
       "4          115.949  0.022220       113.373              138.705      0.182632  "
      ]
     },
     "execution_count": 5,
     "metadata": {},
     "output_type": "execute_result"
    }
   ],
   "source": [
    "df.agg.head()"
   ]
  },
  {
   "cell_type": "code",
   "execution_count": 6,
   "metadata": {},
   "outputs": [
    {
     "name": "stderr",
     "output_type": "stream",
     "text": [
      "/usr/local/lib/python3.7/site-packages/ipykernel_launcher.py:1: UserWarning: Pandas doesn't allow columns to be created via a new attribute name - see https://pandas.pydata.org/pandas-docs/stable/indexing.html#attribute-access\n",
      "  \"\"\"Entry point for launching an IPython kernel.\n"
     ]
    }
   ],
   "source": [
    "df.real = pd.read_csv(\"/Users/lpottier/research/usc-isi/projects/workflow-io-bb/simulation/data/trace-files/swarp/shared-cori/bb_runs2020-multipipeline-1C.csv\", sep=' ')\n",
    "\n",
    "big = pd.merge(df, df.real, on=['ID', 'NB_PIPELINE','FITS', 'BB_TYPE', 'AVG', 'NB_CORES'])\n",
    "\n",
    "bigagg = big.groupby(['ID', 'NB_PIPELINE','FITS', 'BB_TYPE', 'AVG', 'NB_CORES'], as_index=False).agg({'MEASURED_MKSP_S': 'max', 'MAKESPAN_S': 'max', 'SIMULATION_S': 'max', 'MEASURED_WALLTIME_S': 'max', 'ERR_WALLTIME': 'max'})\n"
   ]
  },
  {
   "cell_type": "code",
   "execution_count": 7,
   "metadata": {},
   "outputs": [
    {
     "data": {
      "text/html": [
       "<div>\n",
       "<style scoped>\n",
       "    .dataframe tbody tr th:only-of-type {\n",
       "        vertical-align: middle;\n",
       "    }\n",
       "\n",
       "    .dataframe tbody tr th {\n",
       "        vertical-align: top;\n",
       "    }\n",
       "\n",
       "    .dataframe thead th {\n",
       "        text-align: right;\n",
       "    }\n",
       "</style>\n",
       "<table border=\"1\" class=\"dataframe\">\n",
       "  <thead>\n",
       "    <tr style=\"text-align: right;\">\n",
       "      <th></th>\n",
       "      <th>ID</th>\n",
       "      <th>NB_PIPELINE</th>\n",
       "      <th>FITS</th>\n",
       "      <th>BB_TYPE</th>\n",
       "      <th>AVG</th>\n",
       "      <th>NB_CORES</th>\n",
       "      <th>MEASURED_MKSP_S</th>\n",
       "      <th>MAKESPAN_S</th>\n",
       "      <th>SIMULATION_S</th>\n",
       "      <th>MEASURED_WALLTIME_S</th>\n",
       "      <th>ERR_WALLTIME</th>\n",
       "      <th>ERR</th>\n",
       "    </tr>\n",
       "  </thead>\n",
       "  <tbody>\n",
       "    <tr>\n",
       "      <th>0</th>\n",
       "      <td>28171216</td>\n",
       "      <td>1</td>\n",
       "      <td>Y</td>\n",
       "      <td>PRIVATE</td>\n",
       "      <td>1</td>\n",
       "      <td>1</td>\n",
       "      <td>117.903</td>\n",
       "      <td>118.376860</td>\n",
       "      <td>113.834</td>\n",
       "      <td>124.981</td>\n",
       "      <td>0.089188</td>\n",
       "      <td>3.990776</td>\n",
       "    </tr>\n",
       "    <tr>\n",
       "      <th>1</th>\n",
       "      <td>28171216</td>\n",
       "      <td>1</td>\n",
       "      <td>Y</td>\n",
       "      <td>PRIVATE</td>\n",
       "      <td>2</td>\n",
       "      <td>1</td>\n",
       "      <td>115.369</td>\n",
       "      <td>115.797671</td>\n",
       "      <td>113.098</td>\n",
       "      <td>124.746</td>\n",
       "      <td>0.093378</td>\n",
       "      <td>2.387019</td>\n",
       "    </tr>\n",
       "    <tr>\n",
       "      <th>2</th>\n",
       "      <td>28171216</td>\n",
       "      <td>1</td>\n",
       "      <td>Y</td>\n",
       "      <td>PRIVATE</td>\n",
       "      <td>3</td>\n",
       "      <td>1</td>\n",
       "      <td>116.286</td>\n",
       "      <td>116.324594</td>\n",
       "      <td>113.291</td>\n",
       "      <td>124.924</td>\n",
       "      <td>0.093125</td>\n",
       "      <td>2.677701</td>\n",
       "    </tr>\n",
       "    <tr>\n",
       "      <th>3</th>\n",
       "      <td>28171216</td>\n",
       "      <td>1</td>\n",
       "      <td>Y</td>\n",
       "      <td>PRIVATE</td>\n",
       "      <td>4</td>\n",
       "      <td>1</td>\n",
       "      <td>116.588</td>\n",
       "      <td>118.126835</td>\n",
       "      <td>113.446</td>\n",
       "      <td>126.448</td>\n",
       "      <td>0.102821</td>\n",
       "      <td>4.126047</td>\n",
       "    </tr>\n",
       "    <tr>\n",
       "      <th>4</th>\n",
       "      <td>28171216</td>\n",
       "      <td>1</td>\n",
       "      <td>Y</td>\n",
       "      <td>PRIVATE</td>\n",
       "      <td>5</td>\n",
       "      <td>1</td>\n",
       "      <td>115.949</td>\n",
       "      <td>116.434963</td>\n",
       "      <td>113.373</td>\n",
       "      <td>138.705</td>\n",
       "      <td>0.182632</td>\n",
       "      <td>2.700786</td>\n",
       "    </tr>\n",
       "  </tbody>\n",
       "</table>\n",
       "</div>"
      ],
      "text/plain": [
       "         ID  NB_PIPELINE FITS  BB_TYPE  AVG  NB_CORES  MEASURED_MKSP_S  \\\n",
       "0  28171216            1    Y  PRIVATE    1         1          117.903   \n",
       "1  28171216            1    Y  PRIVATE    2         1          115.369   \n",
       "2  28171216            1    Y  PRIVATE    3         1          116.286   \n",
       "3  28171216            1    Y  PRIVATE    4         1          116.588   \n",
       "4  28171216            1    Y  PRIVATE    5         1          115.949   \n",
       "\n",
       "   MAKESPAN_S  SIMULATION_S  MEASURED_WALLTIME_S  ERR_WALLTIME       ERR  \n",
       "0  118.376860       113.834              124.981      0.089188  3.990776  \n",
       "1  115.797671       113.098              124.746      0.093378  2.387019  \n",
       "2  116.324594       113.291              124.924      0.093125  2.677701  \n",
       "3  118.126835       113.446              126.448      0.102821  4.126047  \n",
       "4  116.434963       113.373              138.705      0.182632  2.700786  "
      ]
     },
     "execution_count": 7,
     "metadata": {},
     "output_type": "execute_result"
    }
   ],
   "source": [
    "bigagg['ERR'] = (abs(bigagg['MAKESPAN_S'] - bigagg['SIMULATION_S']) / bigagg['SIMULATION_S']) *100\n",
    "bigagg.head()"
   ]
  },
  {
   "cell_type": "code",
   "execution_count": 8,
   "metadata": {},
   "outputs": [
    {
     "name": "stdout",
     "output_type": "stream",
     "text": [
      "         ID  AVG FITS  BB_TYPE      WORKFLOW  PLATFORM  NB_PIPELINE  PIPELINE  \\\n",
      "0  28171221    1    Y  PRIVATE   swarp-0.dax  cori.xml           16         1   \n",
      "1  28171221    1    Y  PRIVATE   swarp-1.dax  cori.xml           16         1   \n",
      "2  28171221    1    Y  PRIVATE  swarp-10.dax  cori.xml           16        10   \n",
      "3  28171221    1    Y  PRIVATE  swarp-11.dax  cori.xml           16        11   \n",
      "4  28171221    1    Y  PRIVATE  swarp-12.dax  cori.xml           16        12   \n",
      "\n",
      "   NB_CORES  BB_NB_FILES  DATA_MB   LATENCY  BANDWITH  SIMULATION_S  \\\n",
      "0         1           32  768.516  0.117647   2.32143       148.323   \n",
      "1         1           32  768.516  0.117647   2.32143       146.984   \n",
      "2         1           32  768.516  0.117647   2.32143       147.638   \n",
      "3         1           32  768.516  0.117647   2.32143       146.437   \n",
      "4         1           32  768.516  0.117647   2.32143       147.972   \n",
      "\n",
      "   MEASURED_MKSP_S  ERR_MKSP  MEASURED_WALLTIME_S  ERR_WALLTIME  \n",
      "0          160.569  0.076270              203.988      0.272885  \n",
      "1          158.846  0.074676              203.988      0.279446  \n",
      "2          159.875  0.076545              203.988      0.276243  \n",
      "3          157.955  0.072925              203.988      0.282132  \n",
      "4          160.452  0.077780              203.988      0.274603  \n",
      "BB_NB_FILES : [32]\n",
      "BB_TYPE     : ['PRIVATE' 'STRIPED']\n",
      "BB_TYPE     : ['Y']\n",
      "NB_PIPELINE : [16  1 32  4  8]\n"
     ]
    }
   ],
   "source": [
    "print(df.head())\n",
    "print(\"BB_NB_FILES :\", df.BB_NB_FILES.unique())\n",
    "print(\"BB_TYPE     :\", df.BB_TYPE.unique())\n",
    "print(\"BB_TYPE     :\", df.FITS.unique())\n",
    "print(\"NB_PIPELINE :\", df.NB_PIPELINE.unique())"
   ]
  },
  {
   "cell_type": "code",
   "execution_count": 9,
   "metadata": {},
   "outputs": [
    {
     "name": "stderr",
     "output_type": "stream",
     "text": [
      "/usr/local/lib/python3.7/site-packages/ipykernel_launcher.py:26: UserWarning: Matplotlib is currently using pgf, which is a non-GUI backend, so cannot show the figure.\n"
     ]
    }
   ],
   "source": [
    "xlabel='Number of pipelines'\n",
    "ylabel='Execution time (s)'\n",
    "\n",
    "# name = col.split(\"_\")[0].lower()\n",
    "\n",
    "is_PRIVATE = bigagg['BB_TYPE']==\"PRIVATE\"\n",
    "\n",
    "f = plt.figure(figsize=(4, 3))\n",
    "\n",
    "g = sns.lineplot(x=\"NB_PIPELINE\", y=\"MAKESPAN_S\", data=bigagg[is_PRIVATE],  color=\"b\", markers=True)\n",
    "g = sns.lineplot(x=\"NB_PIPELINE\", y=\"SIMULATION_S\", data=bigagg[is_PRIVATE],  color=\"r\", markers=True)\n",
    "\n",
    "# ax2 = g.twinx()\n",
    "# sns.lineplot(x=\"NB_PIPELINE\", y=\"ERR\", data=bigagg[is_PRIVATE], markers='x', ax=ax2, ci=None, color=\"black\")\n",
    "\n",
    "g.legend(loc='upper left', title='', labels=[\"Measured makespan\", \"Simulated makespan\"])\n",
    "\n",
    "# ax2.legend(loc='lower right', title='', labels=[\"Error\"])\n",
    "# ax2.set(ylabel=\"Error (%)\")\n",
    "g.set(xlabel=xlabel, ylabel=ylabel, xticks=bigagg.NB_PIPELINE.unique())\n",
    "# plt.grid()\n",
    "\n",
    "plt.tight_layout()\n",
    "plt.savefig(OUTPUT+'swarp-simu-private-mksp-pipeline.pdf')\n",
    "plt.savefig(OUTPUT+'swarp-simu-private-mksp-pipeline.pgf')\n",
    "plt.show()"
   ]
  },
  {
   "cell_type": "code",
   "execution_count": 19,
   "metadata": {},
   "outputs": [
    {
     "name": "stdout",
     "output_type": "stream",
     "text": [
      "min error 1.7437664227745038 , avg error 6.02541057459444 , sd error 4.28390764168278 , max error 36.206739015124235\n"
     ]
    }
   ],
   "source": [
    "print(\"min error\",\n",
    "    min(bigagg[is_PRIVATE]['ERR']),\n",
    "    \", avg error\",\n",
    "    numpy.mean(bigagg[is_PRIVATE]['ERR']),\n",
    "    \", sd error\",\n",
    "    numpy.std(bigagg[is_PRIVATE]['ERR']),\n",
    "    \", max error\",\n",
    "    max(bigagg[is_PRIVATE]['ERR']),\n",
    ")"
   ]
  },
  {
   "cell_type": "code",
   "execution_count": 10,
   "metadata": {},
   "outputs": [
    {
     "name": "stderr",
     "output_type": "stream",
     "text": [
      "/usr/local/lib/python3.7/site-packages/ipykernel_launcher.py:23: UserWarning: Matplotlib is currently using pgf, which is a non-GUI backend, so cannot show the figure.\n"
     ]
    }
   ],
   "source": [
    "xlabel='Number of pipelines'\n",
    "ylabel='Execution time (s)'\n",
    "\n",
    "# name = col.split(\"_\")[0].lower()\n",
    "\n",
    "f = plt.figure(figsize=(4, 3))\n",
    "\n",
    "g = sns.lineplot(x=\"NB_PIPELINE\", y=\"MAKESPAN_S\", data=bigagg[~is_PRIVATE],  color=\"b\", markers=True)\n",
    "g = sns.lineplot(x=\"NB_PIPELINE\", y=\"SIMULATION_S\", data=bigagg[~is_PRIVATE],  color=\"r\", markers=True)\n",
    "\n",
    "# ax2 = g.twinx()\n",
    "# sns.lineplot(x=\"NB_PIPELINE\", y=\"ERR\", data=bigagg[~is_PRIVATE], markers='x', ax=ax2, ci=None, color=\"black\")\n",
    "\n",
    "# ax2.legend(loc='lower right', title='', labels=[\"Error\"])\n",
    "# ax2.set(ylabel=\"Error (%)\")\n",
    "\n",
    "g.legend(loc='upper left', title='', labels=[\"Measured makespan\", \"Simulated makespan\"])\n",
    "g.set(xlabel=xlabel, ylabel=ylabel, xticks=bigagg.NB_PIPELINE.unique())\n",
    "# plt.grid()\n",
    "plt.tight_layout()\n",
    "plt.savefig(OUTPUT+'swarp-simu-striped-mksp-pipeline.pdf')\n",
    "plt.savefig(OUTPUT+'swarp-simu-striped-mksp-pipeline.pgf')\n",
    "plt.show()"
   ]
  },
  {
   "cell_type": "code",
   "execution_count": 20,
   "metadata": {},
   "outputs": [
    {
     "name": "stdout",
     "output_type": "stream",
     "text": [
      "min error 7.193786742077829 , avg error 11.81031162046155 , sd error 2.2367719199878575 , max error 18.348975993435506\n"
     ]
    }
   ],
   "source": [
    "print(\"min error\",\n",
    "    min(bigagg[~is_PRIVATE]['ERR']),\n",
    "    \", avg error\",\n",
    "    numpy.mean(bigagg[~is_PRIVATE]['ERR']),\n",
    "    \", sd error\",\n",
    "    numpy.std(bigagg[~is_PRIVATE]['ERR']),\n",
    "    \", max error\",\n",
    "    max(bigagg[~is_PRIVATE]['ERR']),\n",
    ")"
   ]
  },
  {
   "cell_type": "code",
   "execution_count": null,
   "metadata": {},
   "outputs": [],
   "source": []
  }
 ],
 "metadata": {
  "kernelspec": {
   "display_name": "Python 3",
   "language": "python",
   "name": "python3"
  },
  "language_info": {
   "codemirror_mode": {
    "name": "ipython",
    "version": 3
   },
   "file_extension": ".py",
   "mimetype": "text/x-python",
   "name": "python",
   "nbconvert_exporter": "python",
   "pygments_lexer": "ipython3",
   "version": "3.7.6"
  }
 },
 "nbformat": 4,
 "nbformat_minor": 2
}
