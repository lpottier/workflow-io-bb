{
 "cells": [
  {
   "cell_type": "code",
   "execution_count": 1,
   "metadata": {},
   "outputs": [
    {
     "name": "stdout",
     "output_type": "stream",
     "text": [
      "/usr/local/opt/python/bin/python3.7\n"
     ]
    },
    {
     "data": {
      "text/html": [
       "<style>.container { width:100% !important; }</style>"
      ],
      "text/plain": [
       "<IPython.core.display.HTML object>"
      ]
     },
     "metadata": {},
     "output_type": "display_data"
    }
   ],
   "source": [
    "import sys\n",
    "import os\n",
    "print(sys.executable)\n",
    "\n",
    "from IPython.core.display import display, HTML\n",
    "display(HTML(\"<style>.container { width:100% !important; }</style>\"))\n",
    "\n",
    "import importlib\n",
    "seaborn_found = importlib.util.find_spec('seaborn')\n",
    "if seaborn_found is None:\n",
    "    sys.write.stderr(\"[error] Seaborn package not found. exit\")\n",
    "    exit(-1)\n",
    "\n",
    "import seaborn as sns\n",
    "import pandas as pd\n",
    "\n",
    "import matplotlib as mpl\n",
    "\n",
    "mpl.use(\"pgf\")\n",
    "\n",
    "import matplotlib.pyplot as plt\n",
    "\n",
    "plt.rcParams.update({\n",
    "    \"font.family\": \"serif\",  # use serif/main font for text elements\n",
    "    \"text.usetex\": False,     # use inline math for ticks\n",
    "    \"pgf.rcfonts\": False,    # don't setup fonts from rc parameters\n",
    "    \"pgf.preamble\": [\n",
    "         \"\\\\usepackage{units}\",          # load additional packages\n",
    "         \"\\\\usepackage{metalogo}\",\n",
    "         \"\\\\usepackage{unicode-math}\",   # unicode math setup\n",
    "         r\"\\setmathfont{xits-math.otf}\",\n",
    "         ]\n",
    "})\n",
    "\n",
    "# plt.rc('text', usetex=False)\n",
    "\n",
    "plt.rcParams.update({\n",
    "    \"font.family\": \"serif\",\n",
    "    \"font.serif\": [],                    # use latex default serif font\n",
    "    \"font.size\": \"18\",\n",
    "})\n",
    "\n",
    "plt.rcParams.update({\n",
    "    \"pgf.texsystem\": \"pdflatex\",\n",
    "    \"pgf.preamble\": [\n",
    "         r\"\\usepackage[utf8x]{inputenc}\",\n",
    "         r\"\\usepackage[T1]{fontenc}\",\n",
    "         r\"\\usepackage{cmbright}\",\n",
    "         ]\n",
    "})\n",
    "\n",
    "\n",
    "sns.set(style=\"ticks\", color_codes=True)\n",
    "sns.set_context(\"paper\")\n",
    "sns.set_style(\"darkgrid\", {\"axes.facecolor\": \".9\", 'xtick.bottom': True, 'xtick.top': False, 'ytick.left': True, 'ytick.right': False})\n",
    "\n",
    "mpl.pyplot.close(\"all\")\n",
    "\n",
    "\n",
    "tasks = [\"STAGEIN_TIME_S\", \"RESAMPLE_TIME_S\", \"COMBINE_TIME_S\", \"MAKESPAN_S\"]"
   ]
  },
  {
   "cell_type": "code",
   "execution_count": 2,
   "metadata": {},
   "outputs": [],
   "source": [
    "DIR=\"/Users/lpottier/research/usc-isi/projects/workflow-io-bb/data/traces/swarp/shared-cori/\"\n",
    "csv_file = DIR+\"/\"+\"bb_runs2020-32c.csv\"\n",
    "\n",
    "# DIR=\"/Users/lpottier/research/usc-isi/projects/workflow-io-bb/tools/\"\n",
    "# csv_file = DIR+\"/\"+\"swarp-run-1W-32c-raw.csv\"\n",
    "\n",
    "CORE=\"32\"\n",
    "PLOT_DIR=\"/Users/lpottier/research/usc-isi/projects/paper-workflow-bb/figures/plots/real-swarp\"\n",
    "OUTPUT = PLOT_DIR+\"/\"+\"swarp-1w-\"+CORE+\"c/\"\n"
   ]
  },
  {
   "cell_type": "code",
   "execution_count": 3,
   "metadata": {},
   "outputs": [
    {
     "name": "stdout",
     "output_type": "stream",
     "text": [
      "Directory  /Users/lpottier/research/usc-isi/projects/paper-workflow-bb/figures/plots/real-swarp/swarp-1w-32c/  already exists\n",
      "[ 0 16 24 32  8]\n",
      "[ 0 16 24 32  8]\n",
      "<class 'pandas.core.frame.DataFrame'>\n",
      "Int64Index: 300 entries, 0 to 299\n",
      "Data columns (total 24 columns):\n",
      "ID                     300 non-null int64\n",
      "START                  0 non-null float64\n",
      "END                    0 non-null float64\n",
      "FITS                   300 non-null object\n",
      "NB_PIPELINE            300 non-null int64\n",
      "NB_CORES               300 non-null int64\n",
      "AVG                    300 non-null int64\n",
      "PIPELINE               300 non-null int64\n",
      "BB_TYPE                300 non-null object\n",
      "BB_ALLOC_SIZE_MB       300 non-null float64\n",
      "TOTAL_NB_FILES         300 non-null int64\n",
      "BB_NB_FILES            300 non-null int64\n",
      "TOTAL_SIZE_FILES_MB    300 non-null float64\n",
      "BB_SIZE_FILES_MB       300 non-null float64\n",
      "MAKESPAN_S             300 non-null float64\n",
      "WALLTIME_S             300 non-null float64\n",
      "STAGEIN_TIME_S         300 non-null float64\n",
      "STAGEIN_WALLTIME_S     300 non-null float64\n",
      "RESAMPLE_TIME_S        300 non-null float64\n",
      "RESAMPLE_WALLTIME_S    300 non-null float64\n",
      "COMBINE_TIME_S         300 non-null float64\n",
      "COMBINE_WALLTIME_S     300 non-null float64\n",
      "STAGEOUT_TIME_S        300 non-null float64\n",
      "STAGEOUT_WALLTIME_S    300 non-null int64\n",
      "dtypes: float64(14), int64(8), object(2)\n",
      "memory usage: 58.6+ KB\n",
      "None\n"
     ]
    }
   ],
   "source": [
    "\n",
    "try:\n",
    "    # Create target Directory\n",
    "    os.mkdir(OUTPUT)\n",
    "    print(\"Directory \" , OUTPUT ,  \" Created \") \n",
    "except FileExistsError:\n",
    "    print(\"Directory \" , OUTPUT ,  \" already exists\")\n",
    "\n",
    "\n",
    "#csv_file = \"swarp_test_switches.csv\"\n",
    "df_swarp = pd.read_csv(csv_file, sep=' ')\n",
    "\n",
    "df_swarp_priv = df_swarp[df_swarp.BB_TYPE==\"PRIVATE\"]\n",
    "df_swarp_strip = df_swarp[df_swarp.BB_TYPE==\"STRIPED\"]\n",
    "\n",
    "print(df_swarp.BB_NB_FILES.unique())\n",
    "df_swarp = df_swarp.loc[df_swarp['BB_NB_FILES'].isin([0,8,16,24,32])]\n",
    "print(df_swarp.BB_NB_FILES.unique())\n",
    "\n",
    "print(df_swarp.info())"
   ]
  },
  {
   "cell_type": "code",
   "execution_count": 4,
   "metadata": {},
   "outputs": [
    {
     "name": "stdout",
     "output_type": "stream",
     "text": [
      "    FITS  BB_TYPE  NB_CORES  BB_NB_FILES  RESAMPLE_TIME_S  COMBINE_TIME_S\n",
      "0      N  PRIVATE        32            0           90.813          26.265\n",
      "1      N  PRIVATE        32            0           94.641          28.077\n",
      "2      N  PRIVATE        32            0           91.890          26.629\n",
      "3      N  PRIVATE        32            0           90.923          25.972\n",
      "4      N  PRIVATE        32            0           91.594          28.213\n",
      "5      N  PRIVATE        32            0           95.387          25.274\n",
      "6      N  PRIVATE        32            0           88.717          25.550\n",
      "7      N  PRIVATE        32            0           95.490          25.124\n",
      "8      N  PRIVATE        32            0           90.047          26.975\n",
      "9      N  PRIVATE        32            0           90.191          25.455\n",
      "10     N  PRIVATE        32            0          121.028          26.454\n",
      "11     N  PRIVATE        32            0          103.485          27.713\n",
      "12     N  PRIVATE        32            0           87.611          25.276\n",
      "13     N  PRIVATE        32            0           91.196          25.828\n",
      "14     N  PRIVATE        32            0          108.640          25.738\n",
      "15     Y  PRIVATE        32            0           87.463          22.874\n",
      "16     Y  PRIVATE        32            0           84.850          21.706\n",
      "17     Y  PRIVATE        32            0           85.655          22.939\n",
      "18     Y  PRIVATE        32            0           86.863          22.272\n",
      "19     Y  PRIVATE        32            0           86.132          23.523\n",
      "20     Y  PRIVATE        32            0           88.160          22.091\n",
      "21     Y  PRIVATE        32            0           87.417          22.767\n",
      "22     Y  PRIVATE        32            0           88.076          21.822\n",
      "23     Y  PRIVATE        32            0           85.549          24.292\n",
      "24     Y  PRIVATE        32            0           87.890          22.309\n",
      "25     Y  PRIVATE        32            0           86.386          22.068\n",
      "26     Y  PRIVATE        32            0           88.467          22.469\n",
      "27     Y  PRIVATE        32            0           85.398          22.201\n",
      "28     Y  PRIVATE        32            0           85.075          21.989\n",
      "29     Y  PRIVATE        32            0           86.434          23.024\n",
      "..   ...      ...       ...          ...              ...             ...\n",
      "210    N  STRIPED        32           32          102.104          42.222\n",
      "211    N  STRIPED        32           32          100.301          33.859\n",
      "212    N  STRIPED        32           32           96.873          40.437\n",
      "213    N  STRIPED        32           32           96.328          41.595\n",
      "214    N  STRIPED        32           32          101.797          45.139\n",
      "215    N  STRIPED        32           32           97.323          38.935\n",
      "216    N  STRIPED        32           32           97.842          41.381\n",
      "217    N  STRIPED        32           32           98.572          38.390\n",
      "218    N  STRIPED        32           32          101.470          37.344\n",
      "219    N  STRIPED        32           32          104.108          41.836\n",
      "220    N  STRIPED        32           32          101.945          38.401\n",
      "221    N  STRIPED        32           32           97.129          41.941\n",
      "222    N  STRIPED        32           32           99.062          44.836\n",
      "223    N  STRIPED        32           32           99.395          35.415\n",
      "224    N  STRIPED        32           32           98.885          40.785\n",
      "225    Y  STRIPED        32           32           97.679          40.655\n",
      "226    Y  STRIPED        32           32           97.079          37.243\n",
      "227    Y  STRIPED        32           32           96.635          38.495\n",
      "228    Y  STRIPED        32           32           96.233          38.277\n",
      "229    Y  STRIPED        32           32           97.209          38.619\n",
      "230    Y  STRIPED        32           32           96.740          37.769\n",
      "231    Y  STRIPED        32           32           96.017          37.097\n",
      "232    Y  STRIPED        32           32           95.964          37.382\n",
      "233    Y  STRIPED        32           32           95.882          38.585\n",
      "234    Y  STRIPED        32           32           95.389          39.023\n",
      "235    Y  STRIPED        32           32           99.476          38.877\n",
      "236    Y  STRIPED        32           32           95.274          36.904\n",
      "237    Y  STRIPED        32           32           94.726          37.817\n",
      "238    Y  STRIPED        32           32           96.286          38.765\n",
      "239    Y  STRIPED        32           32           98.974          47.501\n",
      "\n",
      "[300 rows x 6 columns]\n"
     ]
    }
   ],
   "source": [
    "small_dt = df_swarp[[\"FITS\", \"BB_TYPE\", \"NB_CORES\", \"BB_NB_FILES\",\"RESAMPLE_TIME_S\", \"COMBINE_TIME_S\"]]\n",
    "#small_dt = small_dt.sort_values(by=['NB_PIPELINE'])\n",
    "print(small_dt.sort_values(by=['NB_CORES', 'BB_NB_FILES']))"
   ]
  },
  {
   "cell_type": "code",
   "execution_count": 5,
   "metadata": {},
   "outputs": [
    {
     "name": "stdout",
     "output_type": "stream",
     "text": [
      "     NB_PIPELINE FITS  BB_NB_FILES  MAKESPAN_S\n",
      "0              1    N            0  117.172039\n",
      "1              1    N            0  122.814628\n",
      "2              1    N            0  118.663112\n",
      "3              1    N            0  117.028844\n",
      "4              1    N            0  120.190182\n",
      "5              1    N            0  120.850907\n",
      "6              1    N            0  114.438590\n",
      "7              1    N            0  120.748271\n",
      "8              1    N            0  117.174212\n",
      "9              1    N            0  115.770284\n",
      "10             1    N            0  147.647841\n",
      "11             1    N            0  131.344710\n",
      "12             1    N            0  113.013523\n",
      "13             1    N            0  117.271874\n",
      "14             1    N            0  134.498929\n",
      "30             1    N            0  111.536143\n",
      "31             1    N            0  111.201032\n",
      "32             1    N            0  113.952142\n",
      "33             1    N            0  112.891694\n",
      "34             1    N            0  111.582203\n",
      "35             1    N            0  116.218005\n",
      "36             1    N            0  114.860887\n",
      "37             1    N            0  113.470298\n",
      "38             1    N            0  112.867019\n",
      "39             1    N            0  111.302417\n",
      "40             1    N            0  112.772229\n",
      "41             1    N            0  116.079408\n",
      "42             1    N            0  111.859897\n",
      "43             1    N            0  116.225127\n",
      "44             1    N            0  116.693289\n",
      "..           ...  ...          ...         ...\n",
      "180            1    Y           32  111.209508\n",
      "181            1    Y           32  112.949682\n",
      "182            1    Y           32  110.640711\n",
      "183            1    Y           32  111.180534\n",
      "184            1    Y           32  110.843771\n",
      "185            1    Y           32  111.640079\n",
      "186            1    Y           32  110.703562\n",
      "187            1    Y           32  109.909310\n",
      "188            1    Y           32  112.202183\n",
      "189            1    Y           32  112.747624\n",
      "190            1    Y           32  111.031117\n",
      "191            1    Y           32  110.330984\n",
      "192            1    Y           32  113.616317\n",
      "193            1    Y           32  111.829246\n",
      "194            1    Y           32  110.264231\n",
      "225            1    Y           32  144.080495\n",
      "226            1    Y           32  140.421486\n",
      "227            1    Y           32  143.017758\n",
      "228            1    Y           32  140.251488\n",
      "229            1    Y           32  142.863587\n",
      "230            1    Y           32  140.516739\n",
      "231            1    Y           32  140.281067\n",
      "232            1    Y           32  139.861322\n",
      "233            1    Y           32  142.313513\n",
      "234            1    Y           32  140.869278\n",
      "235            1    Y           32  143.479685\n",
      "236            1    Y           32  137.800776\n",
      "237            1    Y           32  138.599709\n",
      "238            1    Y           32  141.396565\n",
      "239            1    Y           32  153.030153\n",
      "\n",
      "[300 rows x 4 columns]\n"
     ]
    }
   ],
   "source": [
    "small_dt = df_swarp[[\"NB_PIPELINE\", \"FITS\", \"BB_NB_FILES\" ,\"MAKESPAN_S\"]]\n",
    "#small_dt = small_dt.sort_values(by=['NB_PIPELINE'])\n",
    "print(small_dt.sort_values(by=['NB_PIPELINE', 'FITS', \"BB_NB_FILES\"]))"
   ]
  },
  {
   "cell_type": "code",
   "execution_count": 6,
   "metadata": {},
   "outputs": [
    {
     "name": "stdout",
     "output_type": "stream",
     "text": [
      "    FITS  BB_NB_FILES  RESAMPLE_TIME_S  COMBINE_TIME_S\n",
      "0      N            0           90.813          26.265\n",
      "32     N            0           87.423          26.378\n",
      "33     N            0           87.471          25.279\n",
      "34     N            0           85.763          25.664\n",
      "35     N            0           85.535          30.542\n",
      "36     N            0           88.414          26.305\n",
      "37     N            0           85.911          27.384\n",
      "38     N            0           84.598          28.146\n",
      "39     N            0           84.628          26.540\n",
      "40     N            0           84.705          27.945\n",
      "41     N            0           88.054          27.881\n",
      "42     N            0           85.334          26.356\n",
      "43     N            0           88.465          27.490\n",
      "44     N            0           89.178          27.394\n",
      "45     Y            0          101.344          41.799\n",
      "46     Y            0          115.338          46.195\n",
      "47     Y            0           97.160          42.685\n",
      "48     Y            0          101.128          38.594\n",
      "49     Y            0           97.662          39.219\n",
      "50     Y            0           99.448          39.349\n",
      "51     Y            0          105.060          39.134\n",
      "52     Y            0          103.338          38.889\n",
      "53     Y            0          101.857          39.409\n",
      "54     Y            0          103.698          40.195\n",
      "55     Y            0          100.746          39.067\n",
      "56     Y            0           99.398          38.465\n",
      "57     Y            0           99.956          39.069\n",
      "58     Y            0          103.242          42.734\n",
      "31     N            0           84.843          26.202\n",
      "30     N            0           85.078          26.325\n",
      "..   ...          ...              ...             ...\n",
      "210    N           32          102.104          42.222\n",
      "212    N           32           96.873          40.437\n",
      "238    Y           32           96.286          38.765\n",
      "237    Y           32           94.726          37.817\n",
      "236    Y           32           95.274          36.904\n",
      "235    Y           32           99.476          38.877\n",
      "234    Y           32           95.389          39.023\n",
      "233    Y           32           95.882          38.585\n",
      "232    Y           32           95.964          37.382\n",
      "231    Y           32           96.017          37.097\n",
      "230    Y           32           96.740          37.769\n",
      "229    Y           32           97.209          38.619\n",
      "228    Y           32           96.233          38.277\n",
      "227    Y           32           96.635          38.495\n",
      "211    N           32          100.301          33.859\n",
      "226    Y           32           97.079          37.243\n",
      "224    N           32           98.885          40.785\n",
      "223    N           32           99.395          35.415\n",
      "222    N           32           99.062          44.836\n",
      "221    N           32           97.129          41.941\n",
      "220    N           32          101.945          38.401\n",
      "219    N           32          104.108          41.836\n",
      "218    N           32          101.470          37.344\n",
      "217    N           32           98.572          38.390\n",
      "216    N           32           97.842          41.381\n",
      "215    N           32           97.323          38.935\n",
      "214    N           32          101.797          45.139\n",
      "213    N           32           96.328          41.595\n",
      "225    Y           32           97.679          40.655\n",
      "209    N           32           88.818          26.410\n",
      "\n",
      "[300 rows x 4 columns]\n"
     ]
    }
   ],
   "source": [
    "small_dt = df_swarp[[\"FITS\", \"BB_NB_FILES\" ,\"RESAMPLE_TIME_S\", \"COMBINE_TIME_S\"]]\n",
    "#small_dt = small_dt.sort_values(by=['NB_PIPELINE'])\n",
    "print(small_dt.sort_values(by=['BB_NB_FILES']))"
   ]
  },
  {
   "cell_type": "code",
   "execution_count": 7,
   "metadata": {
    "scrolled": true
   },
   "outputs": [],
   "source": [
    "#grouped = small_dt.groupby('BB_NB_FILES', sort=True)\n",
    "#print(grouped.groups)"
   ]
  },
  {
   "cell_type": "code",
   "execution_count": 8,
   "metadata": {
    "scrolled": false
   },
   "outputs": [],
   "source": [
    "# plt.figure()\n",
    "# df_swarp_priv = df_swarp_priv.sort_values(by=['BB_NB_FILES'])\n",
    "# tmp_df = df_swarp_priv[df_swarp_priv.FITS==\"N\"]\n",
    "# plt.errorbar(tmp_df.BB_NB_FILES, tmp_df.RESAMPLE_MEAN_TIME_S, xerr=0, yerr=tmp_df.RESAMPLE_SD_TIME)\n",
    "# #plt.title(\"\")\n",
    "\n",
    "# #g = sns.lineplot(x=\"BB_NB_FILES\", y=\"RESAMPLE_MEAN_TIME_S\", ci=\"RESAMPLE_SD_TIME\", hue=\"FITS\", style=\"FITS\", markers=True, dashes=True, data=swarp_dt_priv)"
   ]
  },
  {
   "cell_type": "code",
   "execution_count": 9,
   "metadata": {},
   "outputs": [],
   "source": [
    "#g = sns.lineplot(x=\"BB_NB_FILES\", y=\"COMBINE_MEAN_TIME_S\", hue=\"FITS\", style=\"FITS\", markers=True, dashes=True, data=swarp_dt_priv)\n",
    "\n",
    "# swarp_dt_priv = swarp_dt_priv.sort_values(by=['BB_NB_FILES'])\n",
    "# swarp_dt_priv_nofits = swarp_dt_priv[swarp_dt_priv.FITS==\"N\"]\n",
    "# swarp_dt_priv_fits = swarp_dt_priv[swarp_dt_priv.FITS==\"Y\"]\n",
    "\n",
    "\n",
    "# fig, axs = plt.subplots(nrows=2, ncols=2, sharex=True, sharey=False)\n",
    "# #plt.axis('scaled')\n",
    "\n",
    "# ax = axs[0,0]\n",
    "# ax.errorbar(swarp_dt_priv_fits.BB_NB_FILES, swarp_dt_priv_fits.MEAN_MAKESPAN_S, yerr=swarp_dt_priv_fits.SD_MAKESPAN, color=\"b\")\n",
    "# ax.errorbar(swarp_dt_priv_nofits.BB_NB_FILES, swarp_dt_priv_nofits.MEAN_MAKESPAN_S, yerr=swarp_dt_priv_nofits.SD_MAKESPAN, color=\"r\")\n",
    "\n",
    "# ax.set_title('MEAN_MAKESPAN_S')\n",
    "\n",
    "# # With 4 subplots, reduce the number of axis ticks to avoid crowding.\n",
    "# ax.locator_params(nbins=4)\n",
    "\n",
    "# ax.minorticks_on()\n",
    "# ax.grid()\n",
    "# ax.set_ylabel('Time (s)')\n",
    "\n",
    "\n",
    "# ax = axs[0,1]\n",
    "# ax.errorbar(swarp_dt_priv_fits.BB_NB_FILES, swarp_dt_priv_fits.STAGEIN_MEAN_TIME_S, yerr=swarp_dt_priv_fits.STAGEIN_SD_TIME, color=\"b\")\n",
    "# ax.errorbar(swarp_dt_priv_nofits.BB_NB_FILES, swarp_dt_priv_nofits.STAGEIN_MEAN_TIME_S, yerr=swarp_dt_priv_nofits.STAGEIN_SD_TIME, color=\"r\")\n",
    "# ax.set_title('STAGEIN_MEAN_TIME_S')\n",
    "\n",
    "# ax.minorticks_on()\n",
    "# ax.grid()\n",
    "\n",
    "# ax = axs[1,0]\n",
    "# ax.errorbar(swarp_dt_priv_fits.BB_NB_FILES, swarp_dt_priv_fits.RESAMPLE_MEAN_TIME_S, yerr=swarp_dt_priv_fits.RESAMPLE_SD_TIME, color=\"b\")\n",
    "# ax.errorbar(swarp_dt_priv_nofits.BB_NB_FILES, swarp_dt_priv_nofits.RESAMPLE_MEAN_TIME_S, yerr=swarp_dt_priv_nofits.RESAMPLE_SD_TIME, color=\"r\")\n",
    "\n",
    "# ax.set_title('RESAMPLE_MEAN_TIME_S')\n",
    "\n",
    "# ax.minorticks_on()\n",
    "# ax.grid()\n",
    "# ax.set_xlabel('Number of files in BB')\n",
    "# ax.set_ylabel('Time (s)')\n",
    "\n",
    "# ax = axs[1,1]\n",
    "# ax.errorbar(swarp_dt_priv_fits.BB_NB_FILES, swarp_dt_priv_fits.COMBINE_MEAN_TIME_S, yerr=swarp_dt_priv_fits.COMBINE_SD_TIME, color=\"b\")\n",
    "# ax.errorbar(swarp_dt_priv_nofits.BB_NB_FILES, swarp_dt_priv_nofits.COMBINE_MEAN_TIME_S, yerr=swarp_dt_priv_nofits.COMBINE_SD_TIME, color=\"r\")\n",
    "# ax.set_title('COMBINE_MEAN_TIME_S')\n",
    "\n",
    "# ax.minorticks_on()\n",
    "# ax.grid()\n",
    "# ax.set_xlabel('Number of files in BB')\n",
    "\n",
    "# plt.show()"
   ]
  },
  {
   "cell_type": "code",
   "execution_count": null,
   "metadata": {},
   "outputs": [],
   "source": []
  },
  {
   "cell_type": "code",
   "execution_count": 10,
   "metadata": {},
   "outputs": [],
   "source": [
    "# sns.set_context(\"notebook\", font_scale=1.2, rc={\"lines.linewidth\": 1.8})\n",
    "#sns.set_style(\"darkgrid\")"
   ]
  },
  {
   "cell_type": "code",
   "execution_count": 11,
   "metadata": {},
   "outputs": [],
   "source": [
    "## Use the full data\n",
    "\n",
    "is_FITS =  df_swarp['FITS']==\"Y\"\n",
    "is_PRIVATE =  df_swarp['BB_TYPE']==\"PRIVATE\"\n"
   ]
  },
  {
   "cell_type": "code",
   "execution_count": null,
   "metadata": {},
   "outputs": [],
   "source": []
  },
  {
   "cell_type": "code",
   "execution_count": 12,
   "metadata": {
    "scrolled": true
   },
   "outputs": [
    {
     "name": "stderr",
     "output_type": "stream",
     "text": [
      "/usr/local/lib/python3.7/site-packages/pandas/core/generic.py:5096: SettingWithCopyWarning: \n",
      "A value is trying to be set on a copy of a slice from a DataFrame.\n",
      "Try using .loc[row_indexer,col_indexer] = value instead\n",
      "\n",
      "See the caveats in the documentation: http://pandas.pydata.org/pandas-docs/stable/indexing.html#indexing-view-versus-copy\n",
      "  self[name] = value\n"
     ]
    }
   ],
   "source": [
    "temp_df = df_swarp[is_FITS & is_PRIVATE]\n",
    "temp_df.BB_NB_FILES = (temp_df.BB_NB_FILES*100)/32\n",
    "\n",
    "xlabel='Input files in burst buffers (%)'\n",
    "legend_label=['Private', 'Striped']\n",
    "\n",
    "def plot_boxplot_all_tasks(df, output, print_dots=False):\n",
    "\n",
    "    with sns.light_palette(\"green\"):\n",
    "\n",
    "        #print(test.info())\n",
    "\n",
    "        f, axes = plt.subplots(2, 2, figsize=(10, 10), sharex=True)\n",
    "        f.patch.set_alpha(0)\n",
    "\n",
    "        g1 = sns.boxplot(x=\"BB_NB_FILES\", y=\"STAGEIN_TIME_S\", data=df, ax=axes[0,0])\n",
    "        if print_dots:\n",
    "            g1 = sns.swarmplot(x=\"BB_NB_FILES\", y=\"STAGEIN_TIME_S\", data=df, color=\".25\", ax=axes[0,0])\n",
    "        g1.set(xlabel='', ylabel='Stage in time (s)')\n",
    "\n",
    "        g2 = sns.boxplot(x=\"BB_NB_FILES\", y=\"RESAMPLE_TIME_S\", data=df, ax=axes[0,1])\n",
    "        if print_dots:\n",
    "            g2 = sns.swarmplot(x=\"BB_NB_FILES\", y=\"RESAMPLE_TIME_S\", data=df, color=\".25\", ax=axes[0,1])\n",
    "        g2.set(xlabel='', ylabel='Resample time (s)')\n",
    "\n",
    "        g3 = sns.boxplot(x=\"BB_NB_FILES\", y=\"COMBINE_TIME_S\", data=df, ax=axes[1,0])\n",
    "        if print_dots:\n",
    "            g3 = sns.swarmplot(x=\"BB_NB_FILES\", y=\"COMBINE_TIME_S\", data=df, color=\".25\", ax=axes[1,0])\n",
    "        g3.set(xlabel=xlabel, ylabel='Combine time (s)')\n",
    "\n",
    "        g4 = sns.boxplot(x=\"BB_NB_FILES\", y=\"MAKESPAN_S\", data=df, ax=axes[1,1])\n",
    "        if print_dots:\n",
    "            g4 = sns.swarmplot(x=\"BB_NB_FILES\", y=\"MAKESPAN_S\", data=df, color=\".25\", ax=axes[1,1])\n",
    "        g4.set(xlabel=xlabel, ylabel='Makespan (s)')\n",
    "\n",
    "        plt.tight_layout()\n",
    "        plt.savefig(OUTPUT+output+'.pdf', facecolor=f.get_facecolor(), edgecolor='none')\n",
    "        plt.savefig(OUTPUT+output+'.pgf', facecolor=f.get_facecolor(), edgecolor='none')\n",
    "        #plt.close() \n",
    "\n",
    "        \n",
    "plot_boxplot_all_tasks(temp_df, output=\"swarp-box-fits-private-1w-32c\")\n"
   ]
  },
  {
   "cell_type": "code",
   "execution_count": 13,
   "metadata": {},
   "outputs": [
    {
     "name": "stderr",
     "output_type": "stream",
     "text": [
      "/usr/local/lib/python3.7/site-packages/pandas/core/generic.py:5096: SettingWithCopyWarning: \n",
      "A value is trying to be set on a copy of a slice from a DataFrame.\n",
      "Try using .loc[row_indexer,col_indexer] = value instead\n",
      "\n",
      "See the caveats in the documentation: http://pandas.pydata.org/pandas-docs/stable/indexing.html#indexing-view-versus-copy\n",
      "  self[name] = value\n"
     ]
    },
    {
     "name": "stdout",
     "output_type": "stream",
     "text": [
      "Plot boxplot task: STAGEIN_TIME_S\n"
     ]
    },
    {
     "name": "stderr",
     "output_type": "stream",
     "text": [
      "/usr/local/lib/python3.7/site-packages/ipykernel_launcher.py:24: UserWarning: Matplotlib is currently using pgf, which is a non-GUI backend, so cannot show the figure.\n"
     ]
    },
    {
     "name": "stdout",
     "output_type": "stream",
     "text": [
      "Plot boxplot task: RESAMPLE_TIME_S\n"
     ]
    },
    {
     "name": "stderr",
     "output_type": "stream",
     "text": [
      "/usr/local/lib/python3.7/site-packages/ipykernel_launcher.py:24: UserWarning: Matplotlib is currently using pgf, which is a non-GUI backend, so cannot show the figure.\n"
     ]
    },
    {
     "name": "stdout",
     "output_type": "stream",
     "text": [
      "Plot boxplot task: COMBINE_TIME_S\n"
     ]
    },
    {
     "name": "stderr",
     "output_type": "stream",
     "text": [
      "/usr/local/lib/python3.7/site-packages/ipykernel_launcher.py:24: UserWarning: Matplotlib is currently using pgf, which is a non-GUI backend, so cannot show the figure.\n"
     ]
    },
    {
     "name": "stdout",
     "output_type": "stream",
     "text": [
      "Plot boxplot task: MAKESPAN_S\n"
     ]
    },
    {
     "name": "stderr",
     "output_type": "stream",
     "text": [
      "/usr/local/lib/python3.7/site-packages/ipykernel_launcher.py:24: UserWarning: Matplotlib is currently using pgf, which is a non-GUI backend, so cannot show the figure.\n"
     ]
    }
   ],
   "source": [
    "temp_df = df_swarp[is_FITS & is_PRIVATE]\n",
    "temp_df.BB_NB_FILES = (temp_df.BB_NB_FILES*100)/32\n",
    "\n",
    "def plot_boxplot_per_task(df, col, output, print_dots=False):\n",
    "    xlabel='Number of input files in burst buffers (%)'\n",
    "    legend_label=['Private', 'Striped']\n",
    "    name = col.split(\"_\")[0].lower()\n",
    "        \n",
    "    with sns.light_palette(\"green\"):\n",
    "\n",
    "        #print(test.info())\n",
    "\n",
    "        f = plt.figure(figsize=(4, 3))\n",
    "        f.patch.set_alpha(0)\n",
    "\n",
    "        g1 = sns.boxplot(x=\"BB_NB_FILES\", y=col, data=df)\n",
    "        if print_dots:\n",
    "            g1 = sns.swarmplot(x=\"BB_NB_FILES\", y=col, data=df, color=\".25\")\n",
    "        g1.set(xlabel=xlabel, ylabel='Execution time (s)')\n",
    "\n",
    "        plt.tight_layout()\n",
    "        plt.savefig(OUTPUT+'swarp-box-'+name+output+'.pdf', facecolor=f.get_facecolor(), edgecolor='none')\n",
    "        plt.savefig(OUTPUT+'swarp-box-'+name+output+'.pgf', facecolor=f.get_facecolor(), edgecolor='none')\n",
    "        plt.show()\n",
    "\n",
    "for task in tasks:\n",
    "    print(\"Plot boxplot task:\", task)\n",
    "    plot_boxplot_per_task(temp_df, task, output=\"-fits-private-1w-32c\")"
   ]
  },
  {
   "cell_type": "code",
   "execution_count": 14,
   "metadata": {
    "scrolled": true
   },
   "outputs": [],
   "source": [
    "g = sns.catplot(x=\"BB_NB_FILES\", y=\"MAKESPAN_S\", hue=\"BB_TYPE\", col=\"FITS\", data=df_swarp, kind=\"box\")"
   ]
  },
  {
   "cell_type": "code",
   "execution_count": 15,
   "metadata": {
    "scrolled": true
   },
   "outputs": [
    {
     "name": "stdout",
     "output_type": "stream",
     "text": [
      "FITS\n"
     ]
    },
    {
     "name": "stderr",
     "output_type": "stream",
     "text": [
      "/usr/local/lib/python3.7/site-packages/pandas/core/generic.py:5096: SettingWithCopyWarning: \n",
      "A value is trying to be set on a copy of a slice from a DataFrame.\n",
      "Try using .loc[row_indexer,col_indexer] = value instead\n",
      "\n",
      "See the caveats in the documentation: http://pandas.pydata.org/pandas-docs/stable/indexing.html#indexing-view-versus-copy\n",
      "  self[name] = value\n"
     ]
    }
   ],
   "source": [
    "print(\"FITS\")\n",
    "temp_df = df_swarp[is_FITS]\n",
    "temp_df.BB_NB_FILES = (temp_df.BB_NB_FILES*100)/32\n",
    "\n",
    "def plot_lineplot_all_tasks_bbtype(df, output, label, legend_label):\n",
    "    \n",
    "    #print(test.info())\n",
    "\n",
    "    f, axes = plt.subplots(2, 2, figsize=(10, 7), sharex=True)\n",
    "    f.patch.set_alpha(0)\n",
    "\n",
    "    g2 = sns.lineplot(x=\"BB_NB_FILES\", y=\"STAGEIN_TIME_S\", hue=\"BB_TYPE\", style=\"BB_TYPE\", data=df, ax=axes[0,0],markers=True)\n",
    "    g2.legend(title='', labels=legend_label)\n",
    "    g2.set(xlabel=label[0], ylabel='Stage in time (s)')\n",
    "\n",
    "    g3 = sns.lineplot(x=\"BB_NB_FILES\", y=\"RESAMPLE_TIME_S\", hue=\"BB_TYPE\", style=\"BB_TYPE\", data=df, ax=axes[0,1],markers=True)\n",
    "    #g3.legend_.remove()\n",
    "    g3.legend(title='', labels=legend_label)\n",
    "    g3.set(xlabel=label[0], ylabel='Resample time (s)')\n",
    "\n",
    "    g4 = sns.lineplot(x=\"BB_NB_FILES\", y=\"COMBINE_TIME_S\", hue=\"BB_TYPE\", style=\"BB_TYPE\", data=df, ax=axes[1,0],markers=True)\n",
    "    #g4.legend_.remove()\n",
    "    g4.legend(title='', labels=legend_label)\n",
    "    g4.set(xlabel=label[0], ylabel='Combine time (s)')\n",
    "\n",
    "    g1 = sns.lineplot(x=\"BB_NB_FILES\", y=\"MAKESPAN_S\", hue=\"BB_TYPE\", style=\"BB_TYPE\", data=df, ax=axes[1,1],markers=True)\n",
    "    #g1.legend_.remove()\n",
    "    g1.legend(title='', labels=legend_label)\n",
    "    g1.set(xlabel=label[0], ylabel='Makespan (s)')\n",
    "\n",
    "    plt.tight_layout()\n",
    "    plt.savefig(OUTPUT+output+'.pdf', facecolor=f.get_facecolor(), edgecolor='none')\n",
    "    plt.savefig(OUTPUT+output+'.pgf', facecolor=f.get_facecolor(), edgecolor='none')\n",
    "    #plt.close() \n",
    "\n",
    "xlabel='Input files in burst buffers (%)'\n",
    "legend_label=['Private', 'Striped']\n",
    "    \n",
    "plot_lineplot_all_tasks_bbtype(temp_df, \"swarp-line-fits-private-1w-32c\", label=[xlabel, ''], legend_label=legend_label)\n"
   ]
  },
  {
   "cell_type": "code",
   "execution_count": 16,
   "metadata": {},
   "outputs": [
    {
     "name": "stdout",
     "output_type": "stream",
     "text": [
      "Plot line task: STAGEIN_TIME_S\n"
     ]
    },
    {
     "name": "stderr",
     "output_type": "stream",
     "text": [
      "/usr/local/lib/python3.7/site-packages/ipykernel_launcher.py:16: UserWarning: Matplotlib is currently using pgf, which is a non-GUI backend, so cannot show the figure.\n",
      "  app.launch_new_instance()\n"
     ]
    },
    {
     "name": "stdout",
     "output_type": "stream",
     "text": [
      "Plot line task: RESAMPLE_TIME_S\n"
     ]
    },
    {
     "name": "stderr",
     "output_type": "stream",
     "text": [
      "/usr/local/lib/python3.7/site-packages/ipykernel_launcher.py:16: UserWarning: Matplotlib is currently using pgf, which is a non-GUI backend, so cannot show the figure.\n",
      "  app.launch_new_instance()\n"
     ]
    },
    {
     "name": "stdout",
     "output_type": "stream",
     "text": [
      "Plot line task: COMBINE_TIME_S\n"
     ]
    },
    {
     "name": "stderr",
     "output_type": "stream",
     "text": [
      "/usr/local/lib/python3.7/site-packages/ipykernel_launcher.py:16: UserWarning: Matplotlib is currently using pgf, which is a non-GUI backend, so cannot show the figure.\n",
      "  app.launch_new_instance()\n"
     ]
    },
    {
     "name": "stdout",
     "output_type": "stream",
     "text": [
      "Plot line task: MAKESPAN_S\n"
     ]
    },
    {
     "name": "stderr",
     "output_type": "stream",
     "text": [
      "/usr/local/lib/python3.7/site-packages/ipykernel_launcher.py:16: UserWarning: Matplotlib is currently using pgf, which is a non-GUI backend, so cannot show the figure.\n",
      "  app.launch_new_instance()\n"
     ]
    }
   ],
   "source": [
    "def plot_lineplot_per_task_bbtype(df, col, output, loc='upper left'):\n",
    "    xlabel='Input files in burst buffers (%)'\n",
    "    legend_label=['Private', 'Striped']\n",
    "    name = col.split(\"_\")[0].lower()\n",
    "\n",
    "    f = plt.figure(figsize=(4, 3))\n",
    "    f.patch.set_alpha(0)\n",
    "    \n",
    "    g = sns.lineplot(x=\"BB_NB_FILES\", y=col, hue=\"BB_TYPE\", style=\"BB_TYPE\", data=df,markers=True)\n",
    "    g.legend(title='', labels=legend_label)\n",
    "    g.set(xlabel=xlabel, ylabel='Execution time (s)', xticks=df.BB_NB_FILES.unique())\n",
    "\n",
    "    plt.tight_layout()\n",
    "    plt.savefig(OUTPUT+'swarp-line-'+name+output+'.pdf', facecolor=f.get_facecolor(), edgecolor='none')\n",
    "    plt.savefig(OUTPUT+'swarp-line-'+name+output+'.pgf', facecolor=f.get_facecolor(), edgecolor='none')\n",
    "    plt.show()\n",
    "\n",
    "loc = ['upper left', 'upper right', 'upper left', 'center left']\n",
    "for i,task in enumerate(tasks):\n",
    "    print(\"Plot line task:\", task)\n",
    "    plot_lineplot_per_task_bbtype(temp_df, task, output=\"-fits-1w-32c\", loc=loc[i])\n",
    "    "
   ]
  },
  {
   "cell_type": "code",
   "execution_count": 17,
   "metadata": {},
   "outputs": [
    {
     "name": "stderr",
     "output_type": "stream",
     "text": [
      "/usr/local/lib/python3.7/site-packages/pandas/core/generic.py:5096: SettingWithCopyWarning: \n",
      "A value is trying to be set on a copy of a slice from a DataFrame.\n",
      "Try using .loc[row_indexer,col_indexer] = value instead\n",
      "\n",
      "See the caveats in the documentation: http://pandas.pydata.org/pandas-docs/stable/indexing.html#indexing-view-versus-copy\n",
      "  self[name] = value\n"
     ]
    },
    {
     "name": "stdout",
     "output_type": "stream",
     "text": [
      "NOFITS\n",
      "Plot line task: STAGEIN_TIME_S\n"
     ]
    },
    {
     "name": "stderr",
     "output_type": "stream",
     "text": [
      "/usr/local/lib/python3.7/site-packages/ipykernel_launcher.py:16: UserWarning: Matplotlib is currently using pgf, which is a non-GUI backend, so cannot show the figure.\n",
      "  app.launch_new_instance()\n"
     ]
    },
    {
     "name": "stdout",
     "output_type": "stream",
     "text": [
      "Plot line task: RESAMPLE_TIME_S\n"
     ]
    },
    {
     "name": "stderr",
     "output_type": "stream",
     "text": [
      "/usr/local/lib/python3.7/site-packages/ipykernel_launcher.py:16: UserWarning: Matplotlib is currently using pgf, which is a non-GUI backend, so cannot show the figure.\n",
      "  app.launch_new_instance()\n"
     ]
    },
    {
     "name": "stdout",
     "output_type": "stream",
     "text": [
      "Plot line task: COMBINE_TIME_S\n"
     ]
    },
    {
     "name": "stderr",
     "output_type": "stream",
     "text": [
      "/usr/local/lib/python3.7/site-packages/ipykernel_launcher.py:16: UserWarning: Matplotlib is currently using pgf, which is a non-GUI backend, so cannot show the figure.\n",
      "  app.launch_new_instance()\n"
     ]
    },
    {
     "name": "stdout",
     "output_type": "stream",
     "text": [
      "Plot line task: MAKESPAN_S\n"
     ]
    },
    {
     "name": "stderr",
     "output_type": "stream",
     "text": [
      "/usr/local/lib/python3.7/site-packages/ipykernel_launcher.py:16: UserWarning: Matplotlib is currently using pgf, which is a non-GUI backend, so cannot show the figure.\n",
      "  app.launch_new_instance()\n"
     ]
    }
   ],
   "source": [
    "print(\"NOFITS\")\n",
    "temp_df = df_swarp[~is_FITS]\n",
    "temp_df.BB_NB_FILES = (temp_df.BB_NB_FILES*100)/32\n",
    "\n",
    "loc = ['upper left', 'upper right', 'upper left', 'center left']\n",
    "for i,task in enumerate(tasks):\n",
    "    print(\"Plot line task:\", task)\n",
    "    plot_lineplot_per_task_bbtype(temp_df, task, output=\"-nofits-1w-32c\", loc=loc[i])\n",
    "    "
   ]
  },
  {
   "cell_type": "code",
   "execution_count": 18,
   "metadata": {},
   "outputs": [],
   "source": [
    "#g = sns.lineplot(x=\"BB_NB_FILES\", y=\"RESAMPLE_TIME_S\", hue=\"BB_TYPE\", style=\"BB_TYPE\", data=df_swarp[~is_FITS])"
   ]
  },
  {
   "cell_type": "code",
   "execution_count": 19,
   "metadata": {},
   "outputs": [
    {
     "name": "stderr",
     "output_type": "stream",
     "text": [
      "/usr/local/lib/python3.7/site-packages/pandas/core/generic.py:5096: SettingWithCopyWarning: \n",
      "A value is trying to be set on a copy of a slice from a DataFrame.\n",
      "Try using .loc[row_indexer,col_indexer] = value instead\n",
      "\n",
      "See the caveats in the documentation: http://pandas.pydata.org/pandas-docs/stable/indexing.html#indexing-view-versus-copy\n",
      "  self[name] = value\n"
     ]
    },
    {
     "name": "stdout",
     "output_type": "stream",
     "text": [
      "PRIVATE\n"
     ]
    },
    {
     "name": "stderr",
     "output_type": "stream",
     "text": [
      "/usr/local/lib/python3.7/site-packages/ipykernel_launcher.py:29: UserWarning: Matplotlib is currently using pgf, which is a non-GUI backend, so cannot show the figure.\n"
     ]
    }
   ],
   "source": [
    "print(\"PRIVATE\")\n",
    "temp_df = df_swarp[is_PRIVATE]\n",
    "temp_df.BB_NB_FILES = (temp_df.BB_NB_FILES*100)/32\n",
    "\n",
    "def plot_lineplot_all_tasks_fits(df, output, label, legend_label, loc=['upper left', 'upper left', 'upper left', 'upper left']):\n",
    "    \n",
    "    f, axes = plt.subplots(2, 2, figsize=(10, 7), sharex=True)\n",
    "    f.patch.set_alpha(0)\n",
    "\n",
    "    g2 = sns.lineplot(x=\"BB_NB_FILES\", y=\"STAGEIN_TIME_S\", hue=\"FITS\", style=\"FITS\", data=df, ax=axes[0,0],markers=True)\n",
    "    g2.legend(title='Intermediate files', labels=legend_label)\n",
    "    g2.set(xlabel=xlabel, ylabel='Stage in time (s)')\n",
    "\n",
    "    g3 = sns.lineplot(x=\"BB_NB_FILES\", y=\"RESAMPLE_TIME_S\", hue=\"FITS\", style=\"FITS\", data=df, ax=axes[0,1],markers=True)\n",
    "    g3.legend(title='Intermediate files', labels=legend_label)\n",
    "    g3.set(xlabel=xlabel, ylabel='Resample time (s)')\n",
    "\n",
    "    g4 = sns.lineplot(x=\"BB_NB_FILES\", y=\"COMBINE_TIME_S\", hue=\"FITS\", style=\"FITS\", data=df, ax=axes[1,0],markers=True)\n",
    "    g4.legend(title='Intermediate files', labels=legend_label)\n",
    "    g4.set(xlabel=xlabel, ylabel='Combine time (s)')\n",
    "\n",
    "    g1 = sns.lineplot(x=\"BB_NB_FILES\", y=\"MAKESPAN_S\", hue=\"FITS\", style=\"FITS\", data=df, ax=axes[1,1],markers=True)\n",
    "    g1.legend(title='Intermediate files', labels=legend_label)\n",
    "    g1.set(xlabel=xlabel, ylabel='Makespan (s)')\n",
    "\n",
    "    plt.tight_layout()\n",
    "    plt.savefig(OUTPUT+output+'.pdf', facecolor=f.get_facecolor(), edgecolor='none')\n",
    "    plt.savefig(OUTPUT+output+'.pgf', facecolor=f.get_facecolor(), edgecolor='none')\n",
    "    plt.show()\n",
    "    plt.close() \n",
    "\n",
    "xlabel='Input files in burst buffers (%)'\n",
    "ylabel='Execution time (s)'\n",
    "legend_label=['Parallel File System', 'Burst Buffers']\n",
    "loc=['upper left', 'upper right', 'center left', 'upper right']\n",
    "\n",
    "plot_lineplot_all_tasks_fits(temp_df, \"swarp-line-private-1w-32c\", label=[xlabel, ylabel], legend_label=legend_label, loc=loc)\n",
    "\n",
    "\n",
    "    "
   ]
  },
  {
   "cell_type": "code",
   "execution_count": 20,
   "metadata": {},
   "outputs": [
    {
     "name": "stderr",
     "output_type": "stream",
     "text": [
      "/usr/local/lib/python3.7/site-packages/pandas/core/generic.py:5096: SettingWithCopyWarning: \n",
      "A value is trying to be set on a copy of a slice from a DataFrame.\n",
      "Try using .loc[row_indexer,col_indexer] = value instead\n",
      "\n",
      "See the caveats in the documentation: http://pandas.pydata.org/pandas-docs/stable/indexing.html#indexing-view-versus-copy\n",
      "  self[name] = value\n"
     ]
    },
    {
     "name": "stdout",
     "output_type": "stream",
     "text": [
      "STRIPED\n"
     ]
    },
    {
     "name": "stderr",
     "output_type": "stream",
     "text": [
      "/usr/local/lib/python3.7/site-packages/ipykernel_launcher.py:29: UserWarning: Matplotlib is currently using pgf, which is a non-GUI backend, so cannot show the figure.\n"
     ]
    }
   ],
   "source": [
    "print(\"STRIPED\")\n",
    "temp_df = df_swarp[~is_PRIVATE]\n",
    "temp_df.BB_NB_FILES = (temp_df.BB_NB_FILES*100)/32\n",
    "\n",
    "xlabel='Input files in burst buffers (%)'\n",
    "ylabel='Execution time (s)'\n",
    "legend_label=['Parallel File System', 'Burst Buffers']\n",
    "loc=['upper left', 'lower right', 'upper left', 'lower right']\n",
    "\n",
    "plot_lineplot_all_tasks_fits(temp_df, \"swarp-line-striped-1w-32c\", label=[xlabel, ylabel], legend_label=legend_label,loc=loc)\n"
   ]
  },
  {
   "cell_type": "code",
   "execution_count": 21,
   "metadata": {},
   "outputs": [
    {
     "name": "stdout",
     "output_type": "stream",
     "text": [
      "Plot line fits task: STAGEIN_TIME_S\n"
     ]
    },
    {
     "name": "stderr",
     "output_type": "stream",
     "text": [
      "/usr/local/lib/python3.7/site-packages/ipykernel_launcher.py:18: UserWarning: Matplotlib is currently using pgf, which is a non-GUI backend, so cannot show the figure.\n"
     ]
    },
    {
     "name": "stdout",
     "output_type": "stream",
     "text": [
      "Plot line fits task: RESAMPLE_TIME_S\n"
     ]
    },
    {
     "name": "stderr",
     "output_type": "stream",
     "text": [
      "/usr/local/lib/python3.7/site-packages/ipykernel_launcher.py:18: UserWarning: Matplotlib is currently using pgf, which is a non-GUI backend, so cannot show the figure.\n"
     ]
    },
    {
     "name": "stdout",
     "output_type": "stream",
     "text": [
      "Plot line fits task: COMBINE_TIME_S\n"
     ]
    },
    {
     "name": "stderr",
     "output_type": "stream",
     "text": [
      "/usr/local/lib/python3.7/site-packages/ipykernel_launcher.py:18: UserWarning: Matplotlib is currently using pgf, which is a non-GUI backend, so cannot show the figure.\n"
     ]
    },
    {
     "name": "stdout",
     "output_type": "stream",
     "text": [
      "Plot line fits task: MAKESPAN_S\n"
     ]
    },
    {
     "name": "stderr",
     "output_type": "stream",
     "text": [
      "/usr/local/lib/python3.7/site-packages/ipykernel_launcher.py:18: UserWarning: Matplotlib is currently using pgf, which is a non-GUI backend, so cannot show the figure.\n"
     ]
    }
   ],
   "source": [
    "def plot_lineplot_per_task_fits(df, col, output, loc='upper left'):\n",
    "    xlabel='Input files in burst buffers (%)'\n",
    "    ylabel='Execution time (s)'\n",
    "    legend_label=['Parallel File System', 'Burst Buffers']\n",
    "    \n",
    "    name = col.split(\"_\")[0].lower()\n",
    "\n",
    "    f = plt.figure(figsize=(4, 3))\n",
    "    f.patch.set_alpha(0)\n",
    "    \n",
    "    g = sns.lineplot(x=\"BB_NB_FILES\", y=col, hue=\"FITS\", style=\"FITS\", data=df,markers=True)\n",
    "    g.legend(title='Intermediate files', labels=legend_label)\n",
    "    g.set(xlabel=xlabel, ylabel=ylabel,xticks=df.BB_NB_FILES.unique())\n",
    "\n",
    "    plt.tight_layout()\n",
    "    plt.savefig(OUTPUT+'swarp-line-'+name+output+'.pdf', facecolor=f.get_facecolor(), edgecolor='none')\n",
    "    plt.savefig(OUTPUT+'swarp-line-'+name+output+'.pgf', facecolor=f.get_facecolor(), edgecolor='none')\n",
    "    plt.show()\n",
    "\n",
    "loc=['upper left', 'lower right', 'upper left', 'lower right']\n",
    "\n",
    "for i,task in enumerate(tasks):\n",
    "    print(\"Plot line fits task:\", task)\n",
    "    plot_lineplot_per_task_fits(temp_df, task, output=\"-fits-private-1w-32c\", loc=loc[i])\n",
    "    "
   ]
  },
  {
   "cell_type": "code",
   "execution_count": 22,
   "metadata": {},
   "outputs": [
    {
     "name": "stderr",
     "output_type": "stream",
     "text": [
      "/usr/local/lib/python3.7/site-packages/ipykernel_launcher.py:31: UserWarning: Matplotlib is currently using pgf, which is a non-GUI backend, so cannot show the figure.\n"
     ]
    }
   ],
   "source": [
    "agg_swarp = df_swarp.groupby(['ID', 'BB_NB_FILES','FITS','BB_SIZE_FILES_MB', 'BB_TYPE', 'AVG', 'NB_CORES'], as_index=False).agg({'MAKESPAN_S': 'max', 'COMBINE_TIME_S': 'max', 'RESAMPLE_TIME_S': 'max', 'STAGEIN_TIME_S': 'min'})\n",
    "\n",
    "\n",
    "print_dots = True\n",
    "xlabel='Number of input files staged in'\n",
    "ylabel='Bandwidth (MB/s)'\n",
    "legend_label=['Private', 'Striped']\n",
    "\n",
    "agg_swarp['bw'] = agg_swarp['BB_SIZE_FILES_MB'] / agg_swarp['STAGEIN_TIME_S']\n",
    "\n",
    "# bandwidth_swarp = df_swarp.groupby(['ID', 'NB_PIPELINE','FITS', 'BB_TYPE', 'AVG', 'NB_CORES'], as_index=False).agg(lambda g: g['BB_SIZE_FILES_MB'].max()/g['STAGEIN_TIME_S'].max())\n",
    "\n",
    "#print(bandwidth_swarp)\n",
    "\n",
    "# f, axes = plt.subplots(1, 2, figsize=(9, 4.5), sharex=True, sharey=True)\n",
    "f = plt.figure(figsize=(8, 4))\n",
    "f.patch.set_alpha(0)\n",
    "\n",
    "g1 = sns.lineplot(x=\"BB_NB_FILES\", y=\"bw\", data=agg_swarp, hue=\"BB_TYPE\", style=\"BB_TYPE\", markers=True)\n",
    "g1.set(xlabel=xlabel, ylabel=ylabel)\n",
    "\n",
    "# g1.set_xscale('log')\n",
    "# g1.set_xticks(agg_swarp.NB_PIPELINE.unique())\n",
    "# g1.get_xaxis().set_major_formatter(mpl.ticker.ScalarFormatter())\n",
    "\n",
    "g1.legend(title='', labels=legend_label)\n",
    "\n",
    "plt.tight_layout()\n",
    "plt.savefig(OUTPUT+'swarp-bandwidth-1w-32c-Xf.pdf', facecolor=f.get_facecolor(), edgecolor='none')\n",
    "plt.savefig(OUTPUT+'swarp-bandwidth-1w-32c-Xf.pgf', facecolor=f.get_facecolor(), edgecolor='none')\n",
    "plt.show()"
   ]
  },
  {
   "cell_type": "code",
   "execution_count": null,
   "metadata": {},
   "outputs": [],
   "source": []
  }
 ],
 "metadata": {
  "kernelspec": {
   "display_name": "Python 3",
   "language": "python",
   "name": "python3"
  },
  "language_info": {
   "codemirror_mode": {
    "name": "ipython",
    "version": 3
   },
   "file_extension": ".py",
   "mimetype": "text/x-python",
   "name": "python",
   "nbconvert_exporter": "python",
   "pygments_lexer": "ipython3",
   "version": "3.7.6"
  }
 },
 "nbformat": 4,
 "nbformat_minor": 2
}
