{
 "cells": [
  {
   "cell_type": "code",
   "execution_count": 1,
   "metadata": {},
   "outputs": [
    {
     "name": "stdout",
     "output_type": "stream",
     "text": [
      "/usr/local/opt/python/bin/python3.7\n"
     ]
    },
    {
     "data": {
      "text/html": [
       "<style>.container { width:100% !important; }</style>"
      ],
      "text/plain": [
       "<IPython.core.display.HTML object>"
      ]
     },
     "metadata": {},
     "output_type": "display_data"
    }
   ],
   "source": [
    "import sys\n",
    "import os\n",
    "print(sys.executable)\n",
    "\n",
    "from IPython.core.display import display, HTML\n",
    "display(HTML(\"<style>.container { width:100% !important; }</style>\"))\n",
    "\n",
    "import importlib\n",
    "seaborn_found = importlib.util.find_spec('seaborn')\n",
    "if seaborn_found is None:\n",
    "    sys.write.stderr(\"[error] Seaborn package not found. exit\")\n",
    "    exit(-1)\n",
    "\n",
    "import seaborn as sns\n",
    "import pandas as pd\n",
    "\n",
    "import matplotlib as mpl\n",
    "\n",
    "mpl.use(\"pgf\")\n",
    "\n",
    "import matplotlib.pyplot as plt\n",
    "\n",
    "plt.rcParams.update({\n",
    "    \"font.family\": \"serif\",  # use serif/main font for text elements\n",
    "    \"text.usetex\": False,     # use inline math for ticks\n",
    "    \"pgf.rcfonts\": False,    # don't setup fonts from rc parameters\n",
    "    \"pgf.preamble\": [\n",
    "         \"\\\\usepackage{units}\",          # load additional packages\n",
    "         \"\\\\usepackage{metalogo}\",\n",
    "         \"\\\\usepackage{unicode-math}\",   # unicode math setup\n",
    "         r\"\\setmathfont{xits-math.otf}\",\n",
    "         ]\n",
    "})\n",
    "\n",
    "\n",
    "plt.rcParams.update({\n",
    "    \"font.family\": \"serif\",\n",
    "    \"font.serif\": [\"Times\"],                    # use latex default serif font\n",
    "    \"font.size\": \"22\",\n",
    "})\n",
    "\n",
    "plt.rcParams.update({\n",
    "    \"pgf.texsystem\": \"pdflatex\",\n",
    "    \"pgf.preamble\": [\n",
    "         r\"\\usepackage[utf8x]{inputenc}\",\n",
    "         r\"\\usepackage[T1]{fontenc}\",\n",
    "         r\"\\usepackage{cmbright}\",\n",
    "         ]\n",
    "})\n",
    "\n",
    "# plt.rc('text', usetex=True)\n",
    "\n",
    "sns.set(style=\"ticks\", color_codes=True, font_scale=1.3)\n",
    "sns.set_context(\"paper\", rc={\"axes.labelsize\":14, \"axes.titlesize\":14, \"legend.fontsize\":14, \"xtick.labelsize\":14, \"ytick.labelsize\":14, \"font.size\":14})\n",
    "\n",
    "sns.set_style(\"darkgrid\", {'xtick.bottom': True, 'xtick.top': True, 'ytick.left': True, 'ytick.right': True, 'axes.grid': True, \"axes.facecolor\": \".9\", 'grid.linestyle': '-', 'lines.linewidth':2.5})\n",
    "# sns.set_palette(\"dark\")\n",
    "\n",
    "mpl.pyplot.close(\"all\")\n",
    "\n",
    "\n",
    "tasks = [\"STAGEIN_TIME_S\", \"RESAMPLE_TIME_S\", \"COMBINE_TIME_S\", \"MAKESPAN_S\"]\n"
   ]
  },
  {
   "cell_type": "code",
   "execution_count": 2,
   "metadata": {},
   "outputs": [],
   "source": [
    "## Global directory that contains traces\n",
    "DIR=\"/Users/lpottier/research/usc-isi/projects/active/workflow-io-bb/data/traces/swarp/\"\n",
    "## Cori data\n",
    "#csv_file_cori = DIR+\"/\"+\"shared-cori/bb_runs2020-32c.csv\" -> old one used in Europar\n",
    "csv_file_cori = DIR+\"/\"+\"shared-cori/bb-runs2020-32c.csv\"\n",
    "## Summit Data\n",
    "csv_file_summit = DIR+\"/\"+\"private-summit/runs-input-files-32c-1w.csv\"\n",
    "\n",
    "# DIR=\"/Users/lpottier/research/usc-isi/projects/workflow-io-bb/tools/\"\n",
    "# csv_file = DIR+\"/\"+\"swarp-run-1W-32c-raw.csv\"\n",
    "\n",
    "fig_size_square = (4, 3)\n",
    "fig_size_rect = (6.5, 3.5)"
   ]
  },
  {
   "cell_type": "code",
   "execution_count": 3,
   "metadata": {},
   "outputs": [
    {
     "name": "stdout",
     "output_type": "stream",
     "text": [
      "Directory  /Users/lpottier/research/usc-isi/projects/active/workflow-io-bb/data/traces/notebooks/swarp-1w-32c/  already exists\n"
     ]
    }
   ],
   "source": [
    "CORE=\"32\"\n",
    "#PLOT_DIR=\"/Users/lpottier/research/usc-isi/projects/active/paper-workflow-bb/figures/plots/real-swarp\"\n",
    "PLOT_DIR=os.getcwd()\n",
    "OUTPUT = PLOT_DIR+\"/\"+\"swarp-1w-\"+CORE+\"c/\"\n",
    "\n",
    "try:\n",
    "    # Create target Directory\n",
    "    os.mkdir(OUTPUT)\n",
    "    print(\"Directory \" , OUTPUT ,  \" Created \") \n",
    "except FileExistsError:\n",
    "    print(\"Directory \" , OUTPUT ,  \" already exists\")\n"
   ]
  },
  {
   "cell_type": "code",
   "execution_count": 4,
   "metadata": {},
   "outputs": [
    {
     "name": "stdout",
     "output_type": "stream",
     "text": [
      "[ 0 16 24 32  8]\n",
      "[ 0 16 24 32  8]\n"
     ]
    }
   ],
   "source": [
    "df_cori = pd.read_csv(csv_file_cori, sep=' ')\n",
    "df_summit = pd.read_csv(csv_file_summit, sep=' ')\n",
    "\n",
    "df_swarp = pd.concat([df_cori, df_summit])\n",
    "\n",
    "df_swarp_priv = df_swarp[df_swarp.BB_TYPE==\"PRIVATE\"]\n",
    "df_swarp_strip = df_swarp[df_swarp.BB_TYPE==\"STRIPED\"]\n",
    "df_swarp_onnode = df_swarp[df_swarp.BB_TYPE==\"ONNODE\"]\n",
    "\n",
    "\n",
    "print(df_summit.BB_NB_FILES.unique())\n",
    "df_swarp = df_swarp.loc[df_swarp['BB_NB_FILES'].isin([0,8,16,24,32])]\n",
    "print(df_summit.BB_NB_FILES.unique())\n",
    "\n",
    "# print(df_cori.head())"
   ]
  },
  {
   "cell_type": "code",
   "execution_count": 5,
   "metadata": {},
   "outputs": [
    {
     "name": "stdout",
     "output_type": "stream",
     "text": [
      "    FITS  BB_TYPE  NB_CORES  BB_NB_FILES  RESAMPLE_TIME_S  COMBINE_TIME_S\n",
      "0      Y  PRIVATE        32            0           18.938          17.336\n",
      "1      Y  PRIVATE        32            0           19.415          17.521\n",
      "2      Y  PRIVATE        32            0           20.489          17.318\n",
      "3      Y  PRIVATE        32            0           17.796          17.525\n",
      "4      Y  PRIVATE        32            0           19.048          17.477\n",
      "5      Y  PRIVATE        32            0           19.098          17.358\n",
      "6      Y  PRIVATE        32            0           17.728          17.480\n",
      "7      Y  PRIVATE        32            0           19.869          17.410\n",
      "8      Y  PRIVATE        32            0           18.424          17.734\n",
      "9      Y  PRIVATE        32            0           19.588          17.358\n",
      "10     Y  PRIVATE        32            0           21.060          17.454\n",
      "11     Y  PRIVATE        32            0           20.426          18.390\n",
      "12     Y  PRIVATE        32            0           19.720          17.592\n",
      "13     Y  PRIVATE        32            0           20.896          17.487\n",
      "14     Y  PRIVATE        32            0           20.777          17.363\n",
      "15     Y  STRIPED        32            0           33.972          43.638\n",
      "16     Y  STRIPED        32            0           36.199          43.437\n",
      "17     Y  STRIPED        32            0           38.588          43.062\n",
      "18     Y  STRIPED        32            0           35.523          42.826\n",
      "19     Y  STRIPED        32            0           37.979          45.325\n",
      "20     Y  STRIPED        32            0           38.383          43.453\n",
      "21     Y  STRIPED        32            0           36.285          43.080\n",
      "22     Y  STRIPED        32            0           37.917          45.831\n",
      "23     Y  STRIPED        32            0           36.782          44.590\n",
      "24     Y  STRIPED        32            0           36.610          45.548\n",
      "25     Y  STRIPED        32            0           38.685          43.730\n",
      "26     Y  STRIPED        32            0           39.676          44.751\n",
      "27     Y  STRIPED        32            0           36.849          44.827\n",
      "28     Y  STRIPED        32            0           36.059          41.532\n",
      "29     Y  STRIPED        32            0           36.171          40.833\n",
      "..   ...      ...       ...          ...              ...             ...\n",
      "90     N   ONNODE        32           32           11.826           3.883\n",
      "91     N   ONNODE        32           32           11.624           3.897\n",
      "92     N   ONNODE        32           32           11.541           3.832\n",
      "93     N   ONNODE        32           32           11.674           3.812\n",
      "94     N   ONNODE        32           32           11.605           3.782\n",
      "95     N   ONNODE        32           32           11.661           3.712\n",
      "96     N   ONNODE        32           32           11.569           4.808\n",
      "97     N   ONNODE        32           32           11.593           3.885\n",
      "98     N   ONNODE        32           32           12.439           3.762\n",
      "99     N   ONNODE        32           32           11.638           3.765\n",
      "100    N   ONNODE        32           32           11.646           3.849\n",
      "101    N   ONNODE        32           32           12.446           3.833\n",
      "102    N   ONNODE        32           32           11.555           3.754\n",
      "103    N   ONNODE        32           32           11.620           3.740\n",
      "104    N   ONNODE        32           32           11.863           3.810\n",
      "105    Y   ONNODE        32           32           11.928           3.124\n",
      "106    Y   ONNODE        32           32           12.044           3.049\n",
      "107    Y   ONNODE        32           32           12.022           3.150\n",
      "108    Y   ONNODE        32           32           12.013           3.797\n",
      "109    Y   ONNODE        32           32           12.001           3.083\n",
      "110    Y   ONNODE        32           32           11.395           3.069\n",
      "111    Y   ONNODE        32           32           12.064           3.125\n",
      "112    Y   ONNODE        32           32           12.004           3.069\n",
      "113    Y   ONNODE        32           32           12.077           3.055\n",
      "114    Y   ONNODE        32           32           11.859           3.118\n",
      "115    Y   ONNODE        32           32           12.049           3.128\n",
      "116    Y   ONNODE        32           32           12.087           3.036\n",
      "117    Y   ONNODE        32           32           11.974           3.127\n",
      "118    Y   ONNODE        32           32           12.058           3.136\n",
      "119    Y   ONNODE        32           32           12.067           3.053\n",
      "\n",
      "[450 rows x 6 columns]\n"
     ]
    }
   ],
   "source": [
    "small_dt = df_swarp[[\"FITS\", \"BB_TYPE\", \"NB_CORES\", \"BB_NB_FILES\",\"RESAMPLE_TIME_S\", \"COMBINE_TIME_S\"]]\n",
    "#small_dt = small_dt.sort_values(by=['NB_PIPELINE'])\n",
    "print(small_dt.sort_values(by=['NB_CORES', 'BB_NB_FILES']))"
   ]
  },
  {
   "cell_type": "code",
   "execution_count": 6,
   "metadata": {},
   "outputs": [
    {
     "name": "stdout",
     "output_type": "stream",
     "text": [
      "     NB_PIPELINE FITS  BB_NB_FILES  MAKESPAN_S\n",
      "30             1    N            0   61.273395\n",
      "31             1    N            0   54.400459\n",
      "32             1    N            0   55.640298\n",
      "33             1    N            0   53.785359\n",
      "34             1    N            0   55.823294\n",
      "35             1    N            0   53.564482\n",
      "36             1    N            0   49.016335\n",
      "37             1    N            0   59.250392\n",
      "38             1    N            0   51.239353\n",
      "39             1    N            0   52.434387\n",
      "40             1    N            0   48.604380\n",
      "41             1    N            0   51.369564\n",
      "42             1    N            0   58.542123\n",
      "43             1    N            0   47.968473\n",
      "44             1    N            0   56.503440\n",
      "45             1    N            0   41.407609\n",
      "46             1    N            0   40.649498\n",
      "47             1    N            0   38.569227\n",
      "48             1    N            0   42.280023\n",
      "49             1    N            0   43.287898\n",
      "50             1    N            0   38.241370\n",
      "51             1    N            0   39.094171\n",
      "52             1    N            0   38.801066\n",
      "53             1    N            0   39.505487\n",
      "54             1    N            0   42.566595\n",
      "55             1    N            0   41.604045\n",
      "56             1    N            0   40.007920\n",
      "57             1    N            0   40.939252\n",
      "58             1    N            0   45.231582\n",
      "59             1    N            0   40.812287\n",
      "..           ...  ...          ...         ...\n",
      "195            1    Y           32   82.759136\n",
      "196            1    Y           32   85.976036\n",
      "197            1    Y           32   84.417312\n",
      "198            1    Y           32   87.433472\n",
      "199            1    Y           32   84.416809\n",
      "200            1    Y           32   87.462606\n",
      "201            1    Y           32   85.640989\n",
      "202            1    Y           32   87.477841\n",
      "203            1    Y           32   87.861214\n",
      "204            1    Y           32   86.625620\n",
      "205            1    Y           32   89.967334\n",
      "206            1    Y           32   92.713824\n",
      "207            1    Y           32   89.420245\n",
      "208            1    Y           32   86.707226\n",
      "209            1    Y           32   82.689005\n",
      "105            1    Y           32   16.246638\n",
      "106            1    Y           32   16.357677\n",
      "107            1    Y           32   16.444972\n",
      "108            1    Y           32   17.671831\n",
      "109            1    Y           32   16.342892\n",
      "110            1    Y           32   15.940918\n",
      "111            1    Y           32   16.448394\n",
      "112            1    Y           32   16.329795\n",
      "113            1    Y           32   16.397240\n",
      "114            1    Y           32   16.231124\n",
      "115            1    Y           32   16.422884\n",
      "116            1    Y           32   16.364324\n",
      "117            1    Y           32   16.338914\n",
      "118            1    Y           32   16.436763\n",
      "119            1    Y           32   16.388834\n",
      "\n",
      "[450 rows x 4 columns]\n"
     ]
    }
   ],
   "source": [
    "small_dt = df_swarp[[\"NB_PIPELINE\", \"FITS\", \"BB_NB_FILES\" ,\"MAKESPAN_S\"]]\n",
    "#small_dt = small_dt.sort_values(by=['NB_PIPELINE'])\n",
    "print(small_dt.sort_values(by=['NB_PIPELINE', 'FITS', \"BB_NB_FILES\"]))"
   ]
  },
  {
   "cell_type": "code",
   "execution_count": 7,
   "metadata": {},
   "outputs": [
    {
     "name": "stdout",
     "output_type": "stream",
     "text": [
      "    FITS  BB_NB_FILES  RESAMPLE_TIME_S  COMBINE_TIME_S\n",
      "0      Y            0           18.938          17.336\n",
      "23     Y            0           11.259           3.063\n",
      "24     Y            0           11.342           3.052\n",
      "25     Y            0           11.402           3.157\n",
      "26     Y            0           12.075           3.126\n",
      "27     Y            0           11.373           3.175\n",
      "29     Y            0           11.297           3.160\n",
      "59     N            0           19.407          21.404\n",
      "58     N            0           21.832          23.398\n",
      "57     N            0           19.134          21.804\n",
      "56     N            0           18.538          21.469\n",
      "55     N            0           19.462          22.141\n",
      "54     N            0           21.206          21.359\n",
      "53     N            0           17.372          22.132\n",
      "52     N            0           17.349          21.451\n",
      "51     N            0           18.237          20.856\n",
      "50     N            0           17.379          20.861\n",
      "49     N            0           19.812          23.475\n",
      "48     N            0           21.134          21.145\n",
      "47     N            0           17.986          20.582\n",
      "22     Y            0           11.227           3.147\n",
      "46     N            0           19.415          21.233\n",
      "21     Y            0           12.077           3.085\n",
      "19     Y            0           11.290           3.106\n",
      "0      N            0           11.973           3.981\n",
      "1      N            0           11.958           3.845\n",
      "2      N            0           11.925           3.803\n",
      "3      N            0           11.838           3.774\n",
      "4      N            0           11.943           3.826\n",
      "5      N            0           11.827           3.810\n",
      "..   ...          ...              ...             ...\n",
      "208    Y           32           39.460          42.943\n",
      "210    N           32           26.541          22.722\n",
      "237    N           32           34.610          21.957\n",
      "236    N           32           28.502          20.923\n",
      "235    N           32           28.953          25.301\n",
      "234    N           32           33.734          21.826\n",
      "233    N           32           31.552          22.406\n",
      "232    N           32           34.448          21.615\n",
      "231    N           32           29.944          22.123\n",
      "230    N           32           28.580          21.426\n",
      "229    N           32           35.372          22.039\n",
      "228    N           32           32.120          21.943\n",
      "227    N           32           35.240          22.134\n",
      "226    N           32           29.040          22.283\n",
      "209    Y           32           35.916          42.355\n",
      "225    N           32           29.047          21.819\n",
      "222    N           32           18.021          21.056\n",
      "221    N           32           15.703          22.055\n",
      "220    N           32           16.301          21.048\n",
      "219    N           32           17.527          19.591\n",
      "218    N           32           17.544          19.896\n",
      "217    N           32           16.861          20.480\n",
      "216    N           32           15.838          22.335\n",
      "215    N           32           18.268          19.244\n",
      "214    N           32           16.749          19.791\n",
      "213    N           32           17.579          20.473\n",
      "212    N           32           17.495          19.872\n",
      "211    N           32           17.578          19.201\n",
      "223    N           32           17.236          18.726\n",
      "224    N           32           15.556          21.486\n",
      "\n",
      "[450 rows x 4 columns]\n"
     ]
    }
   ],
   "source": [
    "small_dt = df_swarp[[\"FITS\", \"BB_NB_FILES\" ,\"RESAMPLE_TIME_S\", \"COMBINE_TIME_S\"]]\n",
    "#small_dt = small_dt.sort_values(by=['NB_PIPELINE'])\n",
    "print(small_dt.sort_values(by=['BB_NB_FILES']))"
   ]
  },
  {
   "cell_type": "code",
   "execution_count": 8,
   "metadata": {
    "scrolled": true
   },
   "outputs": [],
   "source": [
    "#grouped = small_dt.groupby('BB_NB_FILES', sort=True)\n",
    "#print(grouped.groups)"
   ]
  },
  {
   "cell_type": "code",
   "execution_count": 9,
   "metadata": {
    "scrolled": false
   },
   "outputs": [],
   "source": [
    "# plt.figure()\n",
    "# df_swarp_priv = df_swarp_priv.sort_values(by=['BB_NB_FILES'])\n",
    "# tmp_df = df_swarp_priv[df_swarp_priv.FITS==\"N\"]\n",
    "# plt.errorbar(tmp_df.BB_NB_FILES, tmp_df.RESAMPLE_MEAN_TIME_S, xerr=0, yerr=tmp_df.RESAMPLE_SD_TIME)\n",
    "# #plt.title(\"\")\n",
    "\n",
    "# #g = sns.lineplot(x=\"BB_NB_FILES\", y=\"RESAMPLE_MEAN_TIME_S\", ci=\"RESAMPLE_SD_TIME\", hue=\"FITS\", style=\"FITS\", markers=True, dashes=True, data=swarp_dt_priv)"
   ]
  },
  {
   "cell_type": "code",
   "execution_count": 10,
   "metadata": {},
   "outputs": [],
   "source": [
    "#g = sns.lineplot(x=\"BB_NB_FILES\", y=\"COMBINE_MEAN_TIME_S\", hue=\"FITS\", style=\"FITS\", markers=True, dashes=True, data=swarp_dt_priv)\n",
    "\n",
    "# swarp_dt_priv = swarp_dt_priv.sort_values(by=['BB_NB_FILES'])\n",
    "# swarp_dt_priv_nofits = swarp_dt_priv[swarp_dt_priv.FITS==\"N\"]\n",
    "# swarp_dt_priv_fits = swarp_dt_priv[swarp_dt_priv.FITS==\"Y\"]\n",
    "\n",
    "\n",
    "# fig, axs = plt.subplots(nrows=2, ncols=2, sharex=True, sharey=False)\n",
    "# #plt.axis('scaled')\n",
    "\n",
    "# ax = axs[0,0]\n",
    "# ax.errorbar(swarp_dt_priv_fits.BB_NB_FILES, swarp_dt_priv_fits.MEAN_MAKESPAN_S, yerr=swarp_dt_priv_fits.SD_MAKESPAN, color=\"b\")\n",
    "# ax.errorbar(swarp_dt_priv_nofits.BB_NB_FILES, swarp_dt_priv_nofits.MEAN_MAKESPAN_S, yerr=swarp_dt_priv_nofits.SD_MAKESPAN, color=\"r\")\n",
    "\n",
    "# ax.set_title('MEAN_MAKESPAN_S')\n",
    "\n",
    "# # With 4 subplots, reduce the number of axis ticks to avoid crowding.\n",
    "# ax.locator_params(nbins=4)\n",
    "\n",
    "# ax.minorticks_on()\n",
    "# ax.grid()\n",
    "# ax.set_ylabel('Time (s)')\n",
    "\n",
    "\n",
    "# ax = axs[0,1]\n",
    "# ax.errorbar(swarp_dt_priv_fits.BB_NB_FILES, swarp_dt_priv_fits.STAGEIN_MEAN_TIME_S, yerr=swarp_dt_priv_fits.STAGEIN_SD_TIME, color=\"b\")\n",
    "# ax.errorbar(swarp_dt_priv_nofits.BB_NB_FILES, swarp_dt_priv_nofits.STAGEIN_MEAN_TIME_S, yerr=swarp_dt_priv_nofits.STAGEIN_SD_TIME, color=\"r\")\n",
    "# ax.set_title('STAGEIN_MEAN_TIME_S')\n",
    "\n",
    "# ax.minorticks_on()\n",
    "# ax.grid()\n",
    "\n",
    "# ax = axs[1,0]\n",
    "# ax.errorbar(swarp_dt_priv_fits.BB_NB_FILES, swarp_dt_priv_fits.RESAMPLE_MEAN_TIME_S, yerr=swarp_dt_priv_fits.RESAMPLE_SD_TIME, color=\"b\")\n",
    "# ax.errorbar(swarp_dt_priv_nofits.BB_NB_FILES, swarp_dt_priv_nofits.RESAMPLE_MEAN_TIME_S, yerr=swarp_dt_priv_nofits.RESAMPLE_SD_TIME, color=\"r\")\n",
    "\n",
    "# ax.set_title('RESAMPLE_MEAN_TIME_S')\n",
    "\n",
    "# ax.minorticks_on()\n",
    "# ax.grid()\n",
    "# ax.set_xlabel('Number of files in BB')\n",
    "# ax.set_ylabel('Time (s)')\n",
    "\n",
    "# ax = axs[1,1]\n",
    "# ax.errorbar(swarp_dt_priv_fits.BB_NB_FILES, swarp_dt_priv_fits.COMBINE_MEAN_TIME_S, yerr=swarp_dt_priv_fits.COMBINE_SD_TIME, color=\"b\")\n",
    "# ax.errorbar(swarp_dt_priv_nofits.BB_NB_FILES, swarp_dt_priv_nofits.COMBINE_MEAN_TIME_S, yerr=swarp_dt_priv_nofits.COMBINE_SD_TIME, color=\"r\")\n",
    "# ax.set_title('COMBINE_MEAN_TIME_S')\n",
    "\n",
    "# ax.minorticks_on()\n",
    "# ax.grid()\n",
    "# ax.set_xlabel('Number of files in BB')\n",
    "\n",
    "# plt.show()"
   ]
  },
  {
   "cell_type": "code",
   "execution_count": null,
   "metadata": {},
   "outputs": [],
   "source": []
  },
  {
   "cell_type": "code",
   "execution_count": 11,
   "metadata": {},
   "outputs": [],
   "source": [
    "# sns.set_context(\"notebook\", font_scale=1.2, rc={\"lines.linewidth\": 1.8})\n",
    "#sns.set_style(\"darkgrid\")"
   ]
  },
  {
   "cell_type": "code",
   "execution_count": 12,
   "metadata": {},
   "outputs": [],
   "source": [
    "## Use the full data\n",
    "\n",
    "is_FITS =  df_swarp['FITS']==\"Y\"\n",
    "is_PRIVATE =  df_swarp['BB_TYPE']==\"PRIVATE\"\n",
    "is_STRIPED =  df_swarp['BB_TYPE']==\"STRIPED\"\n",
    "is_ONNODE =  df_swarp['BB_TYPE']==\"ONNODE\"\n"
   ]
  },
  {
   "cell_type": "code",
   "execution_count": 13,
   "metadata": {},
   "outputs": [
    {
     "name": "stdout",
     "output_type": "stream",
     "text": [
      "        ID  START  END FITS  NB_PIPELINE  NB_CORES  AVG  PIPELINE BB_TYPE  \\\n",
      "15  105452    NaN  NaN    Y            1        32    1         0  ONNODE   \n",
      "16  105452    NaN  NaN    Y            1        32    2         0  ONNODE   \n",
      "17  105452    NaN  NaN    Y            1        32    3         0  ONNODE   \n",
      "18  105452    NaN  NaN    Y            1        32    4         0  ONNODE   \n",
      "19  105452    NaN  NaN    Y            1        32    5         0  ONNODE   \n",
      "\n",
      "    BB_ALLOC_SIZE_MB  ...  MAKESPAN_S  WALLTIME_S  STAGEIN_TIME_S  \\\n",
      "15               1.0  ...   14.882060   21.444213        0.000060   \n",
      "16               1.0  ...   14.373060   18.311548        0.000060   \n",
      "17               1.0  ...   14.452071   18.461434        0.000071   \n",
      "18               1.0  ...   14.512057   18.571856        0.000057   \n",
      "19               1.0  ...   14.396060   18.328734        0.000060   \n",
      "\n",
      "    STAGEIN_WALLTIME_S  RESAMPLE_TIME_S  RESAMPLE_WALLTIME_S  COMBINE_TIME_S  \\\n",
      "15            1.217039           11.825            15.088017           3.057   \n",
      "16            1.111348           11.365            12.086279           3.008   \n",
      "17            1.114594           11.377            12.151679           3.075   \n",
      "18            1.128933           11.372            12.095340           3.140   \n",
      "19            1.129916           11.290            12.016056           3.106   \n",
      "\n",
      "    COMBINE_WALLTIME_S  STAGEOUT_TIME_S  STAGEOUT_WALLTIME_S  \n",
      "15            3.738022         0.085103                    0  \n",
      "16            3.688127         0.084262                    0  \n",
      "17            3.768901         0.083678                    0  \n",
      "18            3.950407         0.084349                    0  \n",
      "19            3.760418         0.084507                    0  \n",
      "\n",
      "[5 rows x 25 columns]\n"
     ]
    }
   ],
   "source": [
    "print(df_swarp[is_FITS & is_ONNODE].head())"
   ]
  },
  {
   "cell_type": "code",
   "execution_count": 14,
   "metadata": {
    "scrolled": true
   },
   "outputs": [
    {
     "name": "stderr",
     "output_type": "stream",
     "text": [
      "/usr/local/lib/python3.7/site-packages/pandas/core/generic.py:5096: SettingWithCopyWarning: \n",
      "A value is trying to be set on a copy of a slice from a DataFrame.\n",
      "Try using .loc[row_indexer,col_indexer] = value instead\n",
      "\n",
      "See the caveats in the documentation: http://pandas.pydata.org/pandas-docs/stable/indexing.html#indexing-view-versus-copy\n",
      "  self[name] = value\n",
      "/usr/local/lib/python3.7/site-packages/ipykernel_launcher.py:38: UserWarning: Matplotlib is currently using pgf, which is a non-GUI backend, so cannot show the figure.\n"
     ]
    }
   ],
   "source": [
    "temp_df = df_swarp[is_FITS & is_PRIVATE]\n",
    "temp_df.BB_NB_FILES = (temp_df.BB_NB_FILES*100)/32\n",
    "\n",
    "xlabel='Input files in burst buffers (%)'\n",
    "\n",
    "def plot_boxplot_all_tasks(df, output, print_dots=False):\n",
    "\n",
    "    with sns.light_palette(\"green\"):\n",
    "\n",
    "        #print(test.info())\n",
    "\n",
    "        f, axes = plt.subplots(2, 2, figsize=(10, 10), sharex=True)\n",
    "        f.patch.set_alpha(0)\n",
    "\n",
    "        g1 = sns.boxplot(x=\"BB_NB_FILES\", y=\"STAGEIN_TIME_S\", data=df, ax=axes[0,0])\n",
    "        if print_dots:\n",
    "            g1 = sns.swarmplot(x=\"BB_NB_FILES\", y=\"STAGEIN_TIME_S\", data=df, color=\".25\", ax=axes[0,0])\n",
    "        g1.set(xlabel='', ylabel='Stage in time (s)')\n",
    "\n",
    "        g2 = sns.boxplot(x=\"BB_NB_FILES\", y=\"RESAMPLE_TIME_S\", data=df, ax=axes[0,1])\n",
    "        if print_dots:\n",
    "            g2 = sns.swarmplot(x=\"BB_NB_FILES\", y=\"RESAMPLE_TIME_S\", data=df, color=\".25\", ax=axes[0,1])\n",
    "        g2.set(xlabel='', ylabel='Resample time (s)')\n",
    "\n",
    "        g3 = sns.boxplot(x=\"BB_NB_FILES\", y=\"COMBINE_TIME_S\", data=df, ax=axes[1,0])\n",
    "        if print_dots:\n",
    "            g3 = sns.swarmplot(x=\"BB_NB_FILES\", y=\"COMBINE_TIME_S\", data=df, color=\".25\", ax=axes[1,0])\n",
    "        g3.set(xlabel=xlabel, ylabel='Combine time (s)')\n",
    "\n",
    "        g4 = sns.boxplot(x=\"BB_NB_FILES\", y=\"MAKESPAN_S\", data=df, ax=axes[1,1])\n",
    "        if print_dots:\n",
    "            g4 = sns.swarmplot(x=\"BB_NB_FILES\", y=\"MAKESPAN_S\", data=df, color=\".25\", ax=axes[1,1])\n",
    "        g4.set(xlabel=xlabel, ylabel='Makespan (s)')\n",
    "\n",
    "        plt.tight_layout()\n",
    "        plt.savefig(OUTPUT+output+'.pdf', facecolor=f.get_facecolor(), edgecolor='none')\n",
    "        plt.savefig(OUTPUT+output+'.pgf', facecolor=f.get_facecolor(), edgecolor='none')\n",
    "        plt.show()\n",
    "        #plt.close() \n",
    "\n",
    "plot_boxplot_all_tasks(temp_df, output=\"swarp-box-fits-private-1w-32c\")\n"
   ]
  },
  {
   "cell_type": "code",
   "execution_count": 15,
   "metadata": {},
   "outputs": [
    {
     "name": "stderr",
     "output_type": "stream",
     "text": [
      "/usr/local/lib/python3.7/site-packages/pandas/core/generic.py:5096: SettingWithCopyWarning: \n",
      "A value is trying to be set on a copy of a slice from a DataFrame.\n",
      "Try using .loc[row_indexer,col_indexer] = value instead\n",
      "\n",
      "See the caveats in the documentation: http://pandas.pydata.org/pandas-docs/stable/indexing.html#indexing-view-versus-copy\n",
      "  self[name] = value\n"
     ]
    },
    {
     "name": "stdout",
     "output_type": "stream",
     "text": [
      "Plot boxplot task: STAGEIN_TIME_S\n"
     ]
    },
    {
     "name": "stderr",
     "output_type": "stream",
     "text": [
      "/usr/local/lib/python3.7/site-packages/ipykernel_launcher.py:30: UserWarning: Matplotlib is currently using pgf, which is a non-GUI backend, so cannot show the figure.\n",
      "/usr/local/lib/python3.7/site-packages/ipykernel_launcher.py:30: UserWarning: Matplotlib is currently using pgf, which is a non-GUI backend, so cannot show the figure.\n",
      "/usr/local/lib/python3.7/site-packages/ipykernel_launcher.py:30: UserWarning: Matplotlib is currently using pgf, which is a non-GUI backend, so cannot show the figure.\n"
     ]
    },
    {
     "name": "stdout",
     "output_type": "stream",
     "text": [
      "Plot boxplot task: RESAMPLE_TIME_S\n"
     ]
    },
    {
     "name": "stderr",
     "output_type": "stream",
     "text": [
      "/usr/local/lib/python3.7/site-packages/ipykernel_launcher.py:30: UserWarning: Matplotlib is currently using pgf, which is a non-GUI backend, so cannot show the figure.\n",
      "/usr/local/lib/python3.7/site-packages/ipykernel_launcher.py:30: UserWarning: Matplotlib is currently using pgf, which is a non-GUI backend, so cannot show the figure.\n",
      "/usr/local/lib/python3.7/site-packages/ipykernel_launcher.py:30: UserWarning: Matplotlib is currently using pgf, which is a non-GUI backend, so cannot show the figure.\n"
     ]
    },
    {
     "name": "stdout",
     "output_type": "stream",
     "text": [
      "Plot boxplot task: COMBINE_TIME_S\n"
     ]
    },
    {
     "name": "stderr",
     "output_type": "stream",
     "text": [
      "/usr/local/lib/python3.7/site-packages/ipykernel_launcher.py:30: UserWarning: Matplotlib is currently using pgf, which is a non-GUI backend, so cannot show the figure.\n",
      "/usr/local/lib/python3.7/site-packages/ipykernel_launcher.py:30: UserWarning: Matplotlib is currently using pgf, which is a non-GUI backend, so cannot show the figure.\n",
      "/usr/local/lib/python3.7/site-packages/ipykernel_launcher.py:30: UserWarning: Matplotlib is currently using pgf, which is a non-GUI backend, so cannot show the figure.\n"
     ]
    },
    {
     "name": "stdout",
     "output_type": "stream",
     "text": [
      "Plot boxplot task: MAKESPAN_S\n"
     ]
    },
    {
     "name": "stderr",
     "output_type": "stream",
     "text": [
      "/usr/local/lib/python3.7/site-packages/ipykernel_launcher.py:30: UserWarning: Matplotlib is currently using pgf, which is a non-GUI backend, so cannot show the figure.\n",
      "/usr/local/lib/python3.7/site-packages/ipykernel_launcher.py:30: UserWarning: Matplotlib is currently using pgf, which is a non-GUI backend, so cannot show the figure.\n",
      "/usr/local/lib/python3.7/site-packages/ipykernel_launcher.py:30: UserWarning: Matplotlib is currently using pgf, which is a non-GUI backend, so cannot show the figure.\n"
     ]
    }
   ],
   "source": [
    "temp_df = df_swarp[is_FITS & is_PRIVATE]\n",
    "temp_df.BB_NB_FILES = (temp_df.BB_NB_FILES*100)/32\n",
    "\n",
    "temp_df_striped = df_swarp[is_FITS & ~is_PRIVATE]\n",
    "temp_df_striped.BB_NB_FILES = (temp_df_striped.BB_NB_FILES*100)/32\n",
    "\n",
    "temp_df_summit = df_swarp[is_FITS & is_ONNODE]\n",
    "temp_df_summit.BB_NB_FILES = (temp_df_summit.BB_NB_FILES*100)/32\n",
    "\n",
    "def plot_boxplot_per_task(df, col, output, print_dots=False):\n",
    "    xlabel='Number of input files in burst buffers (%)'\n",
    "#     legend_label=['Private', 'Striped']\n",
    "    name = col.split(\"_\")[0].lower()\n",
    "        \n",
    "    with sns.light_palette(\"green\"):\n",
    "\n",
    "        #print(test.info())\n",
    "\n",
    "        f = plt.figure(figsize=fig_size_rect)\n",
    "        f.patch.set_alpha(0)\n",
    "\n",
    "        g1 = sns.boxplot(x=\"BB_NB_FILES\", y=col, data=df)\n",
    "        if print_dots:\n",
    "            g1 = sns.swarmplot(x=\"BB_NB_FILES\", y=col, data=df, color=\".25\")\n",
    "        g1.set(xlabel=xlabel, ylabel='Execution time (s)')\n",
    "\n",
    "        plt.tight_layout()\n",
    "        plt.savefig(OUTPUT+'swarp-box-'+name+output+'.pdf', facecolor=f.get_facecolor(), edgecolor='none')\n",
    "        plt.savefig(OUTPUT+'swarp-box-'+name+output+'.pgf', facecolor=f.get_facecolor(), edgecolor='none')\n",
    "        plt.show()\n",
    "\n",
    "for task in tasks:\n",
    "    print(\"Plot boxplot task:\", task)\n",
    "    plot_boxplot_per_task(temp_df, task, output=\"-fits-private-1w-32c\")\n",
    "    plot_boxplot_per_task(temp_df_striped, task, output=\"-fits-striped-1w-32c\")\n",
    "    plot_boxplot_per_task(temp_df_summit, task, output=\"-fits-onnode-1w-32c\")\n"
   ]
  },
  {
   "cell_type": "code",
   "execution_count": 16,
   "metadata": {
    "scrolled": true
   },
   "outputs": [],
   "source": [
    "#g = sns.catplot(x=\"BB_NB_FILES\", y=\"MAKESPAN_S\", hue=\"BB_TYPE\", col=\"FITS\", data=df_swarp, kind=\"box\")"
   ]
  },
  {
   "cell_type": "code",
   "execution_count": 17,
   "metadata": {},
   "outputs": [],
   "source": [
    "xlabel_input='Input files in burst buffers (%)'\n",
    "legend_bb=['Private (Cori)', 'Striped (Cori)', 'On-node (Summit)']"
   ]
  },
  {
   "cell_type": "code",
   "execution_count": 18,
   "metadata": {
    "scrolled": true
   },
   "outputs": [
    {
     "name": "stderr",
     "output_type": "stream",
     "text": [
      "/usr/local/lib/python3.7/site-packages/pandas/core/generic.py:5096: SettingWithCopyWarning: \n",
      "A value is trying to be set on a copy of a slice from a DataFrame.\n",
      "Try using .loc[row_indexer,col_indexer] = value instead\n",
      "\n",
      "See the caveats in the documentation: http://pandas.pydata.org/pandas-docs/stable/indexing.html#indexing-view-versus-copy\n",
      "  self[name] = value\n"
     ]
    },
    {
     "name": "stdout",
     "output_type": "stream",
     "text": [
      "FITS\n"
     ]
    }
   ],
   "source": [
    "print(\"FITS\")\n",
    "temp_df = df_swarp[is_FITS]\n",
    "temp_df.BB_NB_FILES = (temp_df.BB_NB_FILES*100)/32\n",
    "\n",
    "def plot_lineplot_all_tasks_bbtype(df, output, label, legend_label):\n",
    "    \n",
    "    #print(test.info())\n",
    "\n",
    "    f, axes = plt.subplots(2, 2, figsize=(10, 7), sharex=True)\n",
    "    f.patch.set_alpha(0)\n",
    "\n",
    "    g2 = sns.lineplot(x=\"BB_NB_FILES\", y=\"STAGEIN_TIME_S\", hue=\"BB_TYPE\", style=\"BB_TYPE\", data=df, ax=axes[0,0],markers=True)\n",
    "    g2.legend(title='', labels=legend_label)\n",
    "    g2.set(xlabel=label[0], ylabel='Stage in time (s)')\n",
    "\n",
    "    g3 = sns.lineplot(x=\"BB_NB_FILES\", y=\"RESAMPLE_TIME_S\", hue=\"BB_TYPE\", style=\"BB_TYPE\", data=df, ax=axes[0,1],markers=True)\n",
    "    #g3.legend_.remove()\n",
    "    g3.legend(title='', labels=legend_label)\n",
    "    g3.set(xlabel=label[0], ylabel='Resample time (s)')\n",
    "\n",
    "    g4 = sns.lineplot(x=\"BB_NB_FILES\", y=\"COMBINE_TIME_S\", hue=\"BB_TYPE\", style=\"BB_TYPE\", data=df, ax=axes[1,0],markers=True)\n",
    "    #g4.legend_.remove()\n",
    "    g4.legend(title='', labels=legend_label)\n",
    "    g4.set(xlabel=label[0], ylabel='Combine time (s)')\n",
    "\n",
    "    g1 = sns.lineplot(x=\"BB_NB_FILES\", y=\"MAKESPAN_S\", hue=\"BB_TYPE\", style=\"BB_TYPE\", data=df, ax=axes[1,1],markers=True)\n",
    "    #g1.legend_.remove()\n",
    "    g1.legend(title='', labels=legend_label)\n",
    "    g1.set(xlabel=label[0], ylabel='Makespan (s)')\n",
    "\n",
    "    plt.tight_layout()\n",
    "    plt.savefig(OUTPUT+output+'.pdf', facecolor=f.get_facecolor(), edgecolor='none')\n",
    "    plt.savefig(OUTPUT+output+'.pgf', facecolor=f.get_facecolor(), edgecolor='none')\n",
    "    #plt.close() \n",
    "\n",
    "plot_lineplot_all_tasks_bbtype(temp_df, \"swarp-line-fits-1w-32c\", label=[xlabel_input, ''], legend_label=legend_bb)\n"
   ]
  },
  {
   "cell_type": "code",
   "execution_count": 19,
   "metadata": {},
   "outputs": [
    {
     "name": "stdout",
     "output_type": "stream",
     "text": [
      "Plot line task: STAGEIN_TIME_S\n"
     ]
    },
    {
     "name": "stderr",
     "output_type": "stream",
     "text": [
      "/usr/local/lib/python3.7/site-packages/ipykernel_launcher.py:14: UserWarning: Matplotlib is currently using pgf, which is a non-GUI backend, so cannot show the figure.\n",
      "  \n"
     ]
    },
    {
     "name": "stdout",
     "output_type": "stream",
     "text": [
      "Plot line task: RESAMPLE_TIME_S\n"
     ]
    },
    {
     "name": "stderr",
     "output_type": "stream",
     "text": [
      "/usr/local/lib/python3.7/site-packages/ipykernel_launcher.py:14: UserWarning: Matplotlib is currently using pgf, which is a non-GUI backend, so cannot show the figure.\n",
      "  \n"
     ]
    },
    {
     "name": "stdout",
     "output_type": "stream",
     "text": [
      "Plot line task: COMBINE_TIME_S\n"
     ]
    },
    {
     "name": "stderr",
     "output_type": "stream",
     "text": [
      "/usr/local/lib/python3.7/site-packages/ipykernel_launcher.py:14: UserWarning: Matplotlib is currently using pgf, which is a non-GUI backend, so cannot show the figure.\n",
      "  \n"
     ]
    },
    {
     "name": "stdout",
     "output_type": "stream",
     "text": [
      "Plot line task: MAKESPAN_S\n"
     ]
    },
    {
     "name": "stderr",
     "output_type": "stream",
     "text": [
      "/usr/local/lib/python3.7/site-packages/ipykernel_launcher.py:14: UserWarning: Matplotlib is currently using pgf, which is a non-GUI backend, so cannot show the figure.\n",
      "  \n"
     ]
    }
   ],
   "source": [
    "def plot_lineplot_per_task_bbtype(df, col, output, xlabel, legend, loc='upper left'):\n",
    "    name = col.split(\"_\")[0].lower()\n",
    "\n",
    "    f = plt.figure(figsize=fig_size_rect)\n",
    "    f.patch.set_alpha(0)\n",
    "    \n",
    "    g = sns.lineplot(x=\"BB_NB_FILES\", y=col, hue=\"BB_TYPE\", style=\"BB_TYPE\", data=df,markers=True)\n",
    "    g.legend(title='', labels=legend)\n",
    "    g.set(xlabel=xlabel, ylabel='Execution time (s)', xticks=df.BB_NB_FILES.unique())\n",
    "\n",
    "    plt.tight_layout()\n",
    "    plt.savefig(OUTPUT+'swarp-line-'+name+output+'.pdf', facecolor=f.get_facecolor(), edgecolor='none')\n",
    "    plt.savefig(OUTPUT+'swarp-line-'+name+output+'.pgf', facecolor=f.get_facecolor(), edgecolor='none')\n",
    "    plt.show()\n",
    "\n",
    "loc = ['upper left', 'upper right', 'upper left', 'center left']\n",
    "for i,task in enumerate(tasks):\n",
    "    print(\"Plot line task:\", task)\n",
    "    plot_lineplot_per_task_bbtype(temp_df, task, output=\"-fits-1w-32c\", xlabel=xlabel_input, legend=legend_bb, loc=loc[i])\n"
   ]
  },
  {
   "cell_type": "code",
   "execution_count": 20,
   "metadata": {},
   "outputs": [
    {
     "name": "stderr",
     "output_type": "stream",
     "text": [
      "/usr/local/lib/python3.7/site-packages/pandas/core/generic.py:5096: SettingWithCopyWarning: \n",
      "A value is trying to be set on a copy of a slice from a DataFrame.\n",
      "Try using .loc[row_indexer,col_indexer] = value instead\n",
      "\n",
      "See the caveats in the documentation: http://pandas.pydata.org/pandas-docs/stable/indexing.html#indexing-view-versus-copy\n",
      "  self[name] = value\n"
     ]
    },
    {
     "name": "stdout",
     "output_type": "stream",
     "text": [
      "NOFITS\n",
      "Plot line task: STAGEIN_TIME_S\n"
     ]
    },
    {
     "name": "stderr",
     "output_type": "stream",
     "text": [
      "/usr/local/lib/python3.7/site-packages/ipykernel_launcher.py:14: UserWarning: Matplotlib is currently using pgf, which is a non-GUI backend, so cannot show the figure.\n",
      "  \n"
     ]
    },
    {
     "name": "stdout",
     "output_type": "stream",
     "text": [
      "Plot line task: RESAMPLE_TIME_S\n"
     ]
    },
    {
     "name": "stderr",
     "output_type": "stream",
     "text": [
      "/usr/local/lib/python3.7/site-packages/ipykernel_launcher.py:14: UserWarning: Matplotlib is currently using pgf, which is a non-GUI backend, so cannot show the figure.\n",
      "  \n",
      "/usr/local/lib/python3.7/site-packages/ipykernel_launcher.py:4: RuntimeWarning: More than 20 figures have been opened. Figures created through the pyplot interface (`matplotlib.pyplot.figure`) are retained until explicitly closed and may consume too much memory. (To control this warning, see the rcParam `figure.max_open_warning`).\n",
      "  after removing the cwd from sys.path.\n"
     ]
    },
    {
     "name": "stdout",
     "output_type": "stream",
     "text": [
      "Plot line task: COMBINE_TIME_S\n"
     ]
    },
    {
     "name": "stderr",
     "output_type": "stream",
     "text": [
      "/usr/local/lib/python3.7/site-packages/ipykernel_launcher.py:14: UserWarning: Matplotlib is currently using pgf, which is a non-GUI backend, so cannot show the figure.\n",
      "  \n",
      "/usr/local/lib/python3.7/site-packages/ipykernel_launcher.py:4: RuntimeWarning: More than 20 figures have been opened. Figures created through the pyplot interface (`matplotlib.pyplot.figure`) are retained until explicitly closed and may consume too much memory. (To control this warning, see the rcParam `figure.max_open_warning`).\n",
      "  after removing the cwd from sys.path.\n"
     ]
    },
    {
     "name": "stdout",
     "output_type": "stream",
     "text": [
      "Plot line task: MAKESPAN_S\n"
     ]
    },
    {
     "name": "stderr",
     "output_type": "stream",
     "text": [
      "/usr/local/lib/python3.7/site-packages/ipykernel_launcher.py:14: UserWarning: Matplotlib is currently using pgf, which is a non-GUI backend, so cannot show the figure.\n",
      "  \n"
     ]
    }
   ],
   "source": [
    "print(\"NOFITS\")\n",
    "temp_df = df_swarp[~is_FITS]\n",
    "temp_df.BB_NB_FILES = (temp_df.BB_NB_FILES*100)/32\n",
    "\n",
    "loc = ['upper left', 'upper right', 'upper left', 'center left']\n",
    "for i,task in enumerate(tasks):\n",
    "    print(\"Plot line task:\", task)\n",
    "    plot_lineplot_per_task_bbtype(temp_df, task, output=\"-nofits-1w-32c\", xlabel=xlabel_input, legend=legend_bb, loc=loc[i])\n"
   ]
  },
  {
   "cell_type": "code",
   "execution_count": 21,
   "metadata": {},
   "outputs": [],
   "source": [
    "#g = sns.lineplot(x=\"BB_NB_FILES\", y=\"RESAMPLE_TIME_S\", hue=\"BB_TYPE\", style=\"BB_TYPE\", data=df_swarp[~is_FITS])"
   ]
  },
  {
   "cell_type": "code",
   "execution_count": 22,
   "metadata": {},
   "outputs": [],
   "source": [
    "ylabel='Execution time (s)'\n",
    "legend_label=['Burst Buffers', 'Parallel File System']"
   ]
  },
  {
   "cell_type": "code",
   "execution_count": 23,
   "metadata": {},
   "outputs": [
    {
     "name": "stderr",
     "output_type": "stream",
     "text": [
      "/usr/local/lib/python3.7/site-packages/pandas/core/generic.py:5096: SettingWithCopyWarning: \n",
      "A value is trying to be set on a copy of a slice from a DataFrame.\n",
      "Try using .loc[row_indexer,col_indexer] = value instead\n",
      "\n",
      "See the caveats in the documentation: http://pandas.pydata.org/pandas-docs/stable/indexing.html#indexing-view-versus-copy\n",
      "  self[name] = value\n",
      "/usr/local/lib/python3.7/site-packages/ipykernel_launcher.py:7: RuntimeWarning: More than 20 figures have been opened. Figures created through the pyplot interface (`matplotlib.pyplot.figure`) are retained until explicitly closed and may consume too much memory. (To control this warning, see the rcParam `figure.max_open_warning`).\n",
      "  import sys\n"
     ]
    },
    {
     "name": "stdout",
     "output_type": "stream",
     "text": [
      "PRIVATE\n"
     ]
    },
    {
     "name": "stderr",
     "output_type": "stream",
     "text": [
      "/usr/local/lib/python3.7/site-packages/ipykernel_launcher.py:29: UserWarning: Matplotlib is currently using pgf, which is a non-GUI backend, so cannot show the figure.\n"
     ]
    }
   ],
   "source": [
    "print(\"PRIVATE\")\n",
    "temp_df_private = df_swarp[is_PRIVATE]\n",
    "temp_df_private.BB_NB_FILES = (temp_df_private.BB_NB_FILES*100)/32\n",
    "\n",
    "def plot_lineplot_all_tasks_fits(df, output, label, legend_label, loc=['upper left', 'upper left', 'upper left', 'upper left']):\n",
    "    \n",
    "    f, axes = plt.subplots(2, 2, figsize=(10, 7), sharex=True)\n",
    "    f.patch.set_alpha(0)\n",
    "\n",
    "    g2 = sns.lineplot(x=\"BB_NB_FILES\", y=\"STAGEIN_TIME_S\", hue=\"FITS\", style=\"FITS\", data=df, ax=axes[0,0],markers=True)\n",
    "    g2.legend(title='Intermediate files', labels=legend_label)\n",
    "    g2.set(xlabel=xlabel, ylabel='Stage in time (s)')\n",
    "\n",
    "    g3 = sns.lineplot(x=\"BB_NB_FILES\", y=\"RESAMPLE_TIME_S\", hue=\"FITS\", style=\"FITS\", data=df, ax=axes[0,1],markers=True)\n",
    "    g3.legend(title='Intermediate files', labels=legend_label)\n",
    "    g3.set(xlabel=xlabel, ylabel='Resample time (s)')\n",
    "\n",
    "    g4 = sns.lineplot(x=\"BB_NB_FILES\", y=\"COMBINE_TIME_S\", hue=\"FITS\", style=\"FITS\", data=df, ax=axes[1,0],markers=True)\n",
    "    g4.legend(title='Intermediate files', labels=legend_label)\n",
    "    g4.set(xlabel=xlabel, ylabel='Combine time (s)')\n",
    "\n",
    "    g1 = sns.lineplot(x=\"BB_NB_FILES\", y=\"MAKESPAN_S\", hue=\"FITS\", style=\"FITS\", data=df, ax=axes[1,1],markers=True)\n",
    "    g1.legend(title='Intermediate files', labels=legend_label)\n",
    "    g1.set(xlabel=xlabel, ylabel='Makespan (s)')\n",
    "\n",
    "    plt.tight_layout()\n",
    "    plt.savefig(OUTPUT+output+'.pdf', facecolor=f.get_facecolor(), edgecolor='none')\n",
    "    plt.savefig(OUTPUT+output+'.pgf', facecolor=f.get_facecolor(), edgecolor='none')\n",
    "    plt.show()\n",
    "    plt.close() \n",
    "\n",
    "loc=['upper left', 'upper right', 'center left', 'upper right']\n",
    "\n",
    "plot_lineplot_all_tasks_fits(temp_df_private, \"swarp-line-private-1w-32c\", label=[xlabel_input, ylabel], legend_label=legend_label, loc=loc)\n"
   ]
  },
  {
   "cell_type": "code",
   "execution_count": 24,
   "metadata": {},
   "outputs": [
    {
     "name": "stderr",
     "output_type": "stream",
     "text": [
      "/usr/local/lib/python3.7/site-packages/pandas/core/generic.py:5096: SettingWithCopyWarning: \n",
      "A value is trying to be set on a copy of a slice from a DataFrame.\n",
      "Try using .loc[row_indexer,col_indexer] = value instead\n",
      "\n",
      "See the caveats in the documentation: http://pandas.pydata.org/pandas-docs/stable/indexing.html#indexing-view-versus-copy\n",
      "  self[name] = value\n",
      "/usr/local/lib/python3.7/site-packages/ipykernel_launcher.py:7: RuntimeWarning: More than 20 figures have been opened. Figures created through the pyplot interface (`matplotlib.pyplot.figure`) are retained until explicitly closed and may consume too much memory. (To control this warning, see the rcParam `figure.max_open_warning`).\n",
      "  import sys\n"
     ]
    },
    {
     "name": "stdout",
     "output_type": "stream",
     "text": [
      "STRIPED\n"
     ]
    },
    {
     "name": "stderr",
     "output_type": "stream",
     "text": [
      "/usr/local/lib/python3.7/site-packages/ipykernel_launcher.py:29: UserWarning: Matplotlib is currently using pgf, which is a non-GUI backend, so cannot show the figure.\n"
     ]
    }
   ],
   "source": [
    "print(\"STRIPED\")\n",
    "temp_df_striped = df_swarp[is_STRIPED]\n",
    "temp_df_striped.BB_NB_FILES = (temp_df_striped.BB_NB_FILES*100)/32\n",
    "loc=['upper left', 'lower right', 'upper left', 'lower right']\n",
    "\n",
    "plot_lineplot_all_tasks_fits(temp_df_striped, \"swarp-line-striped-1w-32c\", label=[xlabel, ylabel], legend_label=legend_label,loc=loc)\n"
   ]
  },
  {
   "cell_type": "code",
   "execution_count": 25,
   "metadata": {},
   "outputs": [
    {
     "name": "stderr",
     "output_type": "stream",
     "text": [
      "/usr/local/lib/python3.7/site-packages/pandas/core/generic.py:5096: SettingWithCopyWarning: \n",
      "A value is trying to be set on a copy of a slice from a DataFrame.\n",
      "Try using .loc[row_indexer,col_indexer] = value instead\n",
      "\n",
      "See the caveats in the documentation: http://pandas.pydata.org/pandas-docs/stable/indexing.html#indexing-view-versus-copy\n",
      "  self[name] = value\n",
      "/usr/local/lib/python3.7/site-packages/ipykernel_launcher.py:7: RuntimeWarning: More than 20 figures have been opened. Figures created through the pyplot interface (`matplotlib.pyplot.figure`) are retained until explicitly closed and may consume too much memory. (To control this warning, see the rcParam `figure.max_open_warning`).\n",
      "  import sys\n"
     ]
    },
    {
     "name": "stdout",
     "output_type": "stream",
     "text": [
      "ONNODES\n"
     ]
    },
    {
     "name": "stderr",
     "output_type": "stream",
     "text": [
      "/usr/local/lib/python3.7/site-packages/ipykernel_launcher.py:29: UserWarning: Matplotlib is currently using pgf, which is a non-GUI backend, so cannot show the figure.\n"
     ]
    }
   ],
   "source": [
    "print(\"ONNODES\")\n",
    "temp_df_summit = df_swarp[is_ONNODE]\n",
    "temp_df_summit.BB_NB_FILES = (temp_df_summit.BB_NB_FILES*100)/32\n",
    "\n",
    "loc=['upper left', 'center right', 'upper left', 'lower right']\n",
    "\n",
    "plot_lineplot_all_tasks_fits(temp_df_summit, \"swarp-line-onnodes-1w-32c\", label=[xlabel, ylabel], legend_label=legend_label, loc=loc)\n"
   ]
  },
  {
   "cell_type": "code",
   "execution_count": 26,
   "metadata": {},
   "outputs": [
    {
     "name": "stderr",
     "output_type": "stream",
     "text": [
      "/usr/local/lib/python3.7/site-packages/ipykernel_launcher.py:5: RuntimeWarning: More than 20 figures have been opened. Figures created through the pyplot interface (`matplotlib.pyplot.figure`) are retained until explicitly closed and may consume too much memory. (To control this warning, see the rcParam `figure.max_open_warning`).\n",
      "  \"\"\"\n"
     ]
    },
    {
     "name": "stdout",
     "output_type": "stream",
     "text": [
      "Plot line fits task: STAGEIN_TIME_S\n"
     ]
    },
    {
     "name": "stderr",
     "output_type": "stream",
     "text": [
      "/usr/local/lib/python3.7/site-packages/ipykernel_launcher.py:15: UserWarning: Matplotlib is currently using pgf, which is a non-GUI backend, so cannot show the figure.\n",
      "  from ipykernel import kernelapp as app\n",
      "/usr/local/lib/python3.7/site-packages/ipykernel_launcher.py:5: RuntimeWarning: More than 20 figures have been opened. Figures created through the pyplot interface (`matplotlib.pyplot.figure`) are retained until explicitly closed and may consume too much memory. (To control this warning, see the rcParam `figure.max_open_warning`).\n",
      "  \"\"\"\n"
     ]
    },
    {
     "name": "stdout",
     "output_type": "stream",
     "text": [
      "Plot line fits task: RESAMPLE_TIME_S\n"
     ]
    },
    {
     "name": "stderr",
     "output_type": "stream",
     "text": [
      "/usr/local/lib/python3.7/site-packages/ipykernel_launcher.py:15: UserWarning: Matplotlib is currently using pgf, which is a non-GUI backend, so cannot show the figure.\n",
      "  from ipykernel import kernelapp as app\n",
      "/usr/local/lib/python3.7/site-packages/ipykernel_launcher.py:5: RuntimeWarning: More than 20 figures have been opened. Figures created through the pyplot interface (`matplotlib.pyplot.figure`) are retained until explicitly closed and may consume too much memory. (To control this warning, see the rcParam `figure.max_open_warning`).\n",
      "  \"\"\"\n"
     ]
    },
    {
     "name": "stdout",
     "output_type": "stream",
     "text": [
      "Plot line fits task: COMBINE_TIME_S\n"
     ]
    },
    {
     "name": "stderr",
     "output_type": "stream",
     "text": [
      "/usr/local/lib/python3.7/site-packages/ipykernel_launcher.py:15: UserWarning: Matplotlib is currently using pgf, which is a non-GUI backend, so cannot show the figure.\n",
      "  from ipykernel import kernelapp as app\n",
      "/usr/local/lib/python3.7/site-packages/ipykernel_launcher.py:5: RuntimeWarning: More than 20 figures have been opened. Figures created through the pyplot interface (`matplotlib.pyplot.figure`) are retained until explicitly closed and may consume too much memory. (To control this warning, see the rcParam `figure.max_open_warning`).\n",
      "  \"\"\"\n"
     ]
    },
    {
     "name": "stdout",
     "output_type": "stream",
     "text": [
      "Plot line fits task: MAKESPAN_S\n"
     ]
    },
    {
     "name": "stderr",
     "output_type": "stream",
     "text": [
      "/usr/local/lib/python3.7/site-packages/ipykernel_launcher.py:15: UserWarning: Matplotlib is currently using pgf, which is a non-GUI backend, so cannot show the figure.\n",
      "  from ipykernel import kernelapp as app\n",
      "/usr/local/lib/python3.7/site-packages/ipykernel_launcher.py:5: RuntimeWarning: More than 20 figures have been opened. Figures created through the pyplot interface (`matplotlib.pyplot.figure`) are retained until explicitly closed and may consume too much memory. (To control this warning, see the rcParam `figure.max_open_warning`).\n",
      "  \"\"\"\n"
     ]
    },
    {
     "name": "stdout",
     "output_type": "stream",
     "text": [
      "Plot line fits task: STAGEIN_TIME_S\n"
     ]
    },
    {
     "name": "stderr",
     "output_type": "stream",
     "text": [
      "/usr/local/lib/python3.7/site-packages/ipykernel_launcher.py:15: UserWarning: Matplotlib is currently using pgf, which is a non-GUI backend, so cannot show the figure.\n",
      "  from ipykernel import kernelapp as app\n",
      "/usr/local/lib/python3.7/site-packages/ipykernel_launcher.py:5: RuntimeWarning: More than 20 figures have been opened. Figures created through the pyplot interface (`matplotlib.pyplot.figure`) are retained until explicitly closed and may consume too much memory. (To control this warning, see the rcParam `figure.max_open_warning`).\n",
      "  \"\"\"\n"
     ]
    },
    {
     "name": "stdout",
     "output_type": "stream",
     "text": [
      "Plot line fits task: RESAMPLE_TIME_S\n"
     ]
    },
    {
     "name": "stderr",
     "output_type": "stream",
     "text": [
      "/usr/local/lib/python3.7/site-packages/ipykernel_launcher.py:15: UserWarning: Matplotlib is currently using pgf, which is a non-GUI backend, so cannot show the figure.\n",
      "  from ipykernel import kernelapp as app\n",
      "/usr/local/lib/python3.7/site-packages/ipykernel_launcher.py:5: RuntimeWarning: More than 20 figures have been opened. Figures created through the pyplot interface (`matplotlib.pyplot.figure`) are retained until explicitly closed and may consume too much memory. (To control this warning, see the rcParam `figure.max_open_warning`).\n",
      "  \"\"\"\n"
     ]
    },
    {
     "name": "stdout",
     "output_type": "stream",
     "text": [
      "Plot line fits task: COMBINE_TIME_S\n"
     ]
    },
    {
     "name": "stderr",
     "output_type": "stream",
     "text": [
      "/usr/local/lib/python3.7/site-packages/ipykernel_launcher.py:15: UserWarning: Matplotlib is currently using pgf, which is a non-GUI backend, so cannot show the figure.\n",
      "  from ipykernel import kernelapp as app\n",
      "/usr/local/lib/python3.7/site-packages/ipykernel_launcher.py:5: RuntimeWarning: More than 20 figures have been opened. Figures created through the pyplot interface (`matplotlib.pyplot.figure`) are retained until explicitly closed and may consume too much memory. (To control this warning, see the rcParam `figure.max_open_warning`).\n",
      "  \"\"\"\n"
     ]
    },
    {
     "name": "stdout",
     "output_type": "stream",
     "text": [
      "Plot line fits task: MAKESPAN_S\n"
     ]
    },
    {
     "name": "stderr",
     "output_type": "stream",
     "text": [
      "/usr/local/lib/python3.7/site-packages/ipykernel_launcher.py:15: UserWarning: Matplotlib is currently using pgf, which is a non-GUI backend, so cannot show the figure.\n",
      "  from ipykernel import kernelapp as app\n",
      "/usr/local/lib/python3.7/site-packages/ipykernel_launcher.py:5: RuntimeWarning: More than 20 figures have been opened. Figures created through the pyplot interface (`matplotlib.pyplot.figure`) are retained until explicitly closed and may consume too much memory. (To control this warning, see the rcParam `figure.max_open_warning`).\n",
      "  \"\"\"\n"
     ]
    },
    {
     "name": "stdout",
     "output_type": "stream",
     "text": [
      "Plot line fits task: STAGEIN_TIME_S\n"
     ]
    },
    {
     "name": "stderr",
     "output_type": "stream",
     "text": [
      "/usr/local/lib/python3.7/site-packages/ipykernel_launcher.py:15: UserWarning: Matplotlib is currently using pgf, which is a non-GUI backend, so cannot show the figure.\n",
      "  from ipykernel import kernelapp as app\n",
      "/usr/local/lib/python3.7/site-packages/ipykernel_launcher.py:5: RuntimeWarning: More than 20 figures have been opened. Figures created through the pyplot interface (`matplotlib.pyplot.figure`) are retained until explicitly closed and may consume too much memory. (To control this warning, see the rcParam `figure.max_open_warning`).\n",
      "  \"\"\"\n"
     ]
    },
    {
     "name": "stdout",
     "output_type": "stream",
     "text": [
      "Plot line fits task: RESAMPLE_TIME_S\n"
     ]
    },
    {
     "name": "stderr",
     "output_type": "stream",
     "text": [
      "/usr/local/lib/python3.7/site-packages/ipykernel_launcher.py:15: UserWarning: Matplotlib is currently using pgf, which is a non-GUI backend, so cannot show the figure.\n",
      "  from ipykernel import kernelapp as app\n",
      "/usr/local/lib/python3.7/site-packages/ipykernel_launcher.py:5: RuntimeWarning: More than 20 figures have been opened. Figures created through the pyplot interface (`matplotlib.pyplot.figure`) are retained until explicitly closed and may consume too much memory. (To control this warning, see the rcParam `figure.max_open_warning`).\n",
      "  \"\"\"\n"
     ]
    },
    {
     "name": "stdout",
     "output_type": "stream",
     "text": [
      "Plot line fits task: COMBINE_TIME_S\n"
     ]
    },
    {
     "name": "stderr",
     "output_type": "stream",
     "text": [
      "/usr/local/lib/python3.7/site-packages/ipykernel_launcher.py:15: UserWarning: Matplotlib is currently using pgf, which is a non-GUI backend, so cannot show the figure.\n",
      "  from ipykernel import kernelapp as app\n",
      "/usr/local/lib/python3.7/site-packages/ipykernel_launcher.py:5: RuntimeWarning: More than 20 figures have been opened. Figures created through the pyplot interface (`matplotlib.pyplot.figure`) are retained until explicitly closed and may consume too much memory. (To control this warning, see the rcParam `figure.max_open_warning`).\n",
      "  \"\"\"\n"
     ]
    },
    {
     "name": "stdout",
     "output_type": "stream",
     "text": [
      "Plot line fits task: MAKESPAN_S\n"
     ]
    },
    {
     "name": "stderr",
     "output_type": "stream",
     "text": [
      "/usr/local/lib/python3.7/site-packages/ipykernel_launcher.py:15: UserWarning: Matplotlib is currently using pgf, which is a non-GUI backend, so cannot show the figure.\n",
      "  from ipykernel import kernelapp as app\n"
     ]
    }
   ],
   "source": [
    "def plot_lineplot_per_task_fits(df, col, output, xlab, ylab, legend, loc='upper left'):\n",
    "\n",
    "    name = col.split(\"_\")[0].lower()\n",
    "\n",
    "    f = plt.figure(figsize=fig_size_rect)\n",
    "    f.patch.set_alpha(0)\n",
    "    \n",
    "    g = sns.lineplot(x=\"BB_NB_FILES\", y=col, hue=\"FITS\", style=\"FITS\", data=df,markers=True)\n",
    "    g.legend(title='Intermediate files', labels=legend_label)\n",
    "    g.set(xlabel=xlabel, ylabel=ylabel,xticks=df.BB_NB_FILES.unique())\n",
    "\n",
    "    plt.tight_layout()\n",
    "    plt.savefig(OUTPUT+'swarp-line-'+name+output+'.pdf', facecolor=f.get_facecolor(), edgecolor='none')\n",
    "    plt.savefig(OUTPUT+'swarp-line-'+name+output+'.pgf', facecolor=f.get_facecolor(), edgecolor='none')\n",
    "    plt.show()\n",
    "\n",
    "loc=['upper left', 'lower right', 'upper left', 'lower right']\n",
    "for i,task in enumerate(tasks):\n",
    "    print(\"Plot line fits task:\", task)\n",
    "    plot_lineplot_per_task_fits(temp_df_private, task, output=\"-fits-private-1w-32c\", xlab=xlabel, ylab=ylabel, legend=legend_label, loc=loc[i])\n",
    "    \n",
    "for i,task in enumerate(tasks):\n",
    "    print(\"Plot line fits task:\", task)\n",
    "    plot_lineplot_per_task_fits(temp_df_striped, task, output=\"-fits-striped-1w-32c\", xlab=xlabel, ylab=ylabel, legend=legend_label, loc=loc[i])\n",
    "    \n",
    "for i,task in enumerate(tasks):\n",
    "    print(\"Plot line fits task:\", task)\n",
    "    plot_lineplot_per_task_fits(temp_df_summit, task, output=\"-fits-onnode-1w-32c\", xlab=xlabel, ylab=ylabel, legend=legend_label, loc=loc[i])\n",
    "    "
   ]
  },
  {
   "cell_type": "code",
   "execution_count": 27,
   "metadata": {},
   "outputs": [
    {
     "name": "stderr",
     "output_type": "stream",
     "text": [
      "/usr/local/lib/python3.7/site-packages/ipykernel_launcher.py:14: RuntimeWarning: More than 20 figures have been opened. Figures created through the pyplot interface (`matplotlib.pyplot.figure`) are retained until explicitly closed and may consume too much memory. (To control this warning, see the rcParam `figure.max_open_warning`).\n",
      "  \n",
      "/usr/local/lib/python3.7/site-packages/ipykernel_launcher.py:29: UserWarning: Matplotlib is currently using pgf, which is a non-GUI backend, so cannot show the figure.\n"
     ]
    }
   ],
   "source": [
    "# agg_swarp = df_swarp.groupby(['ID', 'BB_NB_FILES','FITS','BB_SIZE_FILES_MB', 'BB_TYPE', 'AVG', 'NB_CORES'], as_index=False).agg({'MAKESPAN_S': 'max', 'COMBINE_TIME_S': 'max', 'RESAMPLE_TIME_S': 'max', 'STAGEIN_TIME_S': 'min'})\n",
    "\n",
    "\n",
    "print_dots = True\n",
    "xlabel='Number of input files staged in Burst Buffers'\n",
    "ylabel='Bandwidth (MB/s)'\n",
    "\n",
    "# agg_swarp['bw'] = agg_swarp['BB_SIZE_FILES_MB'] / agg_swarp['STAGEIN_TIME_S']\n",
    "\n",
    "# bandwidth_swarp = df_swarp.groupby(['ID', 'NB_PIPELINE','FITS', 'BB_TYPE', 'AVG', 'NB_CORES'], as_index=False).agg(lambda g: g['BB_SIZE_FILES_MB'].max()/g['STAGEIN_TIME_S'].max())\n",
    "\n",
    "#print(bandwidth_swarp)\n",
    "# f, axes = plt.subplots(1, 2, figsize=(9, 4.5), sharex=True, sharey=True)\n",
    "f = plt.figure(figsize=fig_size_rect)\n",
    "f.patch.set_alpha(0)\n",
    "\n",
    "g1 = sns.lineplot(x=\"BB_NB_FILES\", y=\"BANDWIDTH_MBS\", data=df_swarp, hue=\"BB_TYPE\", style=\"BB_TYPE\", markers=True)\n",
    "g1.set(xlabel=xlabel, ylabel=ylabel)\n",
    "\n",
    "# g1.set_xscale('log')\n",
    "# g1.set_xticks(agg_swarp.NB_PIPELINE.unique())\n",
    "# g1.get_xaxis().set_major_formatter(mpl.ticker.ScalarFormatter())\n",
    "\n",
    "g1.legend(title='', labels=legend_bb)\n",
    "\n",
    "plt.tight_layout()\n",
    "plt.savefig(OUTPUT+'swarp-bandwidth-1w-32c-Xf.pdf', facecolor=f.get_facecolor(), edgecolor='none')\n",
    "plt.savefig(OUTPUT+'swarp-bandwidth-1w-32c-Xf.pgf', facecolor=f.get_facecolor(), edgecolor='none')\n",
    "plt.show()"
   ]
  },
  {
   "cell_type": "code",
   "execution_count": null,
   "metadata": {},
   "outputs": [],
   "source": []
  },
  {
   "cell_type": "code",
   "execution_count": null,
   "metadata": {},
   "outputs": [],
   "source": []
  },
  {
   "cell_type": "code",
   "execution_count": null,
   "metadata": {},
   "outputs": [],
   "source": []
  },
  {
   "cell_type": "code",
   "execution_count": null,
   "metadata": {},
   "outputs": [],
   "source": []
  },
  {
   "cell_type": "code",
   "execution_count": null,
   "metadata": {},
   "outputs": [],
   "source": []
  }
 ],
 "metadata": {
  "kernelspec": {
   "display_name": "Python 3",
   "language": "python",
   "name": "python3"
  },
  "language_info": {
   "codemirror_mode": {
    "name": "ipython",
    "version": 3
   },
   "file_extension": ".py",
   "mimetype": "text/x-python",
   "name": "python",
   "nbconvert_exporter": "python",
   "pygments_lexer": "ipython3",
   "version": "3.7.7"
  }
 },
 "nbformat": 4,
 "nbformat_minor": 2
}
