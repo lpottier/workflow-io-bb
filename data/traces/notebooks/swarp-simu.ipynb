{
 "cells": [
  {
   "cell_type": "code",
   "execution_count": 1,
   "metadata": {},
   "outputs": [
    {
     "name": "stdout",
     "output_type": "stream",
     "text": [
      "/usr/local/opt/python/bin/python3.7\n"
     ]
    },
    {
     "data": {
      "text/html": [
       "<style>.container { width:100% !important; }</style>"
      ],
      "text/plain": [
       "<IPython.core.display.HTML object>"
      ]
     },
     "metadata": {},
     "output_type": "display_data"
    }
   ],
   "source": [
    "import sys\n",
    "import os\n",
    "import numpy\n",
    "print(sys.executable)\n",
    "\n",
    "from IPython.core.display import display, HTML\n",
    "display(HTML(\"<style>.container { width:100% !important; }</style>\"))\n",
    "\n",
    "import importlib\n",
    "seaborn_found = importlib.util.find_spec('seaborn')\n",
    "if seaborn_found is None:\n",
    "    sys.write.stderr(\"[error] Seaborn package not found. exit\")\n",
    "    exit(-1)\n",
    "\n",
    "import seaborn as sns\n",
    "import pandas as pd\n",
    "\n",
    "import matplotlib as mpl\n",
    "\n",
    "#mpl.use(\"pgf\")\n",
    "\n",
    "import matplotlib.pyplot as plt\n",
    "\n",
    "plt.rcParams.update({\n",
    "    \"font.family\": \"serif\",  # use serif/main font for text elements\n",
    "    \"text.usetex\": False,     # use inline math for ticks\n",
    "    \"pgf.rcfonts\": False,    # don't setup fonts from rc parameters\n",
    "    \"pgf.preamble\": [\n",
    "         \"\\\\usepackage{units}\",          # load additional packages\n",
    "         \"\\\\usepackage{metalogo}\",\n",
    "         \"\\\\usepackage{unicode-math}\",   # unicode math setup\n",
    "         r\"\\setmathfont{xits-math.otf}\",\n",
    "         ]\n",
    "})\n",
    "\n",
    "\n",
    "plt.rcParams.update({\n",
    "    \"font.family\": \"serif\",\n",
    "    \"font.serif\": [\"Times\"],                    # use latex default serif font\n",
    "    \"font.size\": \"22\",\n",
    "})\n",
    "\n",
    "plt.rcParams.update({\n",
    "    \"pgf.texsystem\": \"pdflatex\",\n",
    "    \"pgf.preamble\": [\n",
    "         r\"\\usepackage[utf8x]{inputenc}\",\n",
    "         r\"\\usepackage[T1]{fontenc}\",\n",
    "         r\"\\usepackage{cmbright}\",\n",
    "         ]\n",
    "})\n",
    "\n",
    "# plt.rc('text', usetex=True)\n",
    "\n",
    "FONT=18\n",
    "\n",
    "sns.set_context(\"paper\", font_scale=1.3, rc={\"lines.linewidth\": 1.5, \"axes.labelsize\":FONT, \"axes.titlesize\":FONT, \"legend.fontsize\":FONT, \"xtick.labelsize\":FONT, \"ytick.labelsize\":FONT, \"font.size\":FONT})\n",
    "\n",
    "sns.set_style(\"darkgrid\", {'xtick.bottom': True, 'xtick.top': False, 'ytick.left': True, 'ytick.right': False, 'axes.grid': True, \"axes.facecolor\": \".9\", 'grid.linestyle': '-', 'lines.linewidth':2.5})\n",
    "# sns.set_palette(\"dark\")\n",
    "\n",
    "DIR_REAL_DATA=\"/Users/lpottier/research/usc-isi/projects/active/workflow-io-bb/data/traces/swarp/\"\n",
    "DIR_SIMU=\"/Users/lpottier/research/usc-isi/projects/active/workflow-io-bb/simulation/output\"\n",
    "\n",
    "fig_size_square = (5, 4)\n",
    "fig_size_rect = (6.5, 4)"
   ]
  },
  {
   "cell_type": "code",
   "execution_count": 2,
   "metadata": {},
   "outputs": [],
   "source": [
    "# csv_file = DIR+\"/simu-bb-runs2020-1c.csv\"\n",
    "# csv_file = DIR+\"/simu-bb_runs2020-Xc.csv\"\n",
    "csv_file_cori = DIR_SIMU+\"/simu-cori-runs-multi-pipelines-1c.csv\"\n",
    "csv_file_summit = DIR_SIMU+\"/simu-summit-runs-multi-pipelines-1c.csv\"\n",
    "\n",
    "CORE=\"1\"\n",
    "PLOT_DIR=os.getcwd()\n",
    "# PLOT_DIR=\"/Users/lpottier/research/usc-isi/projects/paper-workflow-bb/figures/plots/simu-swarp\"\n",
    "\n",
    "OUTPUT = PLOT_DIR+\"/\"+\"simu-bb-runs2020-multipipeline-1C/\""
   ]
  },
  {
   "cell_type": "code",
   "execution_count": 3,
   "metadata": {},
   "outputs": [
    {
     "name": "stdout",
     "output_type": "stream",
     "text": [
      "Directory  /Users/lpottier/research/usc-isi/projects/active/workflow-io-bb/data/traces/notebooks/simu-bb-runs2020-multipipeline-1C/  already exists\n"
     ]
    }
   ],
   "source": [
    "\n",
    "try:\n",
    "    # Create target Directory\n",
    "    os.mkdir(OUTPUT)\n",
    "    print(\"Directory \" , OUTPUT ,  \" Created \") \n",
    "except FileExistsError:\n",
    "    print(\"Directory \" , OUTPUT ,  \" already exists\")\n"
   ]
  },
  {
   "cell_type": "code",
   "execution_count": 4,
   "metadata": {},
   "outputs": [],
   "source": [
    "df_cori = pd.read_csv(csv_file_cori, sep=' ')\n",
    "df_summit = pd.read_csv(csv_file_summit, sep=' ')\n",
    "\n",
    "df = pd.concat([df_cori, df_summit])\n",
    "df[\"BB_TYPE\"]= df[\"BB_TYPE\"].str.replace(\"SUMMIT\", \"ONNODE\", case = False)\n",
    "\n",
    "df_priv = df[df.BB_TYPE==\"PRIVATE\"]\n",
    "df_strip = df[df.BB_TYPE==\"STRIPED\"]\n",
    "df_onnode = df[df.BB_TYPE==\"ONNODE\"]\n",
    "\n",
    "\n",
    "df_agg = df.groupby(['ID', 'NB_PIPELINE','FITS', 'BB_TYPE', 'BB_NB_FILES','AVG', 'NB_CORES'], as_index=False).agg({'MEASURED_MKSP_S': 'max', 'ERR_MKSP': 'max', 'SIMULATION_S': 'max', 'MEASURED_WALLTIME_S': 'max', 'ERR_WALLTIME': 'max'})\n"
   ]
  },
  {
   "cell_type": "code",
   "execution_count": 5,
   "metadata": {},
   "outputs": [
    {
     "data": {
      "text/html": [
       "<div>\n",
       "<style scoped>\n",
       "    .dataframe tbody tr th:only-of-type {\n",
       "        vertical-align: middle;\n",
       "    }\n",
       "\n",
       "    .dataframe tbody tr th {\n",
       "        vertical-align: top;\n",
       "    }\n",
       "\n",
       "    .dataframe thead th {\n",
       "        text-align: right;\n",
       "    }\n",
       "</style>\n",
       "<table border=\"1\" class=\"dataframe\">\n",
       "  <thead>\n",
       "    <tr style=\"text-align: right;\">\n",
       "      <th></th>\n",
       "      <th>ID</th>\n",
       "      <th>NB_PIPELINE</th>\n",
       "      <th>FITS</th>\n",
       "      <th>BB_TYPE</th>\n",
       "      <th>BB_NB_FILES</th>\n",
       "      <th>AVG</th>\n",
       "      <th>NB_CORES</th>\n",
       "      <th>MEASURED_MKSP_S</th>\n",
       "      <th>ERR_MKSP</th>\n",
       "      <th>SIMULATION_S</th>\n",
       "      <th>MEASURED_WALLTIME_S</th>\n",
       "      <th>ERR_WALLTIME</th>\n",
       "    </tr>\n",
       "  </thead>\n",
       "  <tbody>\n",
       "    <tr>\n",
       "      <th>0</th>\n",
       "      <td>112043</td>\n",
       "      <td>32</td>\n",
       "      <td>Y</td>\n",
       "      <td>ONNODE</td>\n",
       "      <td>32</td>\n",
       "      <td>1</td>\n",
       "      <td>1</td>\n",
       "      <td>91.2036</td>\n",
       "      <td>0.137862</td>\n",
       "      <td>78.6301</td>\n",
       "      <td>95.0321</td>\n",
       "      <td>0.297854</td>\n",
       "    </tr>\n",
       "    <tr>\n",
       "      <th>1</th>\n",
       "      <td>112043</td>\n",
       "      <td>32</td>\n",
       "      <td>Y</td>\n",
       "      <td>ONNODE</td>\n",
       "      <td>32</td>\n",
       "      <td>2</td>\n",
       "      <td>1</td>\n",
       "      <td>92.3017</td>\n",
       "      <td>0.139615</td>\n",
       "      <td>79.4150</td>\n",
       "      <td>95.7935</td>\n",
       "      <td>0.303540</td>\n",
       "    </tr>\n",
       "    <tr>\n",
       "      <th>2</th>\n",
       "      <td>112043</td>\n",
       "      <td>32</td>\n",
       "      <td>Y</td>\n",
       "      <td>ONNODE</td>\n",
       "      <td>32</td>\n",
       "      <td>3</td>\n",
       "      <td>1</td>\n",
       "      <td>91.2675</td>\n",
       "      <td>0.137891</td>\n",
       "      <td>78.6826</td>\n",
       "      <td>99.2084</td>\n",
       "      <td>0.326004</td>\n",
       "    </tr>\n",
       "    <tr>\n",
       "      <th>3</th>\n",
       "      <td>112043</td>\n",
       "      <td>32</td>\n",
       "      <td>Y</td>\n",
       "      <td>ONNODE</td>\n",
       "      <td>32</td>\n",
       "      <td>4</td>\n",
       "      <td>1</td>\n",
       "      <td>90.4763</td>\n",
       "      <td>0.136394</td>\n",
       "      <td>78.1359</td>\n",
       "      <td>94.0009</td>\n",
       "      <td>0.290676</td>\n",
       "    </tr>\n",
       "    <tr>\n",
       "      <th>4</th>\n",
       "      <td>112043</td>\n",
       "      <td>32</td>\n",
       "      <td>Y</td>\n",
       "      <td>ONNODE</td>\n",
       "      <td>32</td>\n",
       "      <td>5</td>\n",
       "      <td>1</td>\n",
       "      <td>91.2743</td>\n",
       "      <td>0.137751</td>\n",
       "      <td>78.7012</td>\n",
       "      <td>99.0580</td>\n",
       "      <td>0.326291</td>\n",
       "    </tr>\n",
       "  </tbody>\n",
       "</table>\n",
       "</div>"
      ],
      "text/plain": [
       "       ID  NB_PIPELINE FITS BB_TYPE  BB_NB_FILES  AVG  NB_CORES  \\\n",
       "0  112043           32    Y  ONNODE           32    1         1   \n",
       "1  112043           32    Y  ONNODE           32    2         1   \n",
       "2  112043           32    Y  ONNODE           32    3         1   \n",
       "3  112043           32    Y  ONNODE           32    4         1   \n",
       "4  112043           32    Y  ONNODE           32    5         1   \n",
       "\n",
       "   MEASURED_MKSP_S  ERR_MKSP  SIMULATION_S  MEASURED_WALLTIME_S  ERR_WALLTIME  \n",
       "0          91.2036  0.137862       78.6301              95.0321      0.297854  \n",
       "1          92.3017  0.139615       79.4150              95.7935      0.303540  \n",
       "2          91.2675  0.137891       78.6826              99.2084      0.326004  \n",
       "3          90.4763  0.136394       78.1359              94.0009      0.290676  \n",
       "4          91.2743  0.137751       78.7012              99.0580      0.326291  "
      ]
     },
     "execution_count": 5,
     "metadata": {},
     "output_type": "execute_result"
    }
   ],
   "source": [
    "df_agg.head()"
   ]
  },
  {
   "cell_type": "code",
   "execution_count": 6,
   "metadata": {},
   "outputs": [
    {
     "name": "stderr",
     "output_type": "stream",
     "text": [
      "/usr/local/lib/python3.7/site-packages/ipykernel_launcher.py:3: FutureWarning: Sorting because non-concatenation axis is not aligned. A future version\n",
      "of pandas will change to not sort by default.\n",
      "\n",
      "To accept the future behavior, pass 'sort=False'.\n",
      "\n",
      "To retain the current behavior and silence the warning, pass 'sort=True'.\n",
      "\n",
      "  This is separate from the ipykernel package so we can avoid doing imports until\n"
     ]
    }
   ],
   "source": [
    "df_real_cori = pd.read_csv(DIR_REAL_DATA+\"/shared-cori/bb_runs2020-multipipeline-1C.csv\", sep=' ')\n",
    "df_real_summit = pd.read_csv(DIR_REAL_DATA+\"/private-summit/runs-multi-pipelines-1c-clean.csv\", sep=' ')\n",
    "df_real = pd.concat([df_real_cori, df_real_summit])\n",
    "\n",
    "big = pd.merge(df, df_real, on=['ID', 'NB_PIPELINE','FITS', 'BB_TYPE', 'AVG', 'NB_CORES'])\n",
    "\n",
    "bigagg = big.groupby(['ID', 'NB_PIPELINE','FITS', 'BB_TYPE', 'AVG', 'NB_CORES'], as_index=False).agg({'MEASURED_MKSP_S': 'max', 'MAKESPAN_S': 'max', 'SIMULATION_S': 'max', 'MEASURED_WALLTIME_S': 'max', 'ERR_WALLTIME': 'max'})\n"
   ]
  },
  {
   "cell_type": "code",
   "execution_count": 7,
   "metadata": {},
   "outputs": [
    {
     "data": {
      "text/html": [
       "<div>\n",
       "<style scoped>\n",
       "    .dataframe tbody tr th:only-of-type {\n",
       "        vertical-align: middle;\n",
       "    }\n",
       "\n",
       "    .dataframe tbody tr th {\n",
       "        vertical-align: top;\n",
       "    }\n",
       "\n",
       "    .dataframe thead th {\n",
       "        text-align: right;\n",
       "    }\n",
       "</style>\n",
       "<table border=\"1\" class=\"dataframe\">\n",
       "  <thead>\n",
       "    <tr style=\"text-align: right;\">\n",
       "      <th></th>\n",
       "      <th>ID</th>\n",
       "      <th>NB_PIPELINE</th>\n",
       "      <th>FITS</th>\n",
       "      <th>BB_TYPE</th>\n",
       "      <th>AVG</th>\n",
       "      <th>NB_CORES</th>\n",
       "      <th>MEASURED_MKSP_S</th>\n",
       "      <th>MAKESPAN_S</th>\n",
       "      <th>SIMULATION_S</th>\n",
       "      <th>MEASURED_WALLTIME_S</th>\n",
       "      <th>ERR_WALLTIME</th>\n",
       "      <th>ERR</th>\n",
       "    </tr>\n",
       "  </thead>\n",
       "  <tbody>\n",
       "    <tr>\n",
       "      <th>0</th>\n",
       "      <td>112043</td>\n",
       "      <td>32</td>\n",
       "      <td>Y</td>\n",
       "      <td>ONNODE</td>\n",
       "      <td>1</td>\n",
       "      <td>1</td>\n",
       "      <td>91.2036</td>\n",
       "      <td>89.244617</td>\n",
       "      <td>78.6301</td>\n",
       "      <td>95.0321</td>\n",
       "      <td>0.297854</td>\n",
       "      <td>13.499305</td>\n",
       "    </tr>\n",
       "    <tr>\n",
       "      <th>1</th>\n",
       "      <td>112043</td>\n",
       "      <td>32</td>\n",
       "      <td>Y</td>\n",
       "      <td>ONNODE</td>\n",
       "      <td>2</td>\n",
       "      <td>1</td>\n",
       "      <td>92.3017</td>\n",
       "      <td>89.943674</td>\n",
       "      <td>79.4150</td>\n",
       "      <td>95.7935</td>\n",
       "      <td>0.303540</td>\n",
       "      <td>13.257790</td>\n",
       "    </tr>\n",
       "    <tr>\n",
       "      <th>2</th>\n",
       "      <td>112043</td>\n",
       "      <td>32</td>\n",
       "      <td>Y</td>\n",
       "      <td>ONNODE</td>\n",
       "      <td>3</td>\n",
       "      <td>1</td>\n",
       "      <td>91.2675</td>\n",
       "      <td>89.968515</td>\n",
       "      <td>78.6826</td>\n",
       "      <td>99.2084</td>\n",
       "      <td>0.326004</td>\n",
       "      <td>14.343596</td>\n",
       "    </tr>\n",
       "    <tr>\n",
       "      <th>3</th>\n",
       "      <td>112043</td>\n",
       "      <td>32</td>\n",
       "      <td>Y</td>\n",
       "      <td>ONNODE</td>\n",
       "      <td>4</td>\n",
       "      <td>1</td>\n",
       "      <td>90.4763</td>\n",
       "      <td>88.146305</td>\n",
       "      <td>78.1359</td>\n",
       "      <td>94.0009</td>\n",
       "      <td>0.290676</td>\n",
       "      <td>12.811531</td>\n",
       "    </tr>\n",
       "    <tr>\n",
       "      <th>4</th>\n",
       "      <td>112043</td>\n",
       "      <td>32</td>\n",
       "      <td>Y</td>\n",
       "      <td>ONNODE</td>\n",
       "      <td>5</td>\n",
       "      <td>1</td>\n",
       "      <td>91.2743</td>\n",
       "      <td>89.208339</td>\n",
       "      <td>78.7012</td>\n",
       "      <td>99.0580</td>\n",
       "      <td>0.326291</td>\n",
       "      <td>13.350672</td>\n",
       "    </tr>\n",
       "  </tbody>\n",
       "</table>\n",
       "</div>"
      ],
      "text/plain": [
       "       ID  NB_PIPELINE FITS BB_TYPE  AVG  NB_CORES  MEASURED_MKSP_S  \\\n",
       "0  112043           32    Y  ONNODE    1         1          91.2036   \n",
       "1  112043           32    Y  ONNODE    2         1          92.3017   \n",
       "2  112043           32    Y  ONNODE    3         1          91.2675   \n",
       "3  112043           32    Y  ONNODE    4         1          90.4763   \n",
       "4  112043           32    Y  ONNODE    5         1          91.2743   \n",
       "\n",
       "   MAKESPAN_S  SIMULATION_S  MEASURED_WALLTIME_S  ERR_WALLTIME        ERR  \n",
       "0   89.244617       78.6301              95.0321      0.297854  13.499305  \n",
       "1   89.943674       79.4150              95.7935      0.303540  13.257790  \n",
       "2   89.968515       78.6826              99.2084      0.326004  14.343596  \n",
       "3   88.146305       78.1359              94.0009      0.290676  12.811531  \n",
       "4   89.208339       78.7012              99.0580      0.326291  13.350672  "
      ]
     },
     "execution_count": 7,
     "metadata": {},
     "output_type": "execute_result"
    }
   ],
   "source": [
    "bigagg['ERR'] = (abs(bigagg['MAKESPAN_S'] - bigagg['SIMULATION_S']) / bigagg['SIMULATION_S']) *100\n",
    "bigagg.head()"
   ]
  },
  {
   "cell_type": "code",
   "execution_count": 8,
   "metadata": {},
   "outputs": [
    {
     "name": "stdout",
     "output_type": "stream",
     "text": [
      "       ID  NB_PIPELINE FITS BB_TYPE  AVG  NB_CORES  MEASURED_MKSP_S  \\\n",
      "0  112043           32    Y  ONNODE    1         1          91.2036   \n",
      "1  112043           32    Y  ONNODE    2         1          92.3017   \n",
      "2  112043           32    Y  ONNODE    3         1          91.2675   \n",
      "3  112043           32    Y  ONNODE    4         1          90.4763   \n",
      "4  112043           32    Y  ONNODE    5         1          91.2743   \n",
      "\n",
      "   MAKESPAN_S  SIMULATION_S  MEASURED_WALLTIME_S  ERR_WALLTIME        ERR  \n",
      "0   89.244617       78.6301              95.0321      0.297854  13.499305  \n",
      "1   89.943674       79.4150              95.7935      0.303540  13.257790  \n",
      "2   89.968515       78.6826              99.2084      0.326004  14.343596  \n",
      "3   88.146305       78.1359              94.0009      0.290676  12.811531  \n",
      "4   89.208339       78.7012              99.0580      0.326291  13.350672  \n",
      "BB_NB_FILES : [32]\n",
      "BB_TYPE     : ['PRIVATE' 'STRIPED' 'ONNODE']\n",
      "BB_TYPE     : ['Y']\n",
      "NB_PIPELINE : [16  1 32  4  8]\n"
     ]
    }
   ],
   "source": [
    "print(bigagg.head())\n",
    "print(\"BB_NB_FILES :\", df.BB_NB_FILES.unique())\n",
    "print(\"BB_TYPE     :\", df.BB_TYPE.unique())\n",
    "print(\"BB_TYPE     :\", df.FITS.unique())\n",
    "print(\"NB_PIPELINE :\", df.NB_PIPELINE.unique())"
   ]
  },
  {
   "cell_type": "code",
   "execution_count": 9,
   "metadata": {},
   "outputs": [
    {
     "data": {
      "image/png": "[encoded data removed]",
      "text/plain": [
       "<Figure size 468x288 with 1 Axes>"
      ]
     },
     "metadata": {
      "needs_background": "light"
     },
     "output_type": "display_data"
    }
   ],
   "source": [
    "xlabel='Number of pipelines'\n",
    "ylabel='Execution time (s)'\n",
    "\n",
    "# name = col.split(\"_\")[0].lower()\n",
    "\n",
    "is_FITS = bigagg['BB_TYPE']==\"FITS\"\n",
    "is_PRIVATE = bigagg['BB_TYPE']==\"PRIVATE\"\n",
    "is_STRIPED = bigagg['BB_TYPE']==\"STRIPED\"\n",
    "is_ONNODE = bigagg['BB_TYPE']==\"ONNODE\"\n",
    "\n",
    "\n",
    "f = plt.figure(figsize=fig_size_rect)\n",
    "f.patch.set_alpha(0)\n",
    "\n",
    "g = sns.lineplot(x=\"NB_PIPELINE\", y=\"MAKESPAN_S\", data=bigagg[is_PRIVATE],  color=\"b\", markers=True)\n",
    "g = sns.lineplot(x=\"NB_PIPELINE\", y=\"SIMULATION_S\", data=bigagg[is_PRIVATE],  color=\"g\", markers=True)\n",
    "\n",
    "# ax2 = g.twinx()\n",
    "# sns.lineplot(x=\"NB_PIPELINE\", y=\"ERR\", data=bigagg[is_PRIVATE], markers='x', ax=ax2, ci=None, color=\"black\")\n",
    "\n",
    "g.legend(loc='upper left', title='', labels=[\"Measured makespan\", \"Simulated makespan\"], frameon=False)\n",
    "\n",
    "# ax2.legend(loc='lower right', title='', labels=[\"Error\"])\n",
    "# ax2.set(ylabel=\"Error (%)\")\n",
    "g.set(xlabel=xlabel, ylabel=ylabel, xticks=bigagg.NB_PIPELINE.unique(), ylim=(90, 250))\n",
    "# plt.grid()\n",
    "\n",
    "plt.tight_layout()\n",
    "plt.savefig(OUTPUT+'swarp-simu-private-mksp-pipeline.pdf', facecolor=f.get_facecolor(), edgecolor='none')\n",
    "plt.savefig(OUTPUT+'swarp-simu-private-mksp-pipeline.pgf', facecolor=f.get_facecolor(), edgecolor='none')\n",
    "plt.show()"
   ]
  },
  {
   "cell_type": "code",
   "execution_count": 10,
   "metadata": {},
   "outputs": [
    {
     "name": "stdout",
     "output_type": "stream",
     "text": [
      "PRIVATE: min error 1.2221309111596512 , avg error 11.820647752506249 , sd error 7.299758868822769 , max error 51.5133953293482\n"
     ]
    }
   ],
   "source": [
    "print(\"PRIVATE: min error\",\n",
    "    min(bigagg[is_PRIVATE]['ERR']),\n",
    "    \", avg error\",\n",
    "    numpy.mean(bigagg[is_PRIVATE]['ERR']),\n",
    "    \", sd error\",\n",
    "    numpy.std(bigagg[is_PRIVATE]['ERR']),\n",
    "    \", max error\",\n",
    "    max(bigagg[is_PRIVATE]['ERR']),\n",
    ")"
   ]
  },
  {
   "cell_type": "code",
   "execution_count": 11,
   "metadata": {},
   "outputs": [
    {
     "data": {
      "image/png": "[encoded data removed]",
      "text/plain": [
       "<Figure size 468x288 with 1 Axes>"
      ]
     },
     "metadata": {
      "needs_background": "light"
     },
     "output_type": "display_data"
    }
   ],
   "source": [
    "xlabel='Number of pipelines'\n",
    "ylabel='Execution time (s)'\n",
    "\n",
    "# name = col.split(\"_\")[0].lower()\n",
    "\n",
    "f = plt.figure(figsize=fig_size_rect)\n",
    "f.patch.set_alpha(0)\n",
    "\n",
    "g = sns.lineplot(x=\"NB_PIPELINE\", y=\"MAKESPAN_S\", data=bigagg[is_STRIPED],  color=\"b\", markers=True)\n",
    "g = sns.lineplot(x=\"NB_PIPELINE\", y=\"SIMULATION_S\", data=bigagg[is_STRIPED],  color=\"g\", markers=True)\n",
    "\n",
    "# ax2 = g.twinx()\n",
    "# sns.lineplot(x=\"NB_PIPELINE\", y=\"ERR\", data=bigagg[~is_PRIVATE], markers='x', ax=ax2, ci=None, color=\"black\")\n",
    "\n",
    "# ax2.legend(loc='lower right', title='', labels=[\"Error\"])\n",
    "# ax2.set(ylabel=\"Error (%)\")\n",
    "\n",
    "g.legend(loc='upper left', title='', labels=[\"Measured makespan\", \"Simulated makespan\"], frameon=False)\n",
    "g.set(xlabel=xlabel, ylabel=ylabel, xticks=bigagg.NB_PIPELINE.unique(), ylim=(120, 300))\n",
    "# plt.grid()\n",
    "plt.tight_layout()\n",
    "plt.savefig(OUTPUT+'swarp-simu-striped-mksp-pipeline.pdf', facecolor=f.get_facecolor(), edgecolor='none')\n",
    "plt.savefig(OUTPUT+'swarp-simu-striped-mksp-pipeline.pgf', facecolor=f.get_facecolor(), edgecolor='none')\n",
    "plt.show()"
   ]
  },
  {
   "cell_type": "code",
   "execution_count": 12,
   "metadata": {},
   "outputs": [
    {
     "name": "stdout",
     "output_type": "stream",
     "text": [
      "STRIPED: min error 2.2649758679050116 , avg error 11.590261440465582 , sd error 5.984551103878294 , max error 21.799504295831326\n"
     ]
    }
   ],
   "source": [
    "print(\"STRIPED: min error\",\n",
    "    min(bigagg[is_STRIPED]['ERR']),\n",
    "    \", avg error\",\n",
    "    numpy.mean(bigagg[is_STRIPED]['ERR']),\n",
    "    \", sd error\",\n",
    "    numpy.std(bigagg[is_STRIPED]['ERR']),\n",
    "    \", max error\",\n",
    "    max(bigagg[is_STRIPED]['ERR']),\n",
    ")"
   ]
  },
  {
   "cell_type": "code",
   "execution_count": 13,
   "metadata": {},
   "outputs": [
    {
     "data": {
      "image/png": "[encoded data removed]",
      "text/plain": [
       "<Figure size 468x288 with 1 Axes>"
      ]
     },
     "metadata": {
      "needs_background": "light"
     },
     "output_type": "display_data"
    }
   ],
   "source": [
    "xlabel='Number of pipelines'\n",
    "ylabel='Execution time (s)'\n",
    "\n",
    "# name = col.split(\"_\")[0].lower()\n",
    "\n",
    "f = plt.figure(figsize=fig_size_rect)\n",
    "f.patch.set_alpha(0)\n",
    "\n",
    "g = sns.lineplot(x=\"NB_PIPELINE\", y=\"MAKESPAN_S\", data=bigagg[is_ONNODE],  color=\"b\", markers=True)\n",
    "g = sns.lineplot(x=\"NB_PIPELINE\", y=\"SIMULATION_S\", data=bigagg[is_ONNODE],  color=\"g\", markers=True)\n",
    "\n",
    "# ax2 = g.twinx()\n",
    "# sns.lineplot(x=\"NB_PIPELINE\", y=\"ERR\", data=bigagg[~is_PRIVATE], markers='x', ax=ax2, ci=None, color=\"black\")\n",
    "\n",
    "# ax2.legend(loc='lower right', title='', labels=[\"Error\"])\n",
    "# ax2.set(ylabel=\"Error (%)\")\n",
    "\n",
    "g.legend(loc='upper left', title='', labels=[\"Measured makespan\", \"Simulated makespan\"], frameon=False)\n",
    "g.set(xlabel=xlabel, ylabel=ylabel, xticks=bigagg.NB_PIPELINE.unique(), ylim=(40, 160))\n",
    "# plt.grid()\n",
    "plt.tight_layout()\n",
    "plt.savefig(OUTPUT+'swarp-simu-onnode-mksp-pipeline.pdf', facecolor=f.get_facecolor(), edgecolor='none')\n",
    "plt.savefig(OUTPUT+'swarp-simu-onnode-mksp-pipeline.pgf', facecolor=f.get_facecolor(), edgecolor='none')\n",
    "plt.show()"
   ]
  },
  {
   "cell_type": "code",
   "execution_count": 14,
   "metadata": {},
   "outputs": [
    {
     "name": "stdout",
     "output_type": "stream",
     "text": [
      "ONNODE: min error 9.75766712353365 , avg error 15.918087315095882 , sd error 1.8072056885505188 , max error 18.294858025020694\n"
     ]
    }
   ],
   "source": [
    "print(\"ONNODE: min error\",\n",
    "    min(bigagg[is_ONNODE]['ERR']),\n",
    "    \", avg error\",\n",
    "    numpy.mean(bigagg[is_ONNODE]['ERR']),\n",
    "    \", sd error\",\n",
    "    numpy.std(bigagg[is_ONNODE]['ERR']),\n",
    "    \", max error\",\n",
    "    max(bigagg[is_ONNODE]['ERR']),\n",
    ")"
   ]
  },
  {
   "cell_type": "code",
   "execution_count": null,
   "metadata": {},
   "outputs": [],
   "source": []
  }
 ],
 "metadata": {
  "kernelspec": {
   "display_name": "Python 3",
   "language": "python",
   "name": "python3"
  },
  "language_info": {
   "codemirror_mode": {
    "name": "ipython",
    "version": 3
   },
   "file_extension": ".py",
   "mimetype": "text/x-python",
   "name": "python",
   "nbconvert_exporter": "python",
   "pygments_lexer": "ipython3",
   "version": "3.7.7"
  }
 },
 "nbformat": 4,
 "nbformat_minor": 2
}
