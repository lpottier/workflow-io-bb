{
 "cells": [
  {
   "cell_type": "code",
   "execution_count": 17,
   "metadata": {},
   "outputs": [
    {
     "name": "stdout",
     "output_type": "stream",
     "text": [
      "/usr/local/opt/python/bin/python3.7\n"
     ]
    },
    {
     "data": {
      "text/html": [
       "<style>.container { width:100% !important; }</style>"
      ],
      "text/plain": [
       "<IPython.core.display.HTML object>"
      ]
     },
     "metadata": {},
     "output_type": "display_data"
    }
   ],
   "source": [
    "import sys\n",
    "import os\n",
    "print(sys.executable)\n",
    "\n",
    "from IPython.core.display import display, HTML\n",
    "display(HTML(\"<style>.container { width:100% !important; }</style>\"))\n",
    "\n",
    "import importlib\n",
    "seaborn_found = importlib.util.find_spec('seaborn')\n",
    "if seaborn_found is None:\n",
    "    sys.write.stderr(\"[error] Seaborn package not found. exit\")\n",
    "    exit(-1)\n",
    "\n",
    "import seaborn as sns\n",
    "import pandas as pd\n",
    "\n",
    "import matplotlib as mpl\n",
    "\n",
    "#mpl.use(\"pgf\")\n",
    "\n",
    "import matplotlib.pyplot as plt\n",
    "\n",
    "plt.rcParams.update({\n",
    "    \"font.family\": \"serif\",  # use serif/main font for text elements\n",
    "    \"text.usetex\": False,     # use inline math for ticks\n",
    "    \"pgf.rcfonts\": False,    # don't setup fonts from rc parameters\n",
    "    \"pgf.preamble\": [\n",
    "         \"\\\\usepackage{units}\",          # load additional packages\n",
    "         \"\\\\usepackage{metalogo}\",\n",
    "         \"\\\\usepackage{unicode-math}\",   # unicode math setup\n",
    "         r\"\\setmathfont{xits-math.otf}\",\n",
    "         ]\n",
    "})\n",
    "\n",
    "# plt.rc('text', usetex=False)\n",
    "\n",
    "plt.rcParams.update({\n",
    "    \"font.family\": \"serif\",\n",
    "    \"font.serif\": [],                    # use latex default serif font\n",
    "    \"font.size\": \"18\",\n",
    "})\n",
    "\n",
    "plt.rcParams.update({\n",
    "    \"pgf.texsystem\": \"pdflatex\",\n",
    "    \"pgf.preamble\": [\n",
    "         r\"\\usepackage[utf8x]{inputenc}\",\n",
    "         r\"\\usepackage[T1]{fontenc}\",\n",
    "         r\"\\usepackage{cmbright}\",\n",
    "         ]\n",
    "})\n",
    "\n",
    "\n",
    "sns.set(style=\"ticks\", color_codes=True, font_scale=1.3)\n",
    "sns.set_context(\"paper\", rc={\"axes.labelsize\":14, \"axes.titlesize\":14, \"legend.fontsize\":14, \"xtick.labelsize\":14, \"ytick.labelsize\":14, \"font.size\":14})\n",
    "\n",
    "sns.set_style(\"darkgrid\", {'xtick.bottom': True, 'xtick.top': False, 'ytick.left': True, 'ytick.right': False, 'axes.grid': True, \"axes.facecolor\": \".9\", 'grid.linestyle': '-', 'lines.linewidth':2.5})\n",
    "# sns.set_palette(\"dark\")\n",
    "\n",
    "mpl.pyplot.close(\"all\")\n",
    "\n",
    "\n",
    "tasks = [\"RESAMPLE_TIME_S\", \"COMBINE_TIME_S\"]\n",
    "DIR=\"/Users/lpottier/research/usc-isi/projects/active/workflow-io-bb/data/traces/swarp/\""
   ]
  },
  {
   "cell_type": "code",
   "execution_count": 18,
   "metadata": {},
   "outputs": [],
   "source": [
    "csv_file_cori = DIR+\"shared-cori/bb-runs2020-Xc.csv\"\n",
    "csv_file_summit = DIR+\"/private-summit/runs-number-cores-1w.csv\"\n",
    "\n",
    "CORE=\"X\"\n",
    "#PLOT_DIR=\"/Users/lpottier/research/usc-isi/projects/paper-workflow-bb/figures/plots/real-swarp\"\n",
    "PLOT_DIR=os.getcwd()\n",
    "OUTPUT = PLOT_DIR+\"/\"+\"swarp-1w-\"+CORE+\"c/\"\n"
   ]
  },
  {
   "cell_type": "code",
   "execution_count": 19,
   "metadata": {},
   "outputs": [
    {
     "name": "stdout",
     "output_type": "stream",
     "text": [
      "Directory  /Users/lpottier/research/usc-isi/projects/active/workflow-io-bb/data/traces/notebooks/swarp-1w-Xc/  already exists\n",
      "[32]\n",
      "[32]\n",
      "<class 'pandas.core.frame.DataFrame'>\n",
      "Int64Index: 450 entries, 0 to 149\n",
      "Data columns (total 25 columns):\n",
      "ID                     450 non-null int64\n",
      "START                  0 non-null float64\n",
      "END                    0 non-null float64\n",
      "FITS                   450 non-null object\n",
      "NB_PIPELINE            450 non-null int64\n",
      "NB_CORES               450 non-null int64\n",
      "AVG                    450 non-null int64\n",
      "PIPELINE               450 non-null int64\n",
      "BB_TYPE                450 non-null object\n",
      "BB_ALLOC_SIZE_MB       450 non-null float64\n",
      "TOTAL_NB_FILES         450 non-null int64\n",
      "BB_NB_FILES            450 non-null int64\n",
      "TOTAL_SIZE_FILES_MB    450 non-null float64\n",
      "BB_SIZE_FILES_MB       450 non-null float64\n",
      "BANDWIDTH_MBS          450 non-null float64\n",
      "MAKESPAN_S             450 non-null float64\n",
      "WALLTIME_S             450 non-null float64\n",
      "STAGEIN_TIME_S         450 non-null float64\n",
      "STAGEIN_WALLTIME_S     450 non-null float64\n",
      "RESAMPLE_TIME_S        450 non-null float64\n",
      "RESAMPLE_WALLTIME_S    450 non-null float64\n",
      "COMBINE_TIME_S         450 non-null float64\n",
      "COMBINE_WALLTIME_S     450 non-null float64\n",
      "STAGEOUT_TIME_S        450 non-null float64\n",
      "STAGEOUT_WALLTIME_S    450 non-null int64\n",
      "dtypes: float64(15), int64(8), object(2)\n",
      "memory usage: 91.4+ KB\n",
      "None\n",
      "[16  1 32  4  8]\n",
      "['Y' 'N']\n",
      "['PRIVATE' 'STRIPED' 'ONNODE']\n"
     ]
    }
   ],
   "source": [
    "\n",
    "try:\n",
    "    # Create target Directory\n",
    "    os.mkdir(OUTPUT)\n",
    "    print(\"Directory \" , OUTPUT ,  \" Created \") \n",
    "except FileExistsError:\n",
    "    print(\"Directory \" , OUTPUT ,  \" already exists\")\n",
    "\n",
    "\n",
    "#csv_file = \"swarp_test_switches.csv\"\n",
    "df_swarp_cori = pd.read_csv(csv_file_cori, sep=' ')\n",
    "df_swarp_summit = pd.read_csv(csv_file_summit, sep=' ')\n",
    "\n",
    "df_swarp = pd.concat([df_swarp_cori, df_swarp_summit])\n",
    "\n",
    "df_swarp_priv = df_swarp[df_swarp.BB_TYPE==\"PRIVATE\"]\n",
    "df_swarp_strip = df_swarp[df_swarp.BB_TYPE==\"STRIPED\"]\n",
    "df_swarp_onnode = df_swarp[df_swarp.BB_TYPE==\"ONNODE\"]\n",
    "\n",
    "print(df_swarp.BB_NB_FILES.unique())\n",
    "df_swarp = df_swarp.loc[df_swarp['BB_NB_FILES'].isin([0,8,16,24,32])]\n",
    "print(df_swarp.BB_NB_FILES.unique())\n",
    "\n",
    "print(df_swarp.info())\n",
    "print(df_swarp.NB_CORES.unique())\n",
    "print(df_swarp.FITS.unique())\n",
    "print(df_swarp.BB_TYPE.unique())\n",
    "\n",
    "## Use the full data\n",
    "\n",
    "is_FITS =  df_swarp['FITS']==\"Y\"\n",
    "is_PRIVATE =  df_swarp['BB_TYPE']==\"PRIVATE\"\n",
    "is_STRIPED =  df_swarp['BB_TYPE']==\"STRIPED\"\n",
    "is_ONNODE =  df_swarp['BB_TYPE']==\"ONNODE\"\n",
    "\n",
    "fig_size_square = (4, 3)\n",
    "fig_size_rect = (6.5, 4)\n"
   ]
  },
  {
   "cell_type": "code",
   "execution_count": 20,
   "metadata": {},
   "outputs": [],
   "source": [
    "# small_dt = df_swarp[[\"FITS\", \"BB_TYPE\", \"NB_CORES\", \"BB_NB_FILES\",\"RESAMPLE_TIME_S\", \"COMBINE_TIME_S\"]]\n",
    "# #small_dt = small_dt.sort_values(by=['NB_PIPELINE'])\n",
    "# print(small_dt.sort_values(by=['NB_CORES', 'BB_NB_FILES']))"
   ]
  },
  {
   "cell_type": "code",
   "execution_count": 21,
   "metadata": {},
   "outputs": [],
   "source": [
    "# small_dt = df_swarp[[\"NB_PIPELINE\", \"FITS\", \"BB_NB_FILES\" ,\"MAKESPAN_S\"]]\n",
    "# #small_dt = small_dt.sort_values(by=['NB_PIPELINE'])\n",
    "# print(small_dt.sort_values(by=['NB_PIPELINE', 'FITS', \"BB_NB_FILES\"]))"
   ]
  },
  {
   "cell_type": "code",
   "execution_count": 22,
   "metadata": {},
   "outputs": [],
   "source": [
    "legend_bb=['Private (Cori)', 'Striped (Cori)', 'On-node (Summit)']"
   ]
  },
  {
   "cell_type": "code",
   "execution_count": 25,
   "metadata": {},
   "outputs": [
    {
     "name": "stdout",
     "output_type": "stream",
     "text": [
      "Plot line fits task: RESAMPLE_TIME_S\n"
     ]
    },
    {
     "data": {
      "image/png": "[encoded data removed]",
      "text/plain": [
       "<Figure size 468x288 with 1 Axes>"
      ]
     },
     "metadata": {
      "needs_background": "light"
     },
     "output_type": "display_data"
    },
    {
     "name": "stdout",
     "output_type": "stream",
     "text": [
      "Plot line fits task: COMBINE_TIME_S\n"
     ]
    },
    {
     "data": {
      "image/png": "[encoded data removed]",
      "text/plain": [
       "<Figure size 468x288 with 1 Axes>"
      ]
     },
     "metadata": {
      "needs_background": "light"
     },
     "output_type": "display_data"
    }
   ],
   "source": [
    "\n",
    "def plot_lineplot_per_task(df, col, output, legend, loc='upper left'):\n",
    "    xlabel='Number of cores per task'\n",
    "    ylabel='Execution time (s)'\n",
    "    \n",
    "    name = col.split(\"_\")[0].lower()\n",
    "\n",
    "    df2 = df.copy()\n",
    "    \n",
    "    df2[\"BB_TYPE\"]= df2[\"BB_TYPE\"].str.replace(\"PRIVATE\", 'Private (Cori)', case = False)\n",
    "    df2[\"BB_TYPE\"]= df2[\"BB_TYPE\"].str.replace(\"STRIPED\", 'Striped (Cori)', case = False)\n",
    "    df2[\"BB_TYPE\"]= df2[\"BB_TYPE\"].str.replace(\"ONNODE\", 'On-node (Summit)', case = False)\n",
    "    \n",
    "    f = plt.figure(figsize=fig_size_rect)\n",
    "    f.patch.set_alpha(0)\n",
    "    \n",
    "    g = sns.lineplot(x=\"NB_CORES\", y=col, hue=\"BB_TYPE\", style=\"BB_TYPE\", data=df2, markers=True, palette={'Private (Cori)': 'b', 'Striped (Cori)': 'r', 'On-node (Summit)': 'g'})\n",
    "    g.legend(title='', labels=legend)\n",
    "    g.set(xlabel=xlabel, ylabel=ylabel,xticks=df2.NB_CORES.unique())\n",
    "\n",
    "    plt.tight_layout()\n",
    "    plt.savefig(OUTPUT+'swarp-line-'+name+output+'.pdf', facecolor=f.get_facecolor(), edgecolor='none')\n",
    "    plt.savefig(OUTPUT+'swarp-line-'+name+output+'.pgf', facecolor=f.get_facecolor(), edgecolor='none')\n",
    "    plt.show()\n",
    "\n",
    "loc=['upper left', 'lower right', 'upper left', 'lower right']\n",
    "\n",
    "for i,task in enumerate(tasks):\n",
    "    print(\"Plot line fits task:\", task)\n",
    "    plot_lineplot_per_task(df_swarp, task, output=\"-fits-1w-Xc-32f\", legend=legend_bb, loc=loc[i])\n",
    "    "
   ]
  },
  {
   "cell_type": "code",
   "execution_count": 8,
   "metadata": {
    "scrolled": true
   },
   "outputs": [],
   "source": [
    "#grouped = small_dt.groupby('BB_NB_FILES', sort=True)\n",
    "#print(grouped.groups)"
   ]
  },
  {
   "cell_type": "code",
   "execution_count": 9,
   "metadata": {
    "scrolled": false
   },
   "outputs": [],
   "source": [
    "# plt.figure()\n",
    "# df_swarp_priv = df_swarp_priv.sort_values(by=['BB_NB_FILES'])\n",
    "# tmp_df = df_swarp_priv[df_swarp_priv.FITS==\"N\"]\n",
    "# plt.errorbar(tmp_df.BB_NB_FILES, tmp_df.RESAMPLE_MEAN_TIME_S, xerr=0, yerr=tmp_df.RESAMPLE_SD_TIME)\n",
    "# #plt.title(\"\")\n",
    "\n",
    "# #g = sns.lineplot(x=\"BB_NB_FILES\", y=\"RESAMPLE_MEAN_TIME_S\", ci=\"RESAMPLE_SD_TIME\", hue=\"FITS\", style=\"FITS\", markers=True, dashes=True, data=swarp_dt_priv)"
   ]
  },
  {
   "cell_type": "code",
   "execution_count": 10,
   "metadata": {},
   "outputs": [],
   "source": [
    "#g = sns.lineplot(x=\"BB_NB_FILES\", y=\"COMBINE_MEAN_TIME_S\", hue=\"FITS\", style=\"FITS\", markers=True, dashes=True, data=swarp_dt_priv)\n",
    "\n",
    "# swarp_dt_priv = swarp_dt_priv.sort_values(by=['BB_NB_FILES'])\n",
    "# swarp_dt_priv_nofits = swarp_dt_priv[swarp_dt_priv.FITS==\"N\"]\n",
    "# swarp_dt_priv_fits = swarp_dt_priv[swarp_dt_priv.FITS==\"Y\"]\n",
    "\n",
    "\n",
    "# fig, axs = plt.subplots(nrows=2, ncols=2, sharex=True, sharey=False)\n",
    "# #plt.axis('scaled')\n",
    "\n",
    "# ax = axs[0,0]\n",
    "# ax.errorbar(swarp_dt_priv_fits.BB_NB_FILES, swarp_dt_priv_fits.MEAN_MAKESPAN_S, yerr=swarp_dt_priv_fits.SD_MAKESPAN, color=\"b\")\n",
    "# ax.errorbar(swarp_dt_priv_nofits.BB_NB_FILES, swarp_dt_priv_nofits.MEAN_MAKESPAN_S, yerr=swarp_dt_priv_nofits.SD_MAKESPAN, color=\"r\")\n",
    "\n",
    "# ax.set_title('MEAN_MAKESPAN_S')\n",
    "\n",
    "# # With 4 subplots, reduce the number of axis ticks to avoid crowding.\n",
    "# ax.locator_params(nbins=4)\n",
    "\n",
    "# ax.minorticks_on()\n",
    "# ax.grid()\n",
    "# ax.set_ylabel('Time (s)')\n",
    "\n",
    "\n",
    "# ax = axs[0,1]\n",
    "# ax.errorbar(swarp_dt_priv_fits.BB_NB_FILES, swarp_dt_priv_fits.STAGEIN_MEAN_TIME_S, yerr=swarp_dt_priv_fits.STAGEIN_SD_TIME, color=\"b\")\n",
    "# ax.errorbar(swarp_dt_priv_nofits.BB_NB_FILES, swarp_dt_priv_nofits.STAGEIN_MEAN_TIME_S, yerr=swarp_dt_priv_nofits.STAGEIN_SD_TIME, color=\"r\")\n",
    "# ax.set_title('STAGEIN_MEAN_TIME_S')\n",
    "\n",
    "# ax.minorticks_on()\n",
    "# ax.grid()\n",
    "\n",
    "# ax = axs[1,0]\n",
    "# ax.errorbar(swarp_dt_priv_fits.BB_NB_FILES, swarp_dt_priv_fits.RESAMPLE_MEAN_TIME_S, yerr=swarp_dt_priv_fits.RESAMPLE_SD_TIME, color=\"b\")\n",
    "# ax.errorbar(swarp_dt_priv_nofits.BB_NB_FILES, swarp_dt_priv_nofits.RESAMPLE_MEAN_TIME_S, yerr=swarp_dt_priv_nofits.RESAMPLE_SD_TIME, color=\"r\")\n",
    "\n",
    "# ax.set_title('RESAMPLE_MEAN_TIME_S')\n",
    "\n",
    "# ax.minorticks_on()\n",
    "# ax.grid()\n",
    "# ax.set_xlabel('Number of files in BB')\n",
    "# ax.set_ylabel('Time (s)')\n",
    "\n",
    "# ax = axs[1,1]\n",
    "# ax.errorbar(swarp_dt_priv_fits.BB_NB_FILES, swarp_dt_priv_fits.COMBINE_MEAN_TIME_S, yerr=swarp_dt_priv_fits.COMBINE_SD_TIME, color=\"b\")\n",
    "# ax.errorbar(swarp_dt_priv_nofits.BB_NB_FILES, swarp_dt_priv_nofits.COMBINE_MEAN_TIME_S, yerr=swarp_dt_priv_nofits.COMBINE_SD_TIME, color=\"r\")\n",
    "# ax.set_title('COMBINE_MEAN_TIME_S')\n",
    "\n",
    "# ax.minorticks_on()\n",
    "# ax.grid()\n",
    "# ax.set_xlabel('Number of files in BB')\n",
    "\n",
    "# plt.show()"
   ]
  },
  {
   "cell_type": "code",
   "execution_count": null,
   "metadata": {},
   "outputs": [],
   "source": []
  },
  {
   "cell_type": "code",
   "execution_count": 11,
   "metadata": {},
   "outputs": [],
   "source": [
    "# sns.set_context(\"notebook\", font_scale=1.2, rc={\"lines.linewidth\": 1.8})\n",
    "#sns.set_style(\"darkgrid\")"
   ]
  },
  {
   "cell_type": "code",
   "execution_count": null,
   "metadata": {},
   "outputs": [],
   "source": []
  },
  {
   "cell_type": "code",
   "execution_count": null,
   "metadata": {},
   "outputs": [],
   "source": []
  },
  {
   "cell_type": "code",
   "execution_count": 12,
   "metadata": {
    "scrolled": true
   },
   "outputs": [],
   "source": [
    "\n",
    "# xlabel='Input files in burst buffers (%)'\n",
    "\n",
    "# def plot_boxplot_all_tasks(df, output, print_dots=True):\n",
    "\n",
    "#     with sns.light_palette(\"green\"):\n",
    "\n",
    "#         #print(test.info())\n",
    "\n",
    "#         f, axes = plt.subplots(2, 2, figsize=(10, 10), sharex=True)\n",
    "#         f.patch.set_alpha(0)\n",
    "\n",
    "#         g1 = sns.boxplot(x=\"NB_CORES\", y=\"STAGEIN_TIME_S\", data=df[is_PRIVATE], ax=axes[0,0])\n",
    "#         if print_dots:\n",
    "#             g1 = sns.swarmplot(x=\"NB_CORES\", y=\"STAGEIN_TIME_S\", data=df[is_PRIVATE], color=\".25\", ax=axes[0,0])\n",
    "#         g1.set(xlabel='', ylabel='Stage in time (s)')\n",
    "\n",
    "#         g2 = sns.boxplot(x=\"NB_CORES\", y=\"RESAMPLE_TIME_S\", data=df[~is_PRIVATE], ax=axes[0,1])\n",
    "#         if print_dots:\n",
    "#             g2 = sns.swarmplot(x=\"NB_CORES\", y=\"RESAMPLE_TIME_S\", data=df[is_PRIVATE], color=\".25\", ax=axes[0,1])\n",
    "#         g2.set(xlabel='', ylabel='Resample time (s)')\n",
    "\n",
    "#         g3 = sns.boxplot(x=\"NB_CORES\", y=\"COMBINE_TIME_S\", data=df[is_PRIVATE], ax=axes[1,0])\n",
    "#         if print_dots:\n",
    "#             g3 = sns.swarmplot(x=\"NB_CORES\", y=\"COMBINE_TIME_S\", data=df[is_PRIVATE], color=\".25\", ax=axes[1,0])\n",
    "#         g3.set(xlabel=xlabel, ylabel='Combine time (s)')\n",
    "\n",
    "#         g4 = sns.boxplot(x=\"NB_CORES\", y=\"MAKESPAN_S\", data=df[is_PRIVATE], ax=axes[1,1])\n",
    "#         if print_dots:\n",
    "#             g4 = sns.swarmplot(x=\"NB_CORES\", y=\"MAKESPAN_S\", data=df[is_PRIVATE], color=\".25\", ax=axes[1,1])\n",
    "#         g4.set(xlabel=xlabel, ylabel='Makespan (s)')\n",
    "\n",
    "#         plt.tight_layout()\n",
    "# #         plt.savefig(OUTPUT+output+'.pdf', facecolor=f.get_facecolor(), edgecolor='none')\n",
    "# #         plt.savefig(OUTPUT+output+'.pgf', facecolor=f.get_facecolor(), edgecolor='none')\n",
    "#         plt.show() \n",
    "\n",
    "\n",
    "# plot_boxplot_all_tasks(df_swarp, output=\"swarp-box-fits-private-1w-32c\")\n"
   ]
  },
  {
   "cell_type": "code",
   "execution_count": 13,
   "metadata": {},
   "outputs": [],
   "source": [
    "# temp_df = df_swarp[is_FITS & is_PRIVATE]\n",
    "# temp_df.BB_NB_FILES = (temp_df.BB_NB_FILES*100)/32\n",
    "\n",
    "# def plot_boxplot_per_task(df, col, output, print_dots=False):\n",
    "#     xlabel='Number of input files in burst buffers (%)'\n",
    "#     legend_label=['Private', 'Striped']\n",
    "#     name = col.split(\"_\")[0].lower()\n",
    "        \n",
    "#     with sns.light_palette(\"green\"):\n",
    "\n",
    "#         #print(test.info())\n",
    "\n",
    "#         f = plt.figure(figsize=(4, 3))\n",
    "\n",
    "#         g1 = sns.boxplot(x=\"BB_NB_FILES\", y=col, data=df)\n",
    "#         if print_dots:\n",
    "#             g1 = sns.swarmplot(x=\"BB_NB_FILES\", y=col, data=df, color=\".25\")\n",
    "#         g1.set(xlabel=xlabel, ylabel='Execution time (s)')\n",
    "\n",
    "#         plt.tight_layout()\n",
    "#         plt.savefig(OUTPUT+'swarp-box-'+name+output+'.pdf')\n",
    "#         plt.savefig(OUTPUT+'swarp-box-'+name+output+'.pgf')\n",
    "#         plt.show()\n",
    "\n",
    "# for task in tasks:\n",
    "#     print(\"Plot boxplot task:\", task)\n",
    "#     plot_boxplot_per_task(temp_df, task, output=\"-fits-private-1w-Xc\")"
   ]
  },
  {
   "cell_type": "code",
   "execution_count": 14,
   "metadata": {
    "scrolled": true
   },
   "outputs": [],
   "source": [
    "# g = sns.catplot(x=\"BB_NB_FILES\", y=\"MAKESPAN_S\", hue=\"BB_TYPE\", data=df_swarp, kind=\"box\")"
   ]
  },
  {
   "cell_type": "code",
   "execution_count": 15,
   "metadata": {
    "scrolled": true
   },
   "outputs": [],
   "source": [
    "# print(\"FITS\")\n",
    "# temp_df = df_swarp[is_FITS]\n",
    "# temp_df.BB_NB_FILES = (temp_df.BB_NB_FILES*100)/32\n",
    "\n",
    "# def plot_lineplot_all_tasks_bbtype(df, output, label, legend_label):\n",
    "    \n",
    "#     #print(test.info())\n",
    "\n",
    "#     f, axes = plt.subplots(2, 2, figsize=(10, 7), sharex=True)\n",
    "\n",
    "#     g2 = sns.lineplot(x=\"BB_NB_FILES\", y=\"STAGEIN_TIME_S\", hue=\"BB_TYPE\", style=\"BB_TYPE\", data=temp_df, ax=axes[0,0])\n",
    "#     g2.legend(title='', loc='upper left', labels=legend_label)\n",
    "#     g2.set(xlabel=label[0], ylabel='Stage in time (s)')\n",
    "\n",
    "#     g3 = sns.lineplot(x=\"BB_NB_FILES\", y=\"RESAMPLE_TIME_S\", hue=\"BB_TYPE\", style=\"BB_TYPE\", data=temp_df, ax=axes[0,1])\n",
    "#     #g3.legend_.remove()\n",
    "#     g3.legend(title='', loc='upper right', labels=legend_label)\n",
    "#     g3.set(xlabel=label[0], ylabel='Resample time (s)')\n",
    "\n",
    "#     g4 = sns.lineplot(x=\"BB_NB_FILES\", y=\"COMBINE_TIME_S\", hue=\"BB_TYPE\", style=\"BB_TYPE\", data=temp_df, ax=axes[1,0])\n",
    "#     #g4.legend_.remove()\n",
    "#     g4.legend(title='', loc='upper left', labels=legend_label)\n",
    "#     g4.set(xlabel=label[0], ylabel='Combine time (s)')\n",
    "\n",
    "#     g1 = sns.lineplot(x=\"BB_NB_FILES\", y=\"MAKESPAN_S\", hue=\"BB_TYPE\", style=\"BB_TYPE\", data=temp_df, ax=axes[1,1])\n",
    "#     #g1.legend_.remove()\n",
    "#     g1.legend(title='', loc='center left', labels=legend_label)\n",
    "#     g1.set(xlabel=label[0], ylabel='Makespan (s)')\n",
    "\n",
    "#     plt.tight_layout()\n",
    "#     plt.savefig(OUTPUT+output+'.pdf')\n",
    "#     plt.savefig(OUTPUT+output+'.pgf')\n",
    "#     #plt.close() \n",
    "\n",
    "# xlabel='Input files in burst buffers (%)'\n",
    "# legend_label=['Private', 'Striped']\n",
    "    \n",
    "# plot_lineplot_all_tasks_bbtype(temp_df, \"swarp-line-fits-private-1w-32c\", label=[xlabel, ''], legend_label=legend_label)\n"
   ]
  },
  {
   "cell_type": "code",
   "execution_count": 16,
   "metadata": {},
   "outputs": [],
   "source": [
    "# def plot_lineplot_per_task_bbtype(df, col, output, loc='upper left'):\n",
    "#     xlabel='Input files in burst buffers (%)'\n",
    "#     legend_label=['Private', 'Striped']\n",
    "#     name = col.split(\"_\")[0].lower()\n",
    "\n",
    "#     f = plt.figure(figsize=(4, 3))\n",
    "    \n",
    "#     g = sns.lineplot(x=\"BB_NB_FILES\", y=col, hue=\"BB_TYPE\", style=\"BB_TYPE\", data=df)\n",
    "#     g.legend(title='', loc=loc, labels=legend_label)\n",
    "#     g.set(xlabel=xlabel, ylabel='Execution time (s)')\n",
    "\n",
    "#     plt.tight_layout()\n",
    "#     plt.savefig(OUTPUT+'swarp-line-'+name+output+'.pdf')\n",
    "#     plt.savefig(OUTPUT+'swarp-line-'+name+output+'.pgf')\n",
    "#     plt.show()\n",
    "\n",
    "# loc = ['upper left', 'upper right', 'upper left', 'center left']\n",
    "# for i,task in enumerate(tasks):\n",
    "#     print(\"Plot line task:\", task)\n",
    "#     plot_lineplot_per_task_bbtype(temp_df, task, output=\"-fits-1w-32c\", loc=loc[i])\n",
    "    "
   ]
  },
  {
   "cell_type": "code",
   "execution_count": 17,
   "metadata": {},
   "outputs": [],
   "source": [
    "# print(\"NOFITS\")\n",
    "# temp_df = df_swarp[~is_FITS]\n",
    "# temp_df.BB_NB_FILES = (temp_df.BB_NB_FILES*100)/32\n",
    "\n",
    "# loc = ['upper left', 'upper right', 'upper left', 'center left']\n",
    "# for i,task in enumerate(tasks):\n",
    "#     print(\"Plot line task:\", task)\n",
    "#     plot_lineplot_per_task_bbtype(temp_df, task, output=\"-nofits-1w-32c\", loc=loc[i])\n",
    "    "
   ]
  },
  {
   "cell_type": "code",
   "execution_count": 18,
   "metadata": {},
   "outputs": [],
   "source": [
    "#g = sns.lineplot(x=\"BB_NB_FILES\", y=\"RESAMPLE_TIME_S\", hue=\"BB_TYPE\", style=\"BB_TYPE\", data=df_swarp[~is_FITS])"
   ]
  },
  {
   "cell_type": "code",
   "execution_count": 19,
   "metadata": {},
   "outputs": [],
   "source": [
    "# print(\"PRIVATE\")\n",
    "# temp_df = df_swarp[is_PRIVATE]\n",
    "# temp_df.BB_NB_FILES = (temp_df.BB_NB_FILES*100)/32\n",
    "\n",
    "# def plot_lineplot_all_tasks_fits(df, output, label, legend_label, loc=['upper left', 'upper left', 'upper left', 'upper left']):\n",
    "    \n",
    "#     f, axes = plt.subplots(2, 2, figsize=(10, 7), sharex=True)\n",
    "\n",
    "#     g2 = sns.lineplot(x=\"BB_NB_FILES\", y=\"STAGEIN_TIME_S\", hue=\"FITS\", style=\"FITS\", data=df, ax=axes[0,0])\n",
    "#     g2.legend(title='Intermediate files', loc=loc[0], labels=legend_label)\n",
    "#     g2.set(xlabel=xlabel, ylabel='Stage in time (s)')\n",
    "\n",
    "#     g3 = sns.lineplot(x=\"BB_NB_FILES\", y=\"RESAMPLE_TIME_S\", hue=\"FITS\", style=\"FITS\", data=df, ax=axes[0,1])\n",
    "#     g3.legend(title='Intermediate files', loc=loc[1], labels=legend_label)\n",
    "#     g3.set(xlabel=xlabel, ylabel='Resample time (s)')\n",
    "\n",
    "#     g4 = sns.lineplot(x=\"BB_NB_FILES\", y=\"COMBINE_TIME_S\", hue=\"FITS\", style=\"FITS\", data=df, ax=axes[1,0])\n",
    "#     g4.legend(title='Intermediate files', loc=loc[2], labels=legend_label)\n",
    "#     g4.set(xlabel=xlabel, ylabel='Combine time (s)')\n",
    "\n",
    "#     g1 = sns.lineplot(x=\"BB_NB_FILES\", y=\"MAKESPAN_S\", hue=\"FITS\", style=\"FITS\", data=df, ax=axes[1,1])\n",
    "#     g1.legend(title='Intermediate files', loc=loc[3], labels=legend_label)\n",
    "#     g1.set(xlabel=xlabel, ylabel='Makespan (s)')\n",
    "\n",
    "#     plt.tight_layout()\n",
    "#     plt.savefig(OUTPUT+output+'.pdf')\n",
    "#     plt.savefig(OUTPUT+output+'.pgf')\n",
    "#     plt.show()\n",
    "#     plt.close() \n",
    "\n",
    "# xlabel='Input files in burst buffers (%)'\n",
    "# ylabel='Execution time (s)'\n",
    "# legend_label=['Parallel File System', 'Burst Buffers']\n",
    "# loc=['upper left', 'upper right', 'center left', 'upper right']\n",
    "\n",
    "# plot_lineplot_all_tasks_fits(temp_df, \"swarp-line-private-1w-32c\", label=[xlabel, ylabel], legend_label=legend_label, loc=loc)\n",
    "\n",
    "\n",
    "    "
   ]
  },
  {
   "cell_type": "code",
   "execution_count": 20,
   "metadata": {},
   "outputs": [],
   "source": [
    "# print(\"STRIPED\")\n",
    "# temp_df = df_swarp[~is_PRIVATE]\n",
    "# temp_df.BB_NB_FILES = (temp_df.BB_NB_FILES*100)/32\n",
    "\n",
    "# xlabel='Input files in burst buffers (%)'\n",
    "# ylabel='Execution time (s)'\n",
    "# legend_label=['Parallel File System', 'Burst Buffers']\n",
    "# loc=['upper left', 'lower right', 'upper left', 'lower right']\n",
    "\n",
    "# plot_lineplot_all_tasks_fits(temp_df, \"swarp-line-striped-1w-32c\", label=[xlabel, ylabel], legend_label=legend_label,loc=loc)\n"
   ]
  },
  {
   "cell_type": "code",
   "execution_count": 21,
   "metadata": {},
   "outputs": [],
   "source": [
    "# def plot_lineplot_per_task_fits(df, col, output, loc='upper left'):\n",
    "#     xlabel='Input files in burst buffers (%)'\n",
    "#     ylabel='Execution time (s)'\n",
    "#     legend_label=['Parallel File System', 'Burst Buffers']\n",
    "    \n",
    "#     name = col.split(\"_\")[0].lower()\n",
    "\n",
    "#     f = plt.figure(figsize=(4, 3))\n",
    "    \n",
    "#     g = sns.lineplot(x=\"BB_NB_FILES\", y=col, hue=\"FITS\", style=\"FITS\", data=df)\n",
    "#     g.legend(title='Intermediate files', loc=loc, labels=legend_label)\n",
    "#     g.set(xlabel=xlabel, ylabel=ylabel)\n",
    "\n",
    "#     plt.tight_layout()\n",
    "#     plt.savefig(OUTPUT+'swarp-line-'+name+output+'.pdf')\n",
    "#     plt.savefig(OUTPUT+'swarp-line-'+name+output+'.pgf')\n",
    "#     plt.show()\n",
    "\n",
    "# loc=['upper left', 'lower right', 'upper left', 'lower right']\n",
    "\n",
    "# for i,task in enumerate(tasks):\n",
    "#     print(\"Plot line fits task:\", task)\n",
    "#     plot_lineplot_per_task_fits(temp_df, task, output=\"-fits-private-1w-32c\", loc=loc[i])\n",
    "    "
   ]
  },
  {
   "cell_type": "code",
   "execution_count": null,
   "metadata": {},
   "outputs": [],
   "source": []
  },
  {
   "cell_type": "code",
   "execution_count": null,
   "metadata": {},
   "outputs": [],
   "source": []
  }
 ],
 "metadata": {
  "kernelspec": {
   "display_name": "Python 3",
   "language": "python",
   "name": "python3"
  },
  "language_info": {
   "codemirror_mode": {
    "name": "ipython",
    "version": 3
   },
   "file_extension": ".py",
   "mimetype": "text/x-python",
   "name": "python",
   "nbconvert_exporter": "python",
   "pygments_lexer": "ipython3",
   "version": "3.7.7"
  }
 },
 "nbformat": 4,
 "nbformat_minor": 2
}
