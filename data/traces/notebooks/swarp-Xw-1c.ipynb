{
 "cells": [
  {
   "cell_type": "code",
   "execution_count": 1,
   "metadata": {},
   "outputs": [
    {
     "name": "stdout",
     "output_type": "stream",
     "text": [
      "/usr/local/opt/python/bin/python3.7\n"
     ]
    },
    {
     "data": {
      "text/html": [
       "<style>.container { width:100% !important; }</style>"
      ],
      "text/plain": [
       "<IPython.core.display.HTML object>"
      ]
     },
     "metadata": {},
     "output_type": "display_data"
    }
   ],
   "source": [
    "import sys\n",
    "import os\n",
    "import numpy\n",
    "print(sys.executable)\n",
    "\n",
    "from IPython.core.display import display, HTML\n",
    "display(HTML(\"<style>.container { width:100% !important; }</style>\"))\n",
    "\n",
    "import importlib\n",
    "seaborn_found = importlib.util.find_spec('seaborn')\n",
    "if seaborn_found is None:\n",
    "    sys.write.stderr(\"[error] Seaborn package not found. exit\")\n",
    "    exit(-1)\n",
    "\n",
    "import seaborn as sns\n",
    "import pandas as pd\n",
    "\n",
    "import matplotlib as mpl\n",
    "\n",
    "mpl.use(\"pgf\")\n",
    "\n",
    "import matplotlib.pyplot as plt\n",
    "\n",
    "plt.rcParams.update({\n",
    "    \"font.family\": \"serif\",  # use serif/main font for text elements\n",
    "    \"text.usetex\": False,     # use inline math for ticks\n",
    "    \"pgf.rcfonts\": False,    # don't setup fonts from rc parameters\n",
    "    \"pgf.preamble\": [\n",
    "         \"\\\\usepackage{units}\",          # load additional packages\n",
    "         \"\\\\usepackage{metalogo}\",\n",
    "         \"\\\\usepackage{unicode-math}\",   # unicode math setup\n",
    "         r\"\\setmathfont{xits-math.otf}\",\n",
    "         ]\n",
    "})\n",
    "\n",
    "# plt.rc('text', usetex=False)\n",
    "\n",
    "plt.rcParams.update({\n",
    "    \"font.family\": \"serif\",\n",
    "    \"font.serif\": [],                    # use latex default serif font\n",
    "    \"font.size\": \"18\",\n",
    "})\n",
    "\n",
    "plt.rcParams.update({\n",
    "    \"pgf.texsystem\": \"pdflatex\",\n",
    "    \"pgf.preamble\": [\n",
    "         r\"\\usepackage[utf8x]{inputenc}\",\n",
    "         r\"\\usepackage[T1]{fontenc}\",\n",
    "         r\"\\usepackage{cmbright}\",\n",
    "         ]\n",
    "})\n",
    "\n",
    "\n",
    "sns.set(style=\"ticks\", color_codes=True)\n",
    "sns.set_context(\"paper\")\n",
    "sns.set_style(\"darkgrid\", {\"axes.facecolor\": \".9\", 'xtick.bottom': True, 'xtick.top': False, 'ytick.left': True, 'ytick.right': False})\n",
    "\n",
    "mpl.pyplot.close(\"all\")\n",
    "\n",
    "\n",
    "tasks = [\"STAGEIN_TIME_S\", \"RESAMPLE_TIME_S\", \"COMBINE_TIME_S\", \"MAKESPAN_S\"]"
   ]
  },
  {
   "cell_type": "code",
   "execution_count": 2,
   "metadata": {},
   "outputs": [],
   "source": [
    "DIR=\"/Users/lpottier/research/usc-isi/projects/workflow-io-bb/data/traces/swarp/shared-cori/\"\n",
    "csv_file = DIR+\"/bb_runs2020-multipipeline-1C.csv\"\n",
    "\n",
    "CORE=\"1\"\n",
    "PLOT_DIR=\"/Users/lpottier/research/usc-isi/projects/paper-workflow-bb/figures/plots/real-swarp\"\n",
    "OUTPUT = PLOT_DIR+\"/\"+\"swarp-Xw-\"+CORE+\"c/\"\n"
   ]
  },
  {
   "cell_type": "code",
   "execution_count": null,
   "metadata": {},
   "outputs": [],
   "source": []
  },
  {
   "cell_type": "code",
   "execution_count": 3,
   "metadata": {},
   "outputs": [
    {
     "name": "stdout",
     "output_type": "stream",
     "text": [
      "Directory  /Users/lpottier/research/usc-isi/projects/paper-workflow-bb/figures/plots/real-swarp/swarp-Xw-1c/  already exists\n",
      "[32]\n",
      "[32]\n",
      "<class 'pandas.core.frame.DataFrame'>\n",
      "Int64Index: 150 entries, 0 to 149\n",
      "Data columns (total 24 columns):\n",
      "ID                     150 non-null int64\n",
      "START                  0 non-null float64\n",
      "END                    0 non-null float64\n",
      "FITS                   150 non-null object\n",
      "NB_PIPELINE            150 non-null int64\n",
      "NB_CORES               150 non-null int64\n",
      "AVG                    150 non-null int64\n",
      "PIPELINE               150 non-null int64\n",
      "BB_TYPE                150 non-null object\n",
      "BB_ALLOC_SIZE_MB       150 non-null float64\n",
      "TOTAL_NB_FILES         150 non-null int64\n",
      "BB_NB_FILES            150 non-null int64\n",
      "TOTAL_SIZE_FILES_MB    150 non-null float64\n",
      "BB_SIZE_FILES_MB       150 non-null float64\n",
      "MAKESPAN_S             150 non-null float64\n",
      "WALLTIME_S             150 non-null float64\n",
      "STAGEIN_TIME_S         150 non-null float64\n",
      "STAGEIN_WALLTIME_S     150 non-null float64\n",
      "RESAMPLE_TIME_S        150 non-null float64\n",
      "RESAMPLE_WALLTIME_S    150 non-null float64\n",
      "COMBINE_TIME_S         150 non-null float64\n",
      "COMBINE_WALLTIME_S     150 non-null float64\n",
      "STAGEOUT_TIME_S        150 non-null float64\n",
      "STAGEOUT_WALLTIME_S    150 non-null int64\n",
      "dtypes: float64(14), int64(8), object(2)\n",
      "memory usage: 29.3+ KB\n",
      "None\n",
      "[1]\n",
      "['Y']\n",
      "['PRIVATE' 'STRIPED']\n",
      "[16  1 32  4  8]\n",
      "[ 1  4  8 16 32]\n",
      "0      768.515625\n",
      "1      768.515625\n",
      "2      768.515625\n",
      "3      768.515625\n",
      "4      768.515625\n",
      "5      768.515625\n",
      "6      768.515625\n",
      "7      768.515625\n",
      "8      768.515625\n",
      "9      768.515625\n",
      "10     768.515625\n",
      "11     768.515625\n",
      "12     768.515625\n",
      "13     768.515625\n",
      "14     768.515625\n",
      "15     768.515625\n",
      "16     768.515625\n",
      "17     768.515625\n",
      "18     768.515625\n",
      "19     768.515625\n",
      "20     768.515625\n",
      "21     768.515625\n",
      "22     768.515625\n",
      "23     768.515625\n",
      "24     768.515625\n",
      "25     768.515625\n",
      "26     768.515625\n",
      "27     768.515625\n",
      "28     768.515625\n",
      "29     768.515625\n",
      "          ...    \n",
      "120    768.515625\n",
      "121    768.515625\n",
      "122    768.515625\n",
      "123    768.515625\n",
      "124    768.515625\n",
      "125    768.515625\n",
      "126    768.515625\n",
      "127    768.515625\n",
      "128    768.515625\n",
      "129    768.515625\n",
      "130    768.515625\n",
      "131    768.515625\n",
      "132    768.515625\n",
      "133    768.515625\n",
      "134    768.515625\n",
      "135    768.515625\n",
      "136    768.515625\n",
      "137    768.515625\n",
      "138    768.515625\n",
      "139    768.515625\n",
      "140    768.515625\n",
      "141    768.515625\n",
      "142    768.515625\n",
      "143    768.515625\n",
      "144    768.515625\n",
      "145    768.515625\n",
      "146    768.515625\n",
      "147    768.515625\n",
      "148    768.515625\n",
      "149    768.515625\n",
      "Name: BB_SIZE_FILES_MB, Length: 150, dtype: float64\n"
     ]
    },
    {
     "name": "stderr",
     "output_type": "stream",
     "text": [
      "/usr/local/lib/python3.7/site-packages/numpy/core/fromnumeric.py:2389: FutureWarning: Method .ptp is deprecated and will be removed in a future version. Use numpy.ptp instead.\n",
      "  return ptp(axis=axis, out=out, **kwargs)\n"
     ]
    }
   ],
   "source": [
    "\n",
    "try:\n",
    "    # Create target Directory\n",
    "    os.mkdir(OUTPUT)\n",
    "    print(\"Directory \" , OUTPUT ,  \" Created \") \n",
    "except FileExistsError:\n",
    "    print(\"Directory \" , OUTPUT ,  \" already exists\")\n",
    "\n",
    "\n",
    "#csv_file = \"swarp_test_switches.csv\"\n",
    "df_swarp = pd.read_csv(csv_file, sep=' ')\n",
    "\n",
    "df_swarp_priv = df_swarp[df_swarp.BB_TYPE==\"PRIVATE\"]\n",
    "df_swarp_strip = df_swarp[df_swarp.BB_TYPE==\"STRIPED\"]\n",
    "\n",
    "print(df_swarp.BB_NB_FILES.unique())\n",
    "df_swarp = df_swarp.loc[df_swarp['BB_NB_FILES'].isin([0,8,16,24,32])]\n",
    "print(df_swarp.BB_NB_FILES.unique())\n",
    "\n",
    "print(df_swarp.info())\n",
    "print(df_swarp.NB_CORES.unique())\n",
    "print(df_swarp.FITS.unique())\n",
    "print(df_swarp.BB_TYPE.unique())\n",
    "print(df_swarp.NB_PIPELINE.unique())\n",
    "## Use the full data\n",
    "\n",
    "is_FITS =  df_swarp['FITS']==\"Y\"\n",
    "is_PRIVATE =  df_swarp['BB_TYPE']==\"PRIVATE\"\n",
    "\n",
    "# print(df_swarp.describe())\n",
    "\n",
    "agg_swarp = df_swarp.groupby(['ID', 'NB_PIPELINE','FITS','BB_SIZE_FILES_MB', 'BB_TYPE', 'AVG', 'NB_CORES'], as_index=False).agg({'MAKESPAN_S': 'max', 'COMBINE_TIME_S': 'max', 'RESAMPLE_TIME_S': 'max', 'STAGEIN_TIME_S': 'min'})\n",
    "print(agg_swarp.NB_PIPELINE.unique())\n",
    "\n",
    "agg_maxmin = df_swarp.groupby(['ID', 'NB_PIPELINE','FITS','BB_SIZE_FILES_MB', 'BB_TYPE', 'AVG', 'NB_CORES'], as_index=False)['MAKESPAN_S','COMBINE_TIME_S','RESAMPLE_TIME_S','STAGEIN_TIME_S'].agg(numpy.ptp)\n",
    "#agg_maxmin = df_swarp.groupby(['ID', 'NB_PIPELINE','FITS', 'BB_TYPE', 'AVG', 'NB_CORES'], as_index=False)['MAKESPAN_S'].apply(lambda g: g.min())\n",
    "\n",
    "print(df_swarp.BB_SIZE_FILES_MB)\n"
   ]
  },
  {
   "cell_type": "code",
   "execution_count": null,
   "metadata": {},
   "outputs": [],
   "source": []
  },
  {
   "cell_type": "code",
   "execution_count": 4,
   "metadata": {},
   "outputs": [
    {
     "name": "stdout",
     "output_type": "stream",
     "text": [
      "Plot line fits task: STAGEIN_TIME_S\n"
     ]
    },
    {
     "name": "stderr",
     "output_type": "stream",
     "text": [
      "/usr/local/lib/python3.7/site-packages/ipykernel_launcher.py:18: UserWarning: Matplotlib is currently using pgf, which is a non-GUI backend, so cannot show the figure.\n"
     ]
    },
    {
     "name": "stdout",
     "output_type": "stream",
     "text": [
      "Plot line fits task: RESAMPLE_TIME_S\n"
     ]
    },
    {
     "name": "stderr",
     "output_type": "stream",
     "text": [
      "/usr/local/lib/python3.7/site-packages/ipykernel_launcher.py:18: UserWarning: Matplotlib is currently using pgf, which is a non-GUI backend, so cannot show the figure.\n"
     ]
    },
    {
     "name": "stdout",
     "output_type": "stream",
     "text": [
      "Plot line fits task: COMBINE_TIME_S\n"
     ]
    },
    {
     "name": "stderr",
     "output_type": "stream",
     "text": [
      "/usr/local/lib/python3.7/site-packages/ipykernel_launcher.py:18: UserWarning: Matplotlib is currently using pgf, which is a non-GUI backend, so cannot show the figure.\n"
     ]
    },
    {
     "name": "stdout",
     "output_type": "stream",
     "text": [
      "Plot line fits task: MAKESPAN_S\n"
     ]
    },
    {
     "name": "stderr",
     "output_type": "stream",
     "text": [
      "/usr/local/lib/python3.7/site-packages/ipykernel_launcher.py:18: UserWarning: Matplotlib is currently using pgf, which is a non-GUI backend, so cannot show the figure.\n"
     ]
    }
   ],
   "source": [
    "\n",
    "def plot_lineplot_per_task(df, col, output, loc='upper left'):\n",
    "    xlabel='Number of SWARP pipelines'\n",
    "    ylabel='Execution time (s)'\n",
    "    legend_label=['Private', 'Striped']\n",
    "    \n",
    "    name = col.split(\"_\")[0].lower()\n",
    "\n",
    "    f = plt.figure(figsize=(4, 3))\n",
    "    f.patch.set_alpha(0)\n",
    "    \n",
    "    g = sns.lineplot(x=\"NB_PIPELINE\", y=col, hue=\"BB_TYPE\", style=\"BB_TYPE\", data=df, markers=True)\n",
    "    g.legend(title='', labels=legend_label)\n",
    "    g.set(xlabel=xlabel, ylabel=ylabel, xticks=df.NB_PIPELINE.unique())\n",
    "\n",
    "    plt.tight_layout()\n",
    "    plt.savefig(OUTPUT+'swarp-line-'+name+output+'.pdf', facecolor=f.get_facecolor(), edgecolor='none')\n",
    "    plt.savefig(OUTPUT+'swarp-line-'+name+output+'.pgf', facecolor=f.get_facecolor(), edgecolor='none')\n",
    "    plt.show()\n",
    "\n",
    "loc=['upper left', 'lower right', 'upper left', 'lower right']\n",
    "\n",
    "for i,task in enumerate(tasks):\n",
    "    print(\"Plot line fits task:\", task)\n",
    "    plot_lineplot_per_task(agg_swarp, task, output=\"-fits-1w-Xc-32f\", loc=loc[i])\n",
    "    "
   ]
  },
  {
   "cell_type": "code",
   "execution_count": null,
   "metadata": {
    "scrolled": true
   },
   "outputs": [],
   "source": []
  },
  {
   "cell_type": "code",
   "execution_count": null,
   "metadata": {
    "scrolled": false
   },
   "outputs": [],
   "source": []
  },
  {
   "cell_type": "code",
   "execution_count": null,
   "metadata": {},
   "outputs": [],
   "source": []
  },
  {
   "cell_type": "code",
   "execution_count": null,
   "metadata": {},
   "outputs": [],
   "source": []
  },
  {
   "cell_type": "code",
   "execution_count": null,
   "metadata": {},
   "outputs": [],
   "source": []
  },
  {
   "cell_type": "code",
   "execution_count": null,
   "metadata": {},
   "outputs": [],
   "source": []
  },
  {
   "cell_type": "code",
   "execution_count": null,
   "metadata": {},
   "outputs": [],
   "source": []
  },
  {
   "cell_type": "code",
   "execution_count": 5,
   "metadata": {
    "scrolled": true
   },
   "outputs": [
    {
     "name": "stderr",
     "output_type": "stream",
     "text": [
      "/usr/local/lib/python3.7/site-packages/ipykernel_launcher.py:36: UserWarning: Matplotlib is currently using pgf, which is a non-GUI backend, so cannot show the figure.\n"
     ]
    }
   ],
   "source": [
    "\n",
    "xlabel='Input files in burst buffers (%)'\n",
    "legend_label=['Private', 'Striped']\n",
    "\n",
    "def plot_boxplot_all_tasks(df, output, print_dots=True):\n",
    "\n",
    "    with sns.light_palette(\"green\"):\n",
    "\n",
    "        #print(test.info())\n",
    "\n",
    "        f, axes = plt.subplots(2, 2, figsize=(10, 10), sharex=True)\n",
    "        f.patch.set_alpha(0)\n",
    "\n",
    "        g1 = sns.boxplot(x=\"NB_PIPELINE\", y=\"STAGEIN_TIME_S\", data=df, ax=axes[0,0])\n",
    "        if print_dots:\n",
    "            g1 = sns.swarmplot(x=\"NB_PIPELINE\", y=\"STAGEIN_TIME_S\", data=df, color=\".25\", ax=axes[0,0])\n",
    "        g1.set(xlabel='', ylabel='Stage in time (s)')\n",
    "\n",
    "        g2 = sns.boxplot(x=\"NB_PIPELINE\", y=\"RESAMPLE_TIME_S\", data=df, ax=axes[0,1])\n",
    "        if print_dots:\n",
    "            g2 = sns.swarmplot(x=\"NB_PIPELINE\", y=\"RESAMPLE_TIME_S\", data=df, color=\".25\", ax=axes[0,1])\n",
    "        g2.set(xlabel='', ylabel='Resample time (s)')\n",
    "\n",
    "        g3 = sns.boxplot(x=\"NB_PIPELINE\", y=\"COMBINE_TIME_S\", data=df, ax=axes[1,0])\n",
    "        if print_dots:\n",
    "            g3 = sns.swarmplot(x=\"NB_PIPELINE\", y=\"COMBINE_TIME_S\", data=df, color=\".25\", ax=axes[1,0])\n",
    "        g3.set(xlabel=xlabel, ylabel='Combine time (s)')\n",
    "\n",
    "        g4 = sns.boxplot(x=\"NB_PIPELINE\", y=\"MAKESPAN_S\", data=df, ax=axes[1,1])\n",
    "        if print_dots:\n",
    "            g4 = sns.swarmplot(x=\"NB_PIPELINE\", y=\"MAKESPAN_S\", data=df, color=\".25\", ax=axes[1,1])\n",
    "        g4.set(xlabel=xlabel, ylabel='Makespan (s)')\n",
    "\n",
    "        plt.tight_layout()\n",
    "#       plt.savefig(OUTPUT+output+'.pdf')\n",
    "#       plt.savefig(OUTPUT+output+'.pgf')\n",
    "        plt.show() \n",
    "\n",
    "\n",
    "plot_boxplot_all_tasks(agg_swarp[agg_swarp.BB_TYPE==\"PRIVATE\"], output=\"swarp-box-fits-private-1w-32c\")\n"
   ]
  },
  {
   "cell_type": "code",
   "execution_count": 6,
   "metadata": {},
   "outputs": [
    {
     "name": "stderr",
     "output_type": "stream",
     "text": [
      "/usr/local/lib/python3.7/site-packages/ipykernel_launcher.py:36: UserWarning: Matplotlib is currently using pgf, which is a non-GUI backend, so cannot show the figure.\n"
     ]
    }
   ],
   "source": [
    "plot_boxplot_all_tasks(agg_swarp[agg_swarp.BB_TYPE==\"STRIPED\"], output=\"swarp-box-fits-striped-1w-32c\")"
   ]
  },
  {
   "cell_type": "code",
   "execution_count": 7,
   "metadata": {
    "scrolled": true
   },
   "outputs": [
    {
     "name": "stderr",
     "output_type": "stream",
     "text": [
      "/usr/local/lib/python3.7/site-packages/ipykernel_launcher.py:21: UserWarning: Matplotlib is currently using pgf, which is a non-GUI backend, so cannot show the figure.\n",
      "/usr/local/lib/python3.7/site-packages/ipykernel_launcher.py:21: UserWarning: Matplotlib is currently using pgf, which is a non-GUI backend, so cannot show the figure.\n"
     ]
    }
   ],
   "source": [
    "def plot_boxplot_per_task(df, col, output, print_dots=True):\n",
    "    #df = df[df['STAGEIN_TIME_S'] < ]\n",
    "    xlabel='Number of SWARP pipelines'\n",
    "    ylabel='Execution time (s)'\n",
    "    legend_label=['Private', 'Striped']\n",
    "    \n",
    "    name = col.split(\"_\")[0].lower()\n",
    "    \n",
    "    f = plt.figure(figsize=(4, 3))\n",
    "    f.patch.set_alpha(0)\n",
    "    \n",
    "    with sns.light_palette(\"green\"):\n",
    "        g1 = sns.boxplot(x=\"NB_PIPELINE\", y=col, data=df)\n",
    "        if print_dots:\n",
    "            g1 = sns.swarmplot(x=\"NB_PIPELINE\", y=col, data=df, color=\".25\")\n",
    "        g1.set(xlabel=xlabel, ylabel=ylabel)\n",
    "\n",
    "        plt.tight_layout()\n",
    "        plt.savefig(OUTPUT+'swarp-box-'+name+output+'.pdf', facecolor=f.get_facecolor(), edgecolor='none')\n",
    "        plt.savefig(OUTPUT+'swarp-box-'+name+output+'.pgf', facecolor=f.get_facecolor(), edgecolor='none')\n",
    "        plt.show()\n",
    "\n",
    "loc=['upper left', 'lower right', 'upper left', 'lower right']\n",
    "\n",
    "# for i,task in enumerate(tasks):\n",
    "#     print(\"Plot line fits task:\", task)\n",
    "plot_boxplot_per_task(agg_swarp[agg_swarp.BB_TYPE==\"PRIVATE\"], \"RESAMPLE_TIME_S\", output=\"-fits-private-1w-Xc-32f\")\n",
    "plot_boxplot_per_task(agg_swarp[agg_swarp.BB_TYPE==\"STRIPED\"], \"RESAMPLE_TIME_S\", output=\"-fits-striped-1w-Xc-32f\")\n",
    "    "
   ]
  },
  {
   "cell_type": "code",
   "execution_count": 8,
   "metadata": {
    "scrolled": true
   },
   "outputs": [
    {
     "name": "stderr",
     "output_type": "stream",
     "text": [
      "/usr/local/lib/python3.7/site-packages/ipykernel_launcher.py:23: UserWarning: Matplotlib is currently using pgf, which is a non-GUI backend, so cannot show the figure.\n"
     ]
    }
   ],
   "source": [
    "print_dots = True\n",
    "xlabel='Number of SWARP pipelines'\n",
    "ylabel='Resample execution time (s)'\n",
    "\n",
    "with sns.light_palette(\"green\"):\n",
    "    f, axes = plt.subplots(1, 2, figsize=(9, 4.5), sharex=True, sharey=True)\n",
    "    f.patch.set_alpha(0)\n",
    "    \n",
    "    g1 = sns.boxplot(x=\"NB_PIPELINE\", y=\"RESAMPLE_TIME_S\", data=agg_swarp[agg_swarp.BB_TYPE==\"PRIVATE\"], ax=axes[0])\n",
    "    if print_dots:\n",
    "        g1 = sns.swarmplot(x=\"NB_PIPELINE\", y=\"RESAMPLE_TIME_S\", data=agg_swarp[agg_swarp.BB_TYPE==\"PRIVATE\"], color=\".25\", ax=axes[0])\n",
    "    g1.set(xlabel=xlabel+' with a private allocation', ylabel=ylabel)\n",
    "        \n",
    "with sns.light_palette(\"red\"):\n",
    "    g2 = sns.boxplot(x=\"NB_PIPELINE\", y=\"RESAMPLE_TIME_S\", data=agg_swarp[agg_swarp.BB_TYPE==\"STRIPED\"], ax=axes[1])\n",
    "    if print_dots:\n",
    "        g2 = sns.swarmplot(x=\"NB_PIPELINE\", y=\"RESAMPLE_TIME_S\", data=agg_swarp[agg_swarp.BB_TYPE==\"STRIPED\"], color=\".25\", ax=axes[1])\n",
    "    g2.set(xlabel=xlabel+' with a striped allocation', ylabel='')\n",
    "\n",
    "    plt.tight_layout()\n",
    "    plt.savefig(OUTPUT+'swarp-box-resample-1w-Xc-32f.pdf', facecolor=f.get_facecolor(), edgecolor='none')\n",
    "    plt.savefig(OUTPUT+'swarp-box-resample-1w-Xc-32f.pgf', facecolor=f.get_facecolor(), edgecolor='none')\n",
    "    plt.show()"
   ]
  },
  {
   "cell_type": "code",
   "execution_count": 9,
   "metadata": {},
   "outputs": [
    {
     "name": "stderr",
     "output_type": "stream",
     "text": [
      "/usr/local/lib/python3.7/site-packages/ipykernel_launcher.py:28: UserWarning: Matplotlib is currently using pgf, which is a non-GUI backend, so cannot show the figure.\n"
     ]
    }
   ],
   "source": [
    "print_dots = True\n",
    "xlabel='Number of SWARP pipelines'\n",
    "ylabel='Bandwidth (MB/s)'\n",
    "legend_label=['Private', 'Striped']\n",
    "\n",
    "agg_swarp['bw'] = agg_swarp['BB_SIZE_FILES_MB'] / agg_swarp['STAGEIN_TIME_S']\n",
    "\n",
    "# bandwidth_swarp = df_swarp.groupby(['ID', 'NB_PIPELINE','FITS', 'BB_TYPE', 'AVG', 'NB_CORES'], as_index=False).agg(lambda g: g['BB_SIZE_FILES_MB'].max()/g['STAGEIN_TIME_S'].max())\n",
    "\n",
    "#print(bandwidth_swarp)\n",
    "\n",
    "# f, axes = plt.subplots(1, 2, figsize=(9, 4.5), sharex=True, sharey=True)\n",
    "f = plt.figure(figsize=(8, 4))\n",
    "f.patch.set_alpha(0)\n",
    "\n",
    "g1 = sns.lineplot(x=\"NB_PIPELINE\", y=\"bw\", data=agg_swarp, hue=\"BB_TYPE\", style=\"BB_TYPE\", markers=True)\n",
    "g1.set(xlabel=xlabel, ylabel=ylabel)\n",
    "\n",
    "# g1.set_xscale('log')\n",
    "# g1.set_xticks(agg_swarp.NB_PIPELINE.unique())\n",
    "# g1.get_xaxis().set_major_formatter(mpl.ticker.ScalarFormatter())\n",
    "\n",
    "g1.legend(title='Access Mode', labels=legend_label)\n",
    "\n",
    "plt.tight_layout()\n",
    "plt.savefig(OUTPUT+'swarp-bandwidth-1w-Xc-32f.pdf', facecolor=f.get_facecolor(), edgecolor='none')\n",
    "plt.savefig(OUTPUT+'swarp-bandwidth-1w-Xc-32f.pgf', facecolor=f.get_facecolor(), edgecolor='none')\n",
    "plt.show()"
   ]
  },
  {
   "cell_type": "code",
   "execution_count": null,
   "metadata": {},
   "outputs": [],
   "source": []
  },
  {
   "cell_type": "code",
   "execution_count": 10,
   "metadata": {},
   "outputs": [
    {
     "name": "stdout",
     "output_type": "stream",
     "text": [
      "max slowdown makespan :  1.6474340784256343\n",
      "max slowdown resample :  1.288201781467465\n",
      "max slowdown stagein  :  1.5296404830989374\n",
      "max slowdown combine  :  3.4473742365477067\n"
     ]
    },
    {
     "name": "stderr",
     "output_type": "stream",
     "text": [
      "/usr/local/lib/python3.7/site-packages/pandas/core/ops.py:1649: FutureWarning: elementwise comparison failed; returning scalar instead, but in the future will perform elementwise comparison\n",
      "  result = method(y)\n"
     ]
    }
   ],
   "source": [
    "is_FITS =  df_swarp['FITS']==\"Y\"\n",
    "is_PRIVATE =  df_swarp['BB_TYPE']==\"PRIVATE\"\n",
    "is_One_pipe =  df_swarp['NB_PIPELINE']==\"1\"\n",
    "is_32pipe =  df_swarp['NB_PIPELINE']==\"32\"\n",
    "\n",
    "df_by_pipeline = df_swarp[is_FITS & is_PRIVATE].groupby('NB_PIPELINE').aggregate(['mean', 'max','min'])\n",
    "df_by_pipeline.head()\n",
    "\n",
    "print(\"max slowdown makespan : \", max(df_by_pipeline.MAKESPAN_S['mean'])/min(df_by_pipeline.MAKESPAN_S['mean']))\n",
    "print(\"max slowdown resample : \", max(df_by_pipeline.RESAMPLE_TIME_S['mean'])/min(df_by_pipeline.RESAMPLE_TIME_S['mean']))\n",
    "print(\"max slowdown stagein  : \", max(df_by_pipeline.STAGEIN_TIME_S['mean'])/min(df_by_pipeline.STAGEIN_TIME_S['mean']))\n",
    "print(\"max slowdown combine  : \", max(df_by_pipeline.COMBINE_TIME_S['mean'])/min(df_by_pipeline.COMBINE_TIME_S['mean']))\n",
    "\n"
   ]
  },
  {
   "cell_type": "code",
   "execution_count": null,
   "metadata": {},
   "outputs": [],
   "source": []
  },
  {
   "cell_type": "code",
   "execution_count": null,
   "metadata": {},
   "outputs": [],
   "source": []
  },
  {
   "cell_type": "code",
   "execution_count": null,
   "metadata": {},
   "outputs": [],
   "source": []
  },
  {
   "cell_type": "code",
   "execution_count": null,
   "metadata": {},
   "outputs": [],
   "source": []
  },
  {
   "cell_type": "code",
   "execution_count": null,
   "metadata": {},
   "outputs": [],
   "source": []
  }
 ],
 "metadata": {
  "kernelspec": {
   "display_name": "Python 3",
   "language": "python",
   "name": "python3"
  },
  "language_info": {
   "codemirror_mode": {
    "name": "ipython",
    "version": 3
   },
   "file_extension": ".py",
   "mimetype": "text/x-python",
   "name": "python",
   "nbconvert_exporter": "python",
   "pygments_lexer": "ipython3",
   "version": "3.7.6"
  }
 },
 "nbformat": 4,
 "nbformat_minor": 2
}
