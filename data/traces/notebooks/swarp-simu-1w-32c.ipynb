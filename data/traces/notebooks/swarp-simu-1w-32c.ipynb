{
 "cells": [
  {
   "cell_type": "code",
   "execution_count": 9,
   "metadata": {},
   "outputs": [
    {
     "name": "stdout",
     "output_type": "stream",
     "text": [
      "/usr/local/opt/python/bin/python3.7\n"
     ]
    },
    {
     "data": {
      "text/html": [
       "<style>.container { width:100% !important; }</style>"
      ],
      "text/plain": [
       "<IPython.core.display.HTML object>"
      ]
     },
     "metadata": {},
     "output_type": "display_data"
    }
   ],
   "source": [
    "import sys\n",
    "import os\n",
    "print(sys.executable)\n",
    "\n",
    "from IPython.core.display import display, HTML\n",
    "display(HTML(\"<style>.container { width:100% !important; }</style>\"))\n",
    "\n",
    "import importlib\n",
    "seaborn_found = importlib.util.find_spec('seaborn')\n",
    "if seaborn_found is None:\n",
    "    sys.write.stderr(\"[error] Seaborn package not found. exit\")\n",
    "    exit(-1)\n",
    "\n",
    "import seaborn as sns\n",
    "import pandas as pd\n",
    "\n",
    "import matplotlib as mpl\n",
    "\n",
    "#mpl.use(\"pgf\")\n",
    "\n",
    "import matplotlib.pyplot as plt\n",
    "\n",
    "plt.rcParams.update({\n",
    "    \"font.family\": \"serif\",  # use serif/main font for text elements\n",
    "    \"text.usetex\": False,     # use inline math for ticks\n",
    "    \"pgf.rcfonts\": False,    # don't setup fonts from rc parameters\n",
    "    \"pgf.preamble\": [\n",
    "         \"\\\\usepackage{units}\",          # load additional packages\n",
    "         \"\\\\usepackage{metalogo}\",\n",
    "         \"\\\\usepackage{unicode-math}\",   # unicode math setup\n",
    "         r\"\\setmathfont{xits-math.otf}\",\n",
    "         ]\n",
    "})\n",
    "\n",
    "\n",
    "plt.rcParams.update({\n",
    "    \"font.family\": \"serif\",\n",
    "    \"font.serif\": [\"Times\"],                    # use latex default serif font\n",
    "    \"font.size\": \"22\",\n",
    "})\n",
    "\n",
    "plt.rcParams.update({\n",
    "    \"pgf.texsystem\": \"pdflatex\",\n",
    "    \"pgf.preamble\": [\n",
    "         r\"\\usepackage[utf8x]{inputenc}\",\n",
    "         r\"\\usepackage[T1]{fontenc}\",\n",
    "         r\"\\usepackage{cmbright}\",\n",
    "         ]\n",
    "})\n",
    "\n",
    "# plt.rc('text', usetex=True)\n",
    "\n",
    "sns.set(style=\"ticks\", color_codes=True, font_scale=1.3)\n",
    "sns.set_context(\"paper\", rc={\"axes.labelsize\":14, \"axes.titlesize\":14, \"legend.fontsize\":14, \"xtick.labelsize\":14, \"ytick.labelsize\":14, \"font.size\":14})\n",
    "\n",
    "sns.set_style(\"darkgrid\", {'xtick.bottom': True, 'xtick.top': False, 'ytick.left': True, 'ytick.right': False, 'axes.grid': True, \"axes.facecolor\": \".9\", 'grid.linestyle': '-', 'lines.linewidth':2.5})\n",
    "# sns.set_palette(\"dark\")\n",
    "\n",
    "DIR_REAL_DATA=\"/Users/lpottier/research/usc-isi/projects/active/workflow-io-bb/data/traces/swarp/\"\n",
    "DIR_SIMU=\"/Users/lpottier/research/usc-isi/projects/active/workflow-io-bb/simulation/output\""
   ]
  },
  {
   "cell_type": "code",
   "execution_count": 10,
   "metadata": {},
   "outputs": [],
   "source": [
    "# csv_file = DIR+\"/simu-bb-runs2020-1c.csv\"\n",
    "# csv_file = DIR+\"/simu-bb_runs2020-Xc.csv\"\n",
    "csv_file = DIR_SIMU+\"/simu-bb_runs2020-32c.csv\"\n",
    "\n",
    "CORE=\"32\"\n",
    "PLOT_DIR=os.getcwd()\n",
    "# PLOT_DIR=\"/Users/lpottier/research/usc-isi/projects/paper-workflow-bb/figures/plots/simu-swarp\"\n",
    "\n",
    "OUTPUT = PLOT_DIR+\"/\"+\"simu-bb_runs2020-32c/\""
   ]
  },
  {
   "cell_type": "code",
   "execution_count": 11,
   "metadata": {},
   "outputs": [
    {
     "name": "stdout",
     "output_type": "stream",
     "text": [
      "Directory  /Users/lpottier/research/usc-isi/projects/active/workflow-io-bb/data/traces/notebooks/simu-bb_runs2020-32c/  already exists\n"
     ]
    }
   ],
   "source": [
    "try:\n",
    "    # Create target Directory\n",
    "    os.mkdir(OUTPUT)\n",
    "    print(\"Directory \" , OUTPUT ,  \" Created \") \n",
    "except FileExistsError:\n",
    "    print(\"Directory \" , OUTPUT ,  \" already exists\")"
   ]
  },
  {
   "cell_type": "code",
   "execution_count": 24,
   "metadata": {},
   "outputs": [],
   "source": [
    "df = pd.read_csv(csv_file, sep=' ')\n",
    "CORE=\"32\"\n",
    "# print(df.head())\n",
    "# df.rename(columns={\"FILES\": \"BB_NB_FILES\", \"CORES\": \"NB_CORES\"}, errors=\"raise\")\n",
    "\n",
    "df.agg = df.groupby(['ID', 'BB_NB_FILES','FITS', 'BB_TYPE', 'AVG', 'NB_CORES'], as_index=False).agg({'MEASURED_MKSP_S': 'max', 'ERR_MKSP': 'max', 'SIMULATION_S': 'max', 'MEASURED_WALLTIME_S': 'max', 'ERR_WALLTIME': 'max'})"
   ]
  },
  {
   "cell_type": "code",
   "execution_count": 25,
   "metadata": {},
   "outputs": [
    {
     "data": {
      "text/html": [
       "<div>\n",
       "<style scoped>\n",
       "    .dataframe tbody tr th:only-of-type {\n",
       "        vertical-align: middle;\n",
       "    }\n",
       "\n",
       "    .dataframe tbody tr th {\n",
       "        vertical-align: top;\n",
       "    }\n",
       "\n",
       "    .dataframe thead th {\n",
       "        text-align: right;\n",
       "    }\n",
       "</style>\n",
       "<table border=\"1\" class=\"dataframe\">\n",
       "  <thead>\n",
       "    <tr style=\"text-align: right;\">\n",
       "      <th></th>\n",
       "      <th>ID</th>\n",
       "      <th>BB_NB_FILES</th>\n",
       "      <th>FITS</th>\n",
       "      <th>BB_TYPE</th>\n",
       "      <th>AVG</th>\n",
       "      <th>NB_CORES</th>\n",
       "      <th>MEASURED_MKSP_S</th>\n",
       "      <th>ERR_MKSP</th>\n",
       "      <th>SIMULATION_S</th>\n",
       "      <th>MEASURED_WALLTIME_S</th>\n",
       "      <th>ERR_WALLTIME</th>\n",
       "    </tr>\n",
       "  </thead>\n",
       "  <tbody>\n",
       "    <tr>\n",
       "      <th>0</th>\n",
       "      <td>27825307</td>\n",
       "      <td>0</td>\n",
       "      <td>Y</td>\n",
       "      <td>PRIVATE</td>\n",
       "      <td>1</td>\n",
       "      <td>32</td>\n",
       "      <td>110.435</td>\n",
       "      <td>0.042732</td>\n",
       "      <td>115.155</td>\n",
       "      <td>123.386</td>\n",
       "      <td>0.066714</td>\n",
       "    </tr>\n",
       "    <tr>\n",
       "      <th>1</th>\n",
       "      <td>27825307</td>\n",
       "      <td>0</td>\n",
       "      <td>Y</td>\n",
       "      <td>PRIVATE</td>\n",
       "      <td>2</td>\n",
       "      <td>32</td>\n",
       "      <td>106.646</td>\n",
       "      <td>0.056309</td>\n",
       "      <td>112.651</td>\n",
       "      <td>118.900</td>\n",
       "      <td>0.052561</td>\n",
       "    </tr>\n",
       "    <tr>\n",
       "      <th>2</th>\n",
       "      <td>27825307</td>\n",
       "      <td>0</td>\n",
       "      <td>Y</td>\n",
       "      <td>PRIVATE</td>\n",
       "      <td>3</td>\n",
       "      <td>32</td>\n",
       "      <td>108.771</td>\n",
       "      <td>0.047811</td>\n",
       "      <td>113.971</td>\n",
       "      <td>118.753</td>\n",
       "      <td>0.040268</td>\n",
       "    </tr>\n",
       "    <tr>\n",
       "      <th>3</th>\n",
       "      <td>27825307</td>\n",
       "      <td>0</td>\n",
       "      <td>Y</td>\n",
       "      <td>PRIVATE</td>\n",
       "      <td>4</td>\n",
       "      <td>32</td>\n",
       "      <td>109.215</td>\n",
       "      <td>0.047196</td>\n",
       "      <td>114.370</td>\n",
       "      <td>130.644</td>\n",
       "      <td>0.124569</td>\n",
       "    </tr>\n",
       "    <tr>\n",
       "      <th>4</th>\n",
       "      <td>27825307</td>\n",
       "      <td>0</td>\n",
       "      <td>Y</td>\n",
       "      <td>PRIVATE</td>\n",
       "      <td>5</td>\n",
       "      <td>32</td>\n",
       "      <td>109.729</td>\n",
       "      <td>0.044955</td>\n",
       "      <td>114.661</td>\n",
       "      <td>119.492</td>\n",
       "      <td>0.040426</td>\n",
       "    </tr>\n",
       "  </tbody>\n",
       "</table>\n",
       "</div>"
      ],
      "text/plain": [
       "         ID  BB_NB_FILES FITS  BB_TYPE  AVG  NB_CORES  MEASURED_MKSP_S  \\\n",
       "0  27825307            0    Y  PRIVATE    1        32          110.435   \n",
       "1  27825307            0    Y  PRIVATE    2        32          106.646   \n",
       "2  27825307            0    Y  PRIVATE    3        32          108.771   \n",
       "3  27825307            0    Y  PRIVATE    4        32          109.215   \n",
       "4  27825307            0    Y  PRIVATE    5        32          109.729   \n",
       "\n",
       "   ERR_MKSP  SIMULATION_S  MEASURED_WALLTIME_S  ERR_WALLTIME  \n",
       "0  0.042732       115.155              123.386      0.066714  \n",
       "1  0.056309       112.651              118.900      0.052561  \n",
       "2  0.047811       113.971              118.753      0.040268  \n",
       "3  0.047196       114.370              130.644      0.124569  \n",
       "4  0.044955       114.661              119.492      0.040426  "
      ]
     },
     "execution_count": 25,
     "metadata": {},
     "output_type": "execute_result"
    }
   ],
   "source": [
    "df.agg.head()"
   ]
  },
  {
   "cell_type": "code",
   "execution_count": 27,
   "metadata": {},
   "outputs": [],
   "source": [
    "df.real = pd.read_csv(DIR_REAL_DATA+\"/shared-cori/bb-runs2020-32c.csv\", sep=' ')\n",
    "\n",
    "# df.real = df.real.loc[df['BB_NB_FILES'].isin([0,8,16,24,32])]\n",
    "# df.real = df.real[df.real.NB_CORES==int(CORE)]\n",
    "\n",
    "big = pd.merge(df, df.real, on=['ID', 'BB_NB_FILES','FITS', 'BB_TYPE', 'AVG', 'NB_CORES'])\n",
    "\n",
    "bigagg = big.groupby(['ID', 'BB_NB_FILES','FITS', 'BB_TYPE', 'AVG', 'NB_CORES'], as_index=False).agg({'MEASURED_MKSP_S': 'max', 'MAKESPAN_S': 'max', 'SIMULATION_S': 'max', 'MEASURED_WALLTIME_S': 'max', 'ERR_WALLTIME': 'max'})\n"
   ]
  },
  {
   "cell_type": "code",
   "execution_count": 28,
   "metadata": {},
   "outputs": [],
   "source": [
    "bigagg['ERR'] = (abs(bigagg['MAKESPAN_S'] - bigagg['SIMULATION_S']) / bigagg['SIMULATION_S']) *100\n",
    "bigagg.head()\n",
    "bigagg['BB_NB_FILES'] = (bigagg['BB_NB_FILES']*100)/32.0"
   ]
  },
  {
   "cell_type": "code",
   "execution_count": 29,
   "metadata": {},
   "outputs": [
    {
     "name": "stdout",
     "output_type": "stream",
     "text": [
      "         ID  AVG FITS  BB_TYPE     WORKFLOW  PLATFORM  NB_PIPELINE  PIPELINE  \\\n",
      "0  27829588    1    N  PRIVATE  swarp-1.dax  cori.xml            1         1   \n",
      "1  27829588    2    N  PRIVATE  swarp-1.dax  cori.xml            1         1   \n",
      "2  27829588    3    N  PRIVATE  swarp-1.dax  cori.xml            1         1   \n",
      "3  27829588    4    N  PRIVATE  swarp-1.dax  cori.xml            1         1   \n",
      "4  27829588    5    N  PRIVATE  swarp-1.dax  cori.xml            1         1   \n",
      "\n",
      "   NB_CORES  BB_NB_FILES  DATA_MB   LATENCY  BANDWITH  SIMULATION_S  \\\n",
      "0        32            0      0.0  0.117647   2.32143       120.407   \n",
      "1        32            0      0.0  0.117647   2.32143       124.138   \n",
      "2        32            0      0.0  0.117647   2.32143       121.365   \n",
      "3        32            0      0.0  0.117647   2.32143       120.297   \n",
      "4        32            0      0.0  0.117647   2.32143       122.161   \n",
      "\n",
      "   MEASURED_MKSP_S  ERR_MKSP  MEASURED_WALLTIME_S  ERR_WALLTIME  \n",
      "0          117.184  0.027503              121.335      0.007650  \n",
      "1          122.822  0.010715              127.134      0.023564  \n",
      "2          118.604  0.023279              132.882      0.086665  \n",
      "3          116.997  0.028208              146.513      0.178932  \n",
      "4          120.669  0.012360              130.746      0.065666  \n",
      "BB_NB_FILES : [ 0 16 24 32  8]\n",
      "BB_TYPE     : ['PRIVATE' 'STRIPED']\n",
      "BB_TYPE     : ['N' 'Y']\n",
      "NB_PIPELINE : [1]\n"
     ]
    }
   ],
   "source": [
    "print(df.head())\n",
    "print(\"BB_NB_FILES :\", df.BB_NB_FILES.unique())\n",
    "print(\"BB_TYPE     :\", df.BB_TYPE.unique())\n",
    "print(\"BB_TYPE     :\", df.FITS.unique())\n",
    "print(\"NB_PIPELINE :\", df.NB_PIPELINE.unique())"
   ]
  },
  {
   "cell_type": "code",
   "execution_count": 20,
   "metadata": {},
   "outputs": [
    {
     "data": {
      "image/png": "[encoded data removed]",
      "text/plain": [
       "<Figure size 288x216 with 1 Axes>"
      ]
     },
     "metadata": {
      "needs_background": "light"
     },
     "output_type": "display_data"
    }
   ],
   "source": [
    "xlabel='Input files in burst buffers (%)'\n",
    "ylabel='Execution time (s)'\n",
    "\n",
    "# name = col.split(\"_\")[0].lower()\n",
    "is_FITS = bigagg['FITS']==\"Y\"\n",
    "is_PRIVATE = bigagg['BB_TYPE']==\"PRIVATE\"\n",
    "\n",
    "f = plt.figure(figsize=(4, 3))\n",
    "f.patch.set_alpha(0)\n",
    "\n",
    "g = sns.lineplot(x=\"BB_NB_FILES\", y=\"MAKESPAN_S\", data=bigagg[is_FITS & is_PRIVATE],  color=\"b\", markers=True)\n",
    "g = sns.lineplot(x=\"BB_NB_FILES\", y=\"SIMULATION_S\", data=bigagg[is_FITS & is_PRIVATE],  color=\"r\", markers=True)\n",
    "\n",
    "g.legend(loc='upper left', title='', labels=[\"Measured makespan\", \"Simulated makespan\"])\n",
    "\n",
    "g.set(xlabel=xlabel, ylabel=ylabel)\n",
    "\n",
    "plt.tight_layout()\n",
    "plt.savefig(OUTPUT+'swarp-simu-private-mksp-files.pdf', facecolor=f.get_facecolor(), edgecolor='none')\n",
    "plt.savefig(OUTPUT+'swarp-simu-private-mksp-files.pgf', facecolor=f.get_facecolor(), edgecolor='none')\n",
    "plt.show()"
   ]
  },
  {
   "cell_type": "code",
   "execution_count": 30,
   "metadata": {},
   "outputs": [
    {
     "ename": "ValueError",
     "evalue": "min() arg is an empty sequence",
     "output_type": "error",
     "traceback": [
      "\u001b[0;31m---------------------------------------------------------------------------\u001b[0m",
      "\u001b[0;31mValueError\u001b[0m                                Traceback (most recent call last)",
      "\u001b[0;32m<ipython-input-30-ca573e9b5f2e>\u001b[0m in \u001b[0;36m<module>\u001b[0;34m\u001b[0m\n\u001b[1;32m      1\u001b[0m print(\"min error\",\n\u001b[0;32m----> 2\u001b[0;31m     \u001b[0mmin\u001b[0m\u001b[0;34m(\u001b[0m\u001b[0mbigagg\u001b[0m\u001b[0;34m[\u001b[0m\u001b[0mis_FITS\u001b[0m \u001b[0;34m&\u001b[0m \u001b[0mis_PRIVATE\u001b[0m\u001b[0;34m]\u001b[0m\u001b[0;34m[\u001b[0m\u001b[0;34m'ERR'\u001b[0m\u001b[0;34m]\u001b[0m\u001b[0;34m)\u001b[0m\u001b[0;34m,\u001b[0m\u001b[0;34m\u001b[0m\u001b[0;34m\u001b[0m\u001b[0m\n\u001b[0m\u001b[1;32m      3\u001b[0m     \u001b[0;34m\", avg error\"\u001b[0m\u001b[0;34m,\u001b[0m\u001b[0;34m\u001b[0m\u001b[0;34m\u001b[0m\u001b[0m\n\u001b[1;32m      4\u001b[0m     \u001b[0mnumpy\u001b[0m\u001b[0;34m.\u001b[0m\u001b[0mmean\u001b[0m\u001b[0;34m(\u001b[0m\u001b[0mbigagg\u001b[0m\u001b[0;34m[\u001b[0m\u001b[0mis_FITS\u001b[0m \u001b[0;34m&\u001b[0m \u001b[0mis_PRIVATE\u001b[0m\u001b[0;34m]\u001b[0m\u001b[0;34m[\u001b[0m\u001b[0;34m'ERR'\u001b[0m\u001b[0;34m]\u001b[0m\u001b[0;34m)\u001b[0m\u001b[0;34m,\u001b[0m\u001b[0;34m\u001b[0m\u001b[0;34m\u001b[0m\u001b[0m\n\u001b[1;32m      5\u001b[0m     \u001b[0;34m\", sd error\"\u001b[0m\u001b[0;34m,\u001b[0m\u001b[0;34m\u001b[0m\u001b[0;34m\u001b[0m\u001b[0m\n",
      "\u001b[0;31mValueError\u001b[0m: min() arg is an empty sequence"
     ]
    }
   ],
   "source": [
    "print(\"min error\",\n",
    "    min(bigagg[is_FITS & is_PRIVATE]['ERR']),\n",
    "    \", avg error\",\n",
    "    numpy.mean(bigagg[is_FITS & is_PRIVATE]['ERR']),\n",
    "    \", sd error\",\n",
    "    numpy.std(bigagg[is_FITS & is_PRIVATE]['ERR']),\n",
    "    \", max error\",\n",
    "    max(bigagg[is_FITS & is_PRIVATE]['ERR']),\n",
    ")"
   ]
  },
  {
   "cell_type": "code",
   "execution_count": 22,
   "metadata": {},
   "outputs": [
    {
     "data": {
      "image/png": "[encoded data removed]",
      "text/plain": [
       "<Figure size 288x216 with 1 Axes>"
      ]
     },
     "metadata": {
      "needs_background": "light"
     },
     "output_type": "display_data"
    }
   ],
   "source": [
    "xlabel='Input files in burst buffers (%)'\n",
    "ylabel='Execution time (s)'\n",
    "\n",
    "# name = col.split(\"_\")[0].lower()\n",
    "\n",
    "f = plt.figure(figsize=(4, 3))\n",
    "f.patch.set_alpha(0)\n",
    "\n",
    "g = sns.lineplot(x=\"BB_NB_FILES\", y=\"MAKESPAN_S\", data=bigagg[~is_PRIVATE & is_FITS],  color=\"b\", markers=True)\n",
    "g = sns.lineplot(x=\"BB_NB_FILES\", y=\"SIMULATION_S\", data=bigagg[~is_PRIVATE & is_FITS],  color=\"r\", markers=True)\n",
    "\n",
    "g.legend(loc='upper left', title='', labels=[\"Measured makespan\", \"Simulated makespan\"])\n",
    "g.set(xlabel=xlabel, ylabel=ylabel)\n",
    "\n",
    "plt.tight_layout()\n",
    "plt.savefig(OUTPUT+'swarp-simu-striped-mksp-files.pdf', facecolor=f.get_facecolor(), edgecolor='none')\n",
    "plt.savefig(OUTPUT+'swarp-simu-striped-mksp-files.pgf', facecolor=f.get_facecolor(), edgecolor='none')\n",
    "plt.show()\n"
   ]
  },
  {
   "cell_type": "code",
   "execution_count": 23,
   "metadata": {},
   "outputs": [
    {
     "ename": "ValueError",
     "evalue": "min() arg is an empty sequence",
     "output_type": "error",
     "traceback": [
      "\u001b[0;31m---------------------------------------------------------------------------\u001b[0m",
      "\u001b[0;31mValueError\u001b[0m                                Traceback (most recent call last)",
      "\u001b[0;32m<ipython-input-23-c7c614952e5b>\u001b[0m in \u001b[0;36m<module>\u001b[0;34m\u001b[0m\n\u001b[1;32m      1\u001b[0m print(\"min error\",\n\u001b[0;32m----> 2\u001b[0;31m     \u001b[0mmin\u001b[0m\u001b[0;34m(\u001b[0m\u001b[0mbigagg\u001b[0m\u001b[0;34m[\u001b[0m\u001b[0;34m~\u001b[0m\u001b[0mis_PRIVATE\u001b[0m \u001b[0;34m&\u001b[0m \u001b[0mis_FITS\u001b[0m\u001b[0;34m]\u001b[0m\u001b[0;34m[\u001b[0m\u001b[0;34m'ERR'\u001b[0m\u001b[0;34m]\u001b[0m\u001b[0;34m)\u001b[0m\u001b[0;34m,\u001b[0m\u001b[0;34m\u001b[0m\u001b[0;34m\u001b[0m\u001b[0m\n\u001b[0m\u001b[1;32m      3\u001b[0m     \u001b[0;34m\", avg error\"\u001b[0m\u001b[0;34m,\u001b[0m\u001b[0;34m\u001b[0m\u001b[0;34m\u001b[0m\u001b[0m\n\u001b[1;32m      4\u001b[0m     \u001b[0mnumpy\u001b[0m\u001b[0;34m.\u001b[0m\u001b[0mmean\u001b[0m\u001b[0;34m(\u001b[0m\u001b[0mbigagg\u001b[0m\u001b[0;34m[\u001b[0m\u001b[0;34m~\u001b[0m\u001b[0mis_PRIVATE\u001b[0m \u001b[0;34m&\u001b[0m \u001b[0mis_FITS\u001b[0m\u001b[0;34m]\u001b[0m\u001b[0;34m[\u001b[0m\u001b[0;34m'ERR'\u001b[0m\u001b[0;34m]\u001b[0m\u001b[0;34m)\u001b[0m\u001b[0;34m,\u001b[0m\u001b[0;34m\u001b[0m\u001b[0;34m\u001b[0m\u001b[0m\n\u001b[1;32m      5\u001b[0m     \u001b[0;34m\", sd error\"\u001b[0m\u001b[0;34m,\u001b[0m\u001b[0;34m\u001b[0m\u001b[0;34m\u001b[0m\u001b[0m\n",
      "\u001b[0;31mValueError\u001b[0m: min() arg is an empty sequence"
     ]
    }
   ],
   "source": [
    "print(\"min error\",\n",
    "    min(bigagg[~is_PRIVATE & is_FITS]['ERR']),\n",
    "    \", avg error\",\n",
    "    numpy.mean(bigagg[~is_PRIVATE & is_FITS]['ERR']),\n",
    "    \", sd error\",\n",
    "    numpy.std(bigagg[~is_PRIVATE & is_FITS]['ERR']),\n",
    "    \", max error\",\n",
    "    max(bigagg[~is_PRIVATE & is_FITS]['ERR']),\n",
    ")"
   ]
  },
  {
   "cell_type": "code",
   "execution_count": null,
   "metadata": {},
   "outputs": [],
   "source": []
  },
  {
   "cell_type": "code",
   "execution_count": null,
   "metadata": {},
   "outputs": [],
   "source": []
  }
 ],
 "metadata": {
  "kernelspec": {
   "display_name": "Python 3",
   "language": "python",
   "name": "python3"
  },
  "language_info": {
   "codemirror_mode": {
    "name": "ipython",
    "version": 3
   },
   "file_extension": ".py",
   "mimetype": "text/x-python",
   "name": "python",
   "nbconvert_exporter": "python",
   "pygments_lexer": "ipython3",
   "version": "3.7.7"
  }
 },
 "nbformat": 4,
 "nbformat_minor": 2
}
