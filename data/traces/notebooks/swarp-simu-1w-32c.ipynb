{
 "cells": [
  {
   "cell_type": "code",
   "execution_count": 1,
   "metadata": {},
   "outputs": [
    {
     "name": "stdout",
     "output_type": "stream",
     "text": [
      "/usr/local/opt/python/bin/python3.7\n"
     ]
    },
    {
     "data": {
      "text/html": [
       "<style>.container { width:100% !important; }</style>"
      ],
      "text/plain": [
       "<IPython.core.display.HTML object>"
      ]
     },
     "metadata": {},
     "output_type": "display_data"
    }
   ],
   "source": [
    "import sys\n",
    "import os\n",
    "import numpy\n",
    "print(sys.executable)\n",
    "\n",
    "from IPython.core.display import display, HTML\n",
    "display(HTML(\"<style>.container { width:100% !important; }</style>\"))\n",
    "\n",
    "import importlib\n",
    "seaborn_found = importlib.util.find_spec('seaborn')\n",
    "if seaborn_found is None:\n",
    "    sys.write.stderr(\"[error] Seaborn package not found. exit\")\n",
    "    exit(-1)\n",
    "\n",
    "import seaborn as sns\n",
    "import pandas as pd\n",
    "\n",
    "import matplotlib as mpl\n",
    "\n",
    "#mpl.use(\"pgf\")\n",
    "\n",
    "import matplotlib.pyplot as plt\n",
    "\n",
    "plt.rcParams.update({\n",
    "    \"font.family\": \"serif\",  # use serif/main font for text elements\n",
    "    \"text.usetex\": False,     # use inline math for ticks\n",
    "    \"pgf.rcfonts\": False,    # don't setup fonts from rc parameters\n",
    "    \"pgf.preamble\": [\n",
    "         \"\\\\usepackage{units}\",          # load additional packages\n",
    "         \"\\\\usepackage{metalogo}\",\n",
    "         \"\\\\usepackage{unicode-math}\",   # unicode math setup\n",
    "         r\"\\setmathfont{xits-math.otf}\",\n",
    "         ]\n",
    "})\n",
    "\n",
    "\n",
    "plt.rcParams.update({\n",
    "    \"font.family\": \"serif\",\n",
    "    \"font.serif\": [\"Times\"],                    # use latex default serif font\n",
    "    \"font.size\": \"22\",\n",
    "})\n",
    "\n",
    "plt.rcParams.update({\n",
    "    \"pgf.texsystem\": \"pdflatex\",\n",
    "    \"pgf.preamble\": [\n",
    "         r\"\\usepackage[utf8x]{inputenc}\",\n",
    "         r\"\\usepackage[T1]{fontenc}\",\n",
    "         r\"\\usepackage{cmbright}\",\n",
    "         ]\n",
    "})\n",
    "\n",
    "# plt.rc('text', usetex=True)\n",
    "\n",
    "FONT=18\n",
    "\n",
    "sns.set_context(\"paper\", font_scale=1.3, rc={\"lines.linewidth\": 1.5, \"axes.labelsize\":FONT, \"axes.titlesize\":FONT, \"legend.fontsize\":FONT, \"xtick.labelsize\":FONT, \"ytick.labelsize\":FONT, \"font.size\":FONT})\n",
    "\n",
    "sns.set_style(\"darkgrid\", {'xtick.bottom': True, 'xtick.top': False, 'ytick.left': True, 'ytick.right': False, 'axes.grid': True, \"axes.facecolor\": \".9\", 'grid.linestyle': '-', 'lines.linewidth':2.5})\n",
    "# sns.set_palette(\"dark\")\n",
    "\n",
    "DIR_REAL_DATA=\"/Users/lpottier/research/usc-isi/projects/active/workflow-io-bb/data/traces/swarp/\"\n",
    "DIR_SIMU=\"/Users/lpottier/research/usc-isi/projects/active/workflow-io-bb/simulation/output\"\n",
    "\n",
    "fig_size_square = (5, 4)\n",
    "fig_size_rect = (6.5, 4)"
   ]
  },
  {
   "cell_type": "code",
   "execution_count": 2,
   "metadata": {},
   "outputs": [],
   "source": [
    "# csv_file = DIR+\"/simu-bb-runs2020-1c.csv\"\n",
    "# csv_file = DIR+\"/simu-bb_runs2020-Xc.csv\"\n",
    "csv_file_cori = DIR_SIMU+\"/simu-cori-bb-runs2020-32c.csv\"\n",
    "csv_file_summit = DIR_SIMU+\"/simu-summit-bb-runs2020-32c.csv\"\n",
    "\n",
    "CORE=\"32\"\n",
    "PLOT_DIR=os.getcwd()\n",
    "# PLOT_DIR=\"/Users/lpottier/research/usc-isi/projects/paper-workflow-bb/figures/plots/simu-swarp\"\n",
    "\n",
    "OUTPUT = PLOT_DIR+\"/\"+\"simu-bb_runs2020-32c/\""
   ]
  },
  {
   "cell_type": "code",
   "execution_count": 3,
   "metadata": {},
   "outputs": [
    {
     "name": "stdout",
     "output_type": "stream",
     "text": [
      "Directory  /Users/lpottier/research/usc-isi/projects/active/workflow-io-bb/data/traces/notebooks/simu-bb_runs2020-32c/  already exists\n"
     ]
    }
   ],
   "source": [
    "try:\n",
    "    # Create target Directory\n",
    "    os.mkdir(OUTPUT)\n",
    "    print(\"Directory \" , OUTPUT ,  \" Created \") \n",
    "except FileExistsError:\n",
    "    print(\"Directory \" , OUTPUT ,  \" already exists\")"
   ]
  },
  {
   "cell_type": "code",
   "execution_count": 4,
   "metadata": {},
   "outputs": [],
   "source": [
    "df_cori = pd.read_csv(csv_file_cori, sep=' ')\n",
    "df_summit = pd.read_csv(csv_file_summit, sep=' ')\n",
    "\n",
    "df = pd.concat([df_cori, df_summit])\n",
    "df[\"BB_TYPE\"]= df[\"BB_TYPE\"].str.replace(\"SUMMIT\", \"ONNODE\", case = False)\n",
    "\n",
    "df_priv = df[df.BB_TYPE==\"PRIVATE\"]\n",
    "df_strip = df[df.BB_TYPE==\"STRIPED\"]\n",
    "df_onnode = df[df.BB_TYPE==\"ONNODE\"]\n",
    "\n",
    "CORE=\"32\"\n",
    "# print(df.head())\n",
    "# df.rename(columns={\"FILES\": \"BB_NB_FILES\", \"CORES\": \"NB_CORES\"}, errors=\"raise\")\n",
    "\n",
    "df.agg = df.groupby(['ID', 'BB_NB_FILES','FITS', 'BB_TYPE', 'AVG', 'NB_CORES'], as_index=False).agg({'MEASURED_MKSP_S': 'max', 'ERR_MKSP': 'max', 'SIMULATION_S': 'max', 'MEASURED_WALLTIME_S': 'max', 'ERR_WALLTIME': 'max'})"
   ]
  },
  {
   "cell_type": "code",
   "execution_count": 5,
   "metadata": {},
   "outputs": [
    {
     "data": {
      "text/html": [
       "<div>\n",
       "<style scoped>\n",
       "    .dataframe tbody tr th:only-of-type {\n",
       "        vertical-align: middle;\n",
       "    }\n",
       "\n",
       "    .dataframe tbody tr th {\n",
       "        vertical-align: top;\n",
       "    }\n",
       "\n",
       "    .dataframe thead th {\n",
       "        text-align: right;\n",
       "    }\n",
       "</style>\n",
       "<table border=\"1\" class=\"dataframe\">\n",
       "  <thead>\n",
       "    <tr style=\"text-align: right;\">\n",
       "      <th></th>\n",
       "      <th>ID</th>\n",
       "      <th>BB_NB_FILES</th>\n",
       "      <th>FITS</th>\n",
       "      <th>BB_TYPE</th>\n",
       "      <th>AVG</th>\n",
       "      <th>NB_CORES</th>\n",
       "      <th>MEASURED_MKSP_S</th>\n",
       "      <th>ERR_MKSP</th>\n",
       "      <th>SIMULATION_S</th>\n",
       "      <th>MEASURED_WALLTIME_S</th>\n",
       "      <th>ERR_WALLTIME</th>\n",
       "    </tr>\n",
       "  </thead>\n",
       "  <tbody>\n",
       "    <tr>\n",
       "      <th>0</th>\n",
       "      <td>105447</td>\n",
       "      <td>0</td>\n",
       "      <td>N</td>\n",
       "      <td>ONNODE</td>\n",
       "      <td>1</td>\n",
       "      <td>32</td>\n",
       "      <td>16.2751</td>\n",
       "      <td>0.066891</td>\n",
       "      <td>17.3638</td>\n",
       "      <td>20.1700</td>\n",
       "      <td>0.139130</td>\n",
       "    </tr>\n",
       "    <tr>\n",
       "      <th>1</th>\n",
       "      <td>105447</td>\n",
       "      <td>0</td>\n",
       "      <td>N</td>\n",
       "      <td>ONNODE</td>\n",
       "      <td>2</td>\n",
       "      <td>32</td>\n",
       "      <td>16.1151</td>\n",
       "      <td>0.070497</td>\n",
       "      <td>17.2512</td>\n",
       "      <td>19.7145</td>\n",
       "      <td>0.124949</td>\n",
       "    </tr>\n",
       "    <tr>\n",
       "      <th>2</th>\n",
       "      <td>105447</td>\n",
       "      <td>0</td>\n",
       "      <td>N</td>\n",
       "      <td>ONNODE</td>\n",
       "      <td>3</td>\n",
       "      <td>32</td>\n",
       "      <td>16.0451</td>\n",
       "      <td>0.071591</td>\n",
       "      <td>17.1938</td>\n",
       "      <td>19.6162</td>\n",
       "      <td>0.123492</td>\n",
       "    </tr>\n",
       "    <tr>\n",
       "      <th>3</th>\n",
       "      <td>105447</td>\n",
       "      <td>0</td>\n",
       "      <td>N</td>\n",
       "      <td>ONNODE</td>\n",
       "      <td>4</td>\n",
       "      <td>32</td>\n",
       "      <td>15.9331</td>\n",
       "      <td>0.073424</td>\n",
       "      <td>17.1030</td>\n",
       "      <td>19.8365</td>\n",
       "      <td>0.137803</td>\n",
       "    </tr>\n",
       "    <tr>\n",
       "      <th>4</th>\n",
       "      <td>105447</td>\n",
       "      <td>0</td>\n",
       "      <td>N</td>\n",
       "      <td>ONNODE</td>\n",
       "      <td>5</td>\n",
       "      <td>32</td>\n",
       "      <td>16.0931</td>\n",
       "      <td>0.070343</td>\n",
       "      <td>17.2251</td>\n",
       "      <td>20.0598</td>\n",
       "      <td>0.141309</td>\n",
       "    </tr>\n",
       "  </tbody>\n",
       "</table>\n",
       "</div>"
      ],
      "text/plain": [
       "       ID  BB_NB_FILES FITS BB_TYPE  AVG  NB_CORES  MEASURED_MKSP_S  ERR_MKSP  \\\n",
       "0  105447            0    N  ONNODE    1        32          16.2751  0.066891   \n",
       "1  105447            0    N  ONNODE    2        32          16.1151  0.070497   \n",
       "2  105447            0    N  ONNODE    3        32          16.0451  0.071591   \n",
       "3  105447            0    N  ONNODE    4        32          15.9331  0.073424   \n",
       "4  105447            0    N  ONNODE    5        32          16.0931  0.070343   \n",
       "\n",
       "   SIMULATION_S  MEASURED_WALLTIME_S  ERR_WALLTIME  \n",
       "0       17.3638              20.1700      0.139130  \n",
       "1       17.2512              19.7145      0.124949  \n",
       "2       17.1938              19.6162      0.123492  \n",
       "3       17.1030              19.8365      0.137803  \n",
       "4       17.2251              20.0598      0.141309  "
      ]
     },
     "execution_count": 5,
     "metadata": {},
     "output_type": "execute_result"
    }
   ],
   "source": [
    "df.agg.head()"
   ]
  },
  {
   "cell_type": "code",
   "execution_count": 6,
   "metadata": {},
   "outputs": [],
   "source": [
    "df_real_cori = pd.read_csv(DIR_REAL_DATA+\"/shared-cori/bb-runs2020-32c.csv\", sep=' ')\n",
    "df_real_summit = pd.read_csv(DIR_REAL_DATA+\"/private-summit/runs-input-files-32c-1w.csv\", sep=' ')\n",
    "df_real = pd.concat([df_real_cori, df_real_summit])\n",
    "\n",
    "# df.real = df.real.loc[df['BB_NB_FILES'].isin([0,8,16,24,32])]\n",
    "# df.real = df.real[df.real.NB_CORES==int(CORE)]\n",
    "\n",
    "big = pd.merge(df, df_real, on=['ID', 'BB_NB_FILES','FITS', 'BB_TYPE', 'AVG', 'NB_CORES'])\n",
    "\n",
    "bigagg = big.groupby(['ID', 'BB_NB_FILES','FITS', 'BB_TYPE', 'AVG', 'NB_CORES'], as_index=False).agg({'MEASURED_MKSP_S': 'max', 'MAKESPAN_S': 'max', 'SIMULATION_S': 'max', 'MEASURED_WALLTIME_S': 'max', 'ERR_WALLTIME': 'max'})\n"
   ]
  },
  {
   "cell_type": "code",
   "execution_count": 7,
   "metadata": {},
   "outputs": [],
   "source": [
    "bigagg['ERR'] = (abs(bigagg['MAKESPAN_S'] - bigagg['SIMULATION_S']) / bigagg['SIMULATION_S']) *100\n",
    "bigagg.head()\n",
    "bigagg['BB_NB_FILES'] = (bigagg['BB_NB_FILES']*100)/32.0"
   ]
  },
  {
   "cell_type": "code",
   "execution_count": 8,
   "metadata": {},
   "outputs": [
    {
     "name": "stdout",
     "output_type": "stream",
     "text": [
      "         ID  AVG FITS  BB_TYPE     WORKFLOW     PLATFORM  NB_PIPELINE  \\\n",
      "0  30868782    1    Y  PRIVATE  swarp-0.dax  cori-1N.xml            1   \n",
      "1  30868782    2    Y  PRIVATE  swarp-0.dax  cori-1N.xml            1   \n",
      "2  30868782    3    Y  PRIVATE  swarp-0.dax  cori-1N.xml            1   \n",
      "3  30868782    4    Y  PRIVATE  swarp-0.dax  cori-1N.xml            1   \n",
      "4  30868782    5    Y  PRIVATE  swarp-0.dax  cori-1N.xml            1   \n",
      "\n",
      "   PIPELINE  NB_CORES  BB_NB_FILES  DATA_MB  LATENCY  BANDWIDTH  SIMULATION_S  \\\n",
      "0         1        32            0        0     0.75        0.8       41.0987   \n",
      "1         1        32            0        0     0.75        0.8       41.6158   \n",
      "2         1        32            0        0     0.75        0.8       42.3215   \n",
      "3         1        32            0        0     0.75        0.8       40.3284   \n",
      "4         1        32            0        0     0.75        0.8       41.2907   \n",
      "\n",
      "   MEASURED_MKSP_S  ERR_MKSP  MEASURED_WALLTIME_S  ERR_WALLTIME  \n",
      "0          36.3332  0.131161             100.1720      0.589719  \n",
      "1          36.9923  0.124984              88.7094      0.530876  \n",
      "2          38.8133  0.090387              79.8634      0.470076  \n",
      "3          35.3793  0.139886              87.1679      0.537348  \n",
      "4          36.6024  0.128087             110.8430      0.627486  \n",
      "BB_NB_FILES : [ 0 16 24 32  8]\n",
      "BB_TYPE     : ['PRIVATE' 'STRIPED' 'ONNODE']\n",
      "BB_TYPE     : ['Y' 'N']\n",
      "NB_PIPELINE : [1]\n"
     ]
    }
   ],
   "source": [
    "print(df.head())\n",
    "print(\"BB_NB_FILES :\", df.BB_NB_FILES.unique())\n",
    "print(\"BB_TYPE     :\", df.BB_TYPE.unique())\n",
    "print(\"BB_TYPE     :\", df.FITS.unique())\n",
    "print(\"NB_PIPELINE :\", df.NB_PIPELINE.unique())"
   ]
  },
  {
   "cell_type": "code",
   "execution_count": 9,
   "metadata": {},
   "outputs": [],
   "source": [
    "xlabel='Input files in burst buffers (%)'\n",
    "ylabel='Execution time (s)'\n",
    "\n",
    "# name = col.split(\"_\")[0].lower()\n",
    "is_FITS = bigagg['FITS']==\"Y\"\n",
    "is_PRIVATE = bigagg['BB_TYPE']==\"PRIVATE\"\n",
    "is_STRIPED = bigagg['BB_TYPE']==\"STRIPED\"\n",
    "is_ONNODE = bigagg['BB_TYPE']==\"ONNODE\""
   ]
  },
  {
   "cell_type": "code",
   "execution_count": 18,
   "metadata": {},
   "outputs": [
    {
     "data": {
      "image/png": "[encoded data removed]",
      "text/plain": [
       "<Figure size 468x288 with 1 Axes>"
      ]
     },
     "metadata": {
      "needs_background": "light"
     },
     "output_type": "display_data"
    }
   ],
   "source": [
    "\n",
    "f = plt.figure(figsize=fig_size_rect)\n",
    "f.patch.set_alpha(0)\n",
    "\n",
    "g = sns.lineplot(x=\"BB_NB_FILES\", y=\"MAKESPAN_S\", data=bigagg[is_FITS & is_PRIVATE],  color=\"b\", markers=True)\n",
    "g = sns.lineplot(x=\"BB_NB_FILES\", y=\"SIMULATION_S\", data=bigagg[is_FITS & is_PRIVATE],  color=\"g\", markers=True)\n",
    "\n",
    "g.legend(loc='upper left', title='', labels=[\"Measured makespan\", \"Simulated makespan\"], frameon=False)\n",
    "\n",
    "g.set(xlabel=xlabel, ylabel=ylabel,ylim=(30,50))\n",
    "\n",
    "plt.tight_layout()\n",
    "plt.savefig(OUTPUT+'swarp-simu-private-mksp-files.pdf', facecolor=f.get_facecolor(), edgecolor='none')\n",
    "plt.savefig(OUTPUT+'swarp-simu-private-mksp-files.pgf', facecolor=f.get_facecolor(), edgecolor='none')\n",
    "plt.show()"
   ]
  },
  {
   "cell_type": "code",
   "execution_count": 19,
   "metadata": {},
   "outputs": [
    {
     "name": "stdout",
     "output_type": "stream",
     "text": [
      "PRIVATE: min error 0.11973155429999086 , avg error 5.64131712527244 , sd error 4.251196251031856 , max error 21.48152733270499\n"
     ]
    }
   ],
   "source": [
    "print(\"PRIVATE: min error\",\n",
    "    min(bigagg[is_FITS & is_PRIVATE]['ERR']),\n",
    "    \", avg error\",\n",
    "    numpy.mean(bigagg[is_FITS & is_PRIVATE]['ERR']),\n",
    "    \", sd error\",\n",
    "    numpy.std(bigagg[is_FITS & is_PRIVATE]['ERR']),\n",
    "    \", max error\",\n",
    "    max(bigagg[is_FITS & is_PRIVATE]['ERR']),\n",
    ")"
   ]
  },
  {
   "cell_type": "code",
   "execution_count": 20,
   "metadata": {},
   "outputs": [
    {
     "data": {
      "image/png": "[encoded data removed]",
      "text/plain": [
       "<Figure size 468x288 with 1 Axes>"
      ]
     },
     "metadata": {
      "needs_background": "light"
     },
     "output_type": "display_data"
    }
   ],
   "source": [
    "xlabel='Input files in burst buffers (%)'\n",
    "ylabel='Execution time (s)'\n",
    "\n",
    "# name = col.split(\"_\")[0].lower()\n",
    "\n",
    "f = plt.figure(figsize=fig_size_rect)\n",
    "f.patch.set_alpha(0)\n",
    "\n",
    "g = sns.lineplot(x=\"BB_NB_FILES\", y=\"MAKESPAN_S\", data=bigagg[is_STRIPED & is_FITS],  color=\"b\", markers=True)\n",
    "g = sns.lineplot(x=\"BB_NB_FILES\", y=\"SIMULATION_S\", data=bigagg[is_STRIPED & is_FITS],  color=\"g\", markers=True)\n",
    "\n",
    "g.legend(loc='upper left', title='', labels=[\"Measured makespan\", \"Simulated makespan\"], frameon=False)\n",
    "g.set(xlabel=xlabel, ylabel=ylabel,ylim=(60,100))\n",
    "\n",
    "plt.tight_layout()\n",
    "plt.savefig(OUTPUT+'swarp-simu-striped-mksp-files.pdf', facecolor=f.get_facecolor(), edgecolor='none')\n",
    "plt.savefig(OUTPUT+'swarp-simu-striped-mksp-files.pgf', facecolor=f.get_facecolor(), edgecolor='none')\n",
    "plt.show()\n"
   ]
  },
  {
   "cell_type": "code",
   "execution_count": 21,
   "metadata": {},
   "outputs": [
    {
     "name": "stdout",
     "output_type": "stream",
     "text": [
      "STRIPED: min error 6.624341845549455 , avg error 12.847696272151127 , sd error 5.0051931242151 , max error 26.532883562843818\n"
     ]
    }
   ],
   "source": [
    "print(\"STRIPED: min error\",\n",
    "    min(bigagg[is_STRIPED & is_FITS]['ERR']),\n",
    "    \", avg error\",\n",
    "    numpy.mean(bigagg[is_STRIPED & is_FITS]['ERR']),\n",
    "    \", sd error\",\n",
    "    numpy.std(bigagg[is_STRIPED & is_FITS]['ERR']),\n",
    "    \", max error\",\n",
    "    max(bigagg[is_STRIPED & is_FITS]['ERR']),\n",
    ")"
   ]
  },
  {
   "cell_type": "code",
   "execution_count": 22,
   "metadata": {},
   "outputs": [
    {
     "data": {
      "image/png": "[encoded data removed]",
      "text/plain": [
       "<Figure size 468x288 with 1 Axes>"
      ]
     },
     "metadata": {
      "needs_background": "light"
     },
     "output_type": "display_data"
    }
   ],
   "source": [
    "xlabel='Input files in burst buffers (%)'\n",
    "ylabel='Execution time (s)'\n",
    "\n",
    "# name = col.split(\"_\")[0].lower()\n",
    "\n",
    "f = plt.figure(figsize=fig_size_rect)\n",
    "f.patch.set_alpha(0)\n",
    "\n",
    "g = sns.lineplot(x=\"BB_NB_FILES\", y=\"MAKESPAN_S\", data=bigagg[is_ONNODE & is_FITS],  color=\"b\", markers=True)\n",
    "g = sns.lineplot(x=\"BB_NB_FILES\", y=\"SIMULATION_S\", data=bigagg[is_ONNODE & is_FITS],  color=\"g\", markers=True)\n",
    "\n",
    "g.legend(loc='upper left', title='', labels=[\"Measured makespan\", \"Simulated makespan\"], frameon=False)\n",
    "g.set(xlabel=xlabel, ylabel=ylabel,ylim=(12,20))\n",
    "\n",
    "plt.tight_layout()\n",
    "plt.savefig(OUTPUT+'swarp-simu-onnode-mksp-files.pdf', facecolor=f.get_facecolor(), edgecolor='none')\n",
    "plt.savefig(OUTPUT+'swarp-simu-onnode-mksp-files.pgf', facecolor=f.get_facecolor(), edgecolor='none')\n",
    "plt.show()"
   ]
  },
  {
   "cell_type": "code",
   "execution_count": 15,
   "metadata": {},
   "outputs": [
    {
     "name": "stdout",
     "output_type": "stream",
     "text": [
      "ONNODE: min error 1.7702631165787297 , avg error 6.553853558944418 , sd error 3.0325232212422977 , max error 11.128120549389417\n"
     ]
    }
   ],
   "source": [
    "print(\"ONNODE: min error\",\n",
    "    min(bigagg[is_ONNODE & is_FITS]['ERR']),\n",
    "    \", avg error\",\n",
    "    numpy.mean(bigagg[is_ONNODE & is_FITS]['ERR']),\n",
    "    \", sd error\",\n",
    "    numpy.std(bigagg[is_ONNODE & is_FITS]['ERR']),\n",
    "    \", max error\",\n",
    "    max(bigagg[is_ONNODE & is_FITS]['ERR']),\n",
    ")"
   ]
  },
  {
   "cell_type": "code",
   "execution_count": null,
   "metadata": {},
   "outputs": [],
   "source": []
  },
  {
   "cell_type": "code",
   "execution_count": null,
   "metadata": {},
   "outputs": [],
   "source": []
  },
  {
   "cell_type": "code",
   "execution_count": null,
   "metadata": {},
   "outputs": [],
   "source": []
  }
 ],
 "metadata": {
  "kernelspec": {
   "display_name": "Python 3",
   "language": "python",
   "name": "python3"
  },
  "language_info": {
   "codemirror_mode": {
    "name": "ipython",
    "version": 3
   },
   "file_extension": ".py",
   "mimetype": "text/x-python",
   "name": "python",
   "nbconvert_exporter": "python",
   "pygments_lexer": "ipython3",
   "version": "3.7.7"
  }
 },
 "nbformat": 4,
 "nbformat_minor": 2
}
